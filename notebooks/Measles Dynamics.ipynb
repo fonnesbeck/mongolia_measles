{
 "cells": [
  {
   "cell_type": "code",
   "execution_count": 1,
   "metadata": {},
   "outputs": [],
   "source": [
    "%matplotlib inline\n",
    "import numpy as np\n",
    "import pandas as pd\n",
    "import seaborn as sns\n",
    "import geopandas as gpd\n",
    "import matplotlib.pylab as plt\n",
    "\n",
    "sns.set_style('white')\n",
    "\n",
    "DATA = '../data/clean/'"
   ]
  },
  {
   "cell_type": "code",
   "execution_count": 6,
   "metadata": {},
   "outputs": [
    {
     "data": {
      "text/html": [
       "<div>\n",
       "<style scoped>\n",
       "    .dataframe tbody tr th:only-of-type {\n",
       "        vertical-align: middle;\n",
       "    }\n",
       "\n",
       "    .dataframe tbody tr th {\n",
       "        vertical-align: top;\n",
       "    }\n",
       "\n",
       "    .dataframe thead th {\n",
       "        text-align: right;\n",
       "    }\n",
       "</style>\n",
       "<table border=\"1\" class=\"dataframe\">\n",
       "  <thead>\n",
       "    <tr style=\"text-align: right;\">\n",
       "      <th></th>\n",
       "      <th>id</th>\n",
       "      <th>date_onset</th>\n",
       "      <th>provincecity</th>\n",
       "      <th>dob</th>\n",
       "      <th>age_years</th>\n",
       "      <th>died</th>\n",
       "      <th>confirmed</th>\n",
       "      <th>labconfirmed</th>\n",
       "      <th>date_lab</th>\n",
       "      <th>vaccine_ever</th>\n",
       "      <th>male</th>\n",
       "      <th>month_onset</th>\n",
       "      <th>year_onset</th>\n",
       "    </tr>\n",
       "  </thead>\n",
       "  <tbody>\n",
       "    <tr>\n",
       "      <th>0</th>\n",
       "      <td>389.0</td>\n",
       "      <td>2015-03-30</td>\n",
       "      <td>UB</td>\n",
       "      <td>2014-09-01</td>\n",
       "      <td>0.577686</td>\n",
       "      <td>0.0</td>\n",
       "      <td>1.0</td>\n",
       "      <td>1.0</td>\n",
       "      <td>2015-04-06</td>\n",
       "      <td>0.0</td>\n",
       "      <td>True</td>\n",
       "      <td>3.0</td>\n",
       "      <td>2015.0</td>\n",
       "    </tr>\n",
       "    <tr>\n",
       "      <th>1</th>\n",
       "      <td>707.0</td>\n",
       "      <td>2015-04-03</td>\n",
       "      <td>UB</td>\n",
       "      <td>2013-02-02</td>\n",
       "      <td>2.162902</td>\n",
       "      <td>1.0</td>\n",
       "      <td>1.0</td>\n",
       "      <td>1.0</td>\n",
       "      <td>2015-04-04</td>\n",
       "      <td>0.0</td>\n",
       "      <td>True</td>\n",
       "      <td>4.0</td>\n",
       "      <td>2015.0</td>\n",
       "    </tr>\n",
       "    <tr>\n",
       "      <th>2</th>\n",
       "      <td>1762.0</td>\n",
       "      <td>2015-04-14</td>\n",
       "      <td>KhU</td>\n",
       "      <td>2015-01-04</td>\n",
       "      <td>0.279261</td>\n",
       "      <td>1.0</td>\n",
       "      <td>1.0</td>\n",
       "      <td>0.0</td>\n",
       "      <td>NaN</td>\n",
       "      <td>0.0</td>\n",
       "      <td>True</td>\n",
       "      <td>4.0</td>\n",
       "      <td>2015.0</td>\n",
       "    </tr>\n",
       "    <tr>\n",
       "      <th>3</th>\n",
       "      <td>2061.0</td>\n",
       "      <td>2015-04-22</td>\n",
       "      <td>UB</td>\n",
       "      <td>2014-09-23</td>\n",
       "      <td>0.577686</td>\n",
       "      <td>0.0</td>\n",
       "      <td>1.0</td>\n",
       "      <td>1.0</td>\n",
       "      <td>2015-04-24</td>\n",
       "      <td>0.0</td>\n",
       "      <td>True</td>\n",
       "      <td>4.0</td>\n",
       "      <td>2015.0</td>\n",
       "    </tr>\n",
       "    <tr>\n",
       "      <th>4</th>\n",
       "      <td>6465.0</td>\n",
       "      <td>2015-05-12</td>\n",
       "      <td>UB</td>\n",
       "      <td>2013-12-18</td>\n",
       "      <td>1.314168</td>\n",
       "      <td>1.0</td>\n",
       "      <td>0.0</td>\n",
       "      <td>0.0</td>\n",
       "      <td>NaN</td>\n",
       "      <td>0.0</td>\n",
       "      <td>False</td>\n",
       "      <td>5.0</td>\n",
       "      <td>2015.0</td>\n",
       "    </tr>\n",
       "  </tbody>\n",
       "</table>\n",
       "</div>"
      ],
      "text/plain": [
       "       id  date_onset provincecity         dob  age_years  died  confirmed  \\\n",
       "0   389.0  2015-03-30           UB  2014-09-01   0.577686   0.0        1.0   \n",
       "1   707.0  2015-04-03           UB  2013-02-02   2.162902   1.0        1.0   \n",
       "2  1762.0  2015-04-14          KhU  2015-01-04   0.279261   1.0        1.0   \n",
       "3  2061.0  2015-04-22           UB  2014-09-23   0.577686   0.0        1.0   \n",
       "4  6465.0  2015-05-12           UB  2013-12-18   1.314168   1.0        0.0   \n",
       "\n",
       "   labconfirmed    date_lab  vaccine_ever   male  month_onset  year_onset  \n",
       "0           1.0  2015-04-06           0.0   True          3.0      2015.0  \n",
       "1           1.0  2015-04-04           0.0   True          4.0      2015.0  \n",
       "2           0.0         NaN           0.0   True          4.0      2015.0  \n",
       "3           1.0  2015-04-24           0.0   True          4.0      2015.0  \n",
       "4           0.0         NaN           0.0  False          5.0      2015.0  "
      ]
     },
     "execution_count": 6,
     "metadata": {},
     "output_type": "execute_result"
    }
   ],
   "source": [
    "line_list = pd.read_csv(DATA + 'line_list.csv')\n",
    "line_list.head()"
   ]
  },
  {
   "cell_type": "code",
   "execution_count": 9,
   "metadata": {},
   "outputs": [
    {
     "data": {
      "text/html": [
       "<div>\n",
       "<style scoped>\n",
       "    .dataframe tbody tr th:only-of-type {\n",
       "        vertical-align: middle;\n",
       "    }\n",
       "\n",
       "    .dataframe tbody tr th {\n",
       "        vertical-align: top;\n",
       "    }\n",
       "\n",
       "    .dataframe thead th {\n",
       "        text-align: right;\n",
       "    }\n",
       "</style>\n",
       "<table border=\"1\" class=\"dataframe\">\n",
       "  <thead>\n",
       "    <tr style=\"text-align: right;\">\n",
       "      <th></th>\n",
       "      <th>[0, 5)</th>\n",
       "      <th>[5, 10)</th>\n",
       "      <th>[10, 15)</th>\n",
       "      <th>[15, 20)</th>\n",
       "      <th>[20, 25)</th>\n",
       "      <th>[25, 30)</th>\n",
       "      <th>[30, 35)</th>\n",
       "      <th>[35, 40)</th>\n",
       "      <th>[40, 100)</th>\n",
       "    </tr>\n",
       "    <tr>\n",
       "      <th>date_onset</th>\n",
       "      <th></th>\n",
       "      <th></th>\n",
       "      <th></th>\n",
       "      <th></th>\n",
       "      <th></th>\n",
       "      <th></th>\n",
       "      <th></th>\n",
       "      <th></th>\n",
       "      <th></th>\n",
       "    </tr>\n",
       "  </thead>\n",
       "  <tbody>\n",
       "    <tr>\n",
       "      <th>2015-01-18</th>\n",
       "      <td>1.0</td>\n",
       "      <td>0.0</td>\n",
       "      <td>0.0</td>\n",
       "      <td>0.0</td>\n",
       "      <td>0.0</td>\n",
       "      <td>0.0</td>\n",
       "      <td>0.0</td>\n",
       "      <td>0.0</td>\n",
       "      <td>0.0</td>\n",
       "    </tr>\n",
       "    <tr>\n",
       "      <th>2015-02-01</th>\n",
       "      <td>0.0</td>\n",
       "      <td>0.0</td>\n",
       "      <td>0.0</td>\n",
       "      <td>0.0</td>\n",
       "      <td>0.0</td>\n",
       "      <td>0.0</td>\n",
       "      <td>0.0</td>\n",
       "      <td>0.0</td>\n",
       "      <td>0.0</td>\n",
       "    </tr>\n",
       "    <tr>\n",
       "      <th>2015-02-15</th>\n",
       "      <td>0.0</td>\n",
       "      <td>0.0</td>\n",
       "      <td>0.0</td>\n",
       "      <td>0.0</td>\n",
       "      <td>0.0</td>\n",
       "      <td>0.0</td>\n",
       "      <td>0.0</td>\n",
       "      <td>0.0</td>\n",
       "      <td>0.0</td>\n",
       "    </tr>\n",
       "    <tr>\n",
       "      <th>2015-03-01</th>\n",
       "      <td>0.0</td>\n",
       "      <td>0.0</td>\n",
       "      <td>0.0</td>\n",
       "      <td>0.0</td>\n",
       "      <td>0.0</td>\n",
       "      <td>0.0</td>\n",
       "      <td>0.0</td>\n",
       "      <td>0.0</td>\n",
       "      <td>0.0</td>\n",
       "    </tr>\n",
       "    <tr>\n",
       "      <th>2015-03-15</th>\n",
       "      <td>3.0</td>\n",
       "      <td>0.0</td>\n",
       "      <td>0.0</td>\n",
       "      <td>0.0</td>\n",
       "      <td>0.0</td>\n",
       "      <td>1.0</td>\n",
       "      <td>2.0</td>\n",
       "      <td>3.0</td>\n",
       "      <td>0.0</td>\n",
       "    </tr>\n",
       "  </tbody>\n",
       "</table>\n",
       "</div>"
      ],
      "text/plain": [
       "            [0, 5)  [5, 10)  [10, 15)  [15, 20)  [20, 25)  [25, 30)  [30, 35)  \\\n",
       "date_onset                                                                      \n",
       "2015-01-18     1.0      0.0       0.0       0.0       0.0       0.0       0.0   \n",
       "2015-02-01     0.0      0.0       0.0       0.0       0.0       0.0       0.0   \n",
       "2015-02-15     0.0      0.0       0.0       0.0       0.0       0.0       0.0   \n",
       "2015-03-01     0.0      0.0       0.0       0.0       0.0       0.0       0.0   \n",
       "2015-03-15     3.0      0.0       0.0       0.0       0.0       1.0       2.0   \n",
       "\n",
       "            [35, 40)  [40, 100)  \n",
       "date_onset                       \n",
       "2015-01-18       0.0        0.0  \n",
       "2015-02-01       0.0        0.0  \n",
       "2015-02-15       0.0        0.0  \n",
       "2015-03-01       0.0        0.0  \n",
       "2015-03-15       3.0        0.0  "
      ]
     },
     "execution_count": 9,
     "metadata": {},
     "output_type": "execute_result"
    }
   ],
   "source": [
    "confirmed_counts = pd.read_csv(DATA + 'confirmed_counts.csv', index_col=0)\n",
    "confirmed_counts.head()"
   ]
  },
  {
   "cell_type": "markdown",
   "metadata": {},
   "source": [
    "Births in 2015 and 2016 (Source: [Wikipedia](https://en.wikipedia.org/wiki/Demographics_of_Mongolia#Registered_births_and_deaths))"
   ]
  },
  {
   "cell_type": "code",
   "execution_count": 10,
   "metadata": {},
   "outputs": [],
   "source": [
    "births = 82130, 79920"
   ]
  },
  {
   "cell_type": "markdown",
   "metadata": {},
   "source": [
    "Contact matrix from [Prem et al. 2017](http://journals.plos.org/ploscompbiol/article?id=10.1371/journal.pcbi.1005697#sec020)"
   ]
  },
  {
   "cell_type": "code",
   "execution_count": 14,
   "metadata": {},
   "outputs": [
    {
     "data": {
      "text/plain": [
       "array([[ 4.40123661,  1.76393655,  0.91943738,  0.62449763,  1.04620724,\n",
       "         1.48232365,  1.59726926,  1.27263358,  0.69913779],\n",
       "       [ 1.51664206,  5.57982055,  1.63679975,  0.52656607,  0.37649241,\n",
       "         0.83552993,  1.0698524 ,  1.04200163,  0.77666399],\n",
       "       [ 0.56530473,  2.43013564,  9.17372545,  1.33873141,  0.67890573,\n",
       "         0.56166434,  0.75227034,  0.97884946,  0.97725743],\n",
       "       [ 0.36238309,  0.73595028,  3.88089151, 12.32915786,  2.48410474,\n",
       "         1.11449654,  0.79194079,  1.04438411,  1.08448104],\n",
       "       [ 0.69060422,  0.49460207,  0.65441906,  4.38870495,  6.8744335 ,\n",
       "         2.87783706,  1.69684851,  1.35746918,  1.11479572],\n",
       "       [ 1.13165827,  0.59517343,  0.33830222,  1.24692768,  3.31035503,\n",
       "         4.03747616,  2.29742657,  1.66957878,  1.29603167],\n",
       "       [ 1.11906529,  1.42978486,  1.12904181,  0.68832499,  1.51871499,\n",
       "         2.32775238,  2.87889204,  2.1302899 ,  1.51514744],\n",
       "       [ 1.0230335 ,  1.46318255,  1.28889523,  0.93261004,  0.98836616,\n",
       "         1.65427852,  2.02270357,  2.65928253,  2.02562053],\n",
       "       [ 0.63654838,  1.05024748,  1.28670258,  1.37093328,  1.13235301,\n",
       "         1.33195969,  1.699263  ,  1.87162165,  2.21015242]])"
      ]
     },
     "execution_count": 14,
     "metadata": {},
     "output_type": "execute_result"
    }
   ],
   "source": [
    "B_prem = pd.read_csv(DATA + 'mongolia_prem.csv').values[:9, :9]\n",
    "B_prem"
   ]
  },
  {
   "cell_type": "markdown",
   "metadata": {},
   "source": [
    "$R_0$ as estimated from contact matrix"
   ]
  },
  {
   "cell_type": "code",
   "execution_count": 15,
   "metadata": {},
   "outputs": [
    {
     "data": {
      "text/plain": [
       "17.686930739035105"
      ]
     },
     "execution_count": 15,
     "metadata": {},
     "output_type": "execute_result"
    }
   ],
   "source": [
    "evs = np.linalg.eigvals(B_prem).real\n",
    "max(evs[np.isreal(evs)])"
   ]
  }
 ],
 "metadata": {
  "kernelspec": {
   "display_name": "Python 3",
   "language": "python",
   "name": "python3"
  },
  "language_info": {
   "codemirror_mode": {
    "name": "ipython",
    "version": 3
   },
   "file_extension": ".py",
   "mimetype": "text/x-python",
   "name": "python",
   "nbconvert_exporter": "python",
   "pygments_lexer": "ipython3",
   "version": "3.6.3"
  }
 },
 "nbformat": 4,
 "nbformat_minor": 2
}
