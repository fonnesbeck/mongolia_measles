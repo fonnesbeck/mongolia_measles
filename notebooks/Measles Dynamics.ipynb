{
 "cells": [
  {
   "cell_type": "code",
   "execution_count": 1,
   "metadata": {},
   "outputs": [],
   "source": [
    "%matplotlib inline\n",
    "import numpy as np\n",
    "import pandas as pd\n",
    "import seaborn as sns\n",
    "import geopandas as gpd\n",
    "import pymc3 as pm\n",
    "import matplotlib.pylab as plt\n",
    "import theano.tensor as tt\n",
    "sns.set_style('white')\n",
    "\n",
    "DATA = '../data/clean/'"
   ]
  },
  {
   "cell_type": "markdown",
   "metadata": {},
   "source": [
    "Check for the number of available compute cores"
   ]
  },
  {
   "cell_type": "code",
   "execution_count": 2,
   "metadata": {},
   "outputs": [
    {
     "data": {
      "text/plain": [
       "4"
      ]
     },
     "execution_count": 2,
     "metadata": {},
     "output_type": "execute_result"
    }
   ],
   "source": [
    "import multiprocessing\n",
    "\n",
    "multiprocessing.cpu_count()"
   ]
  },
  {
   "cell_type": "markdown",
   "metadata": {},
   "source": [
    "## Data import\n",
    "\n",
    "Line list to extract cases"
   ]
  },
  {
   "cell_type": "code",
   "execution_count": 3,
   "metadata": {},
   "outputs": [
    {
     "data": {
      "text/html": [
       "<div>\n",
       "<style scoped>\n",
       "    .dataframe tbody tr th:only-of-type {\n",
       "        vertical-align: middle;\n",
       "    }\n",
       "\n",
       "    .dataframe tbody tr th {\n",
       "        vertical-align: top;\n",
       "    }\n",
       "\n",
       "    .dataframe thead th {\n",
       "        text-align: right;\n",
       "    }\n",
       "</style>\n",
       "<table border=\"1\" class=\"dataframe\">\n",
       "  <thead>\n",
       "    <tr style=\"text-align: right;\">\n",
       "      <th></th>\n",
       "      <th>id</th>\n",
       "      <th>date_onset</th>\n",
       "      <th>provincecity</th>\n",
       "      <th>dob</th>\n",
       "      <th>age_years</th>\n",
       "      <th>died</th>\n",
       "      <th>confirmed</th>\n",
       "      <th>labconfirmed</th>\n",
       "      <th>date_lab</th>\n",
       "      <th>vaccine_ever</th>\n",
       "      <th>male</th>\n",
       "      <th>month_onset</th>\n",
       "      <th>year_onset</th>\n",
       "    </tr>\n",
       "  </thead>\n",
       "  <tbody>\n",
       "    <tr>\n",
       "      <th>0</th>\n",
       "      <td>389.0</td>\n",
       "      <td>2015-03-30</td>\n",
       "      <td>UB</td>\n",
       "      <td>2014-09-01</td>\n",
       "      <td>0.577686</td>\n",
       "      <td>0.0</td>\n",
       "      <td>1.0</td>\n",
       "      <td>1.0</td>\n",
       "      <td>2015-04-06</td>\n",
       "      <td>0.0</td>\n",
       "      <td>True</td>\n",
       "      <td>3.0</td>\n",
       "      <td>2015.0</td>\n",
       "    </tr>\n",
       "    <tr>\n",
       "      <th>1</th>\n",
       "      <td>707.0</td>\n",
       "      <td>2015-04-03</td>\n",
       "      <td>UB</td>\n",
       "      <td>2013-02-02</td>\n",
       "      <td>2.162902</td>\n",
       "      <td>1.0</td>\n",
       "      <td>1.0</td>\n",
       "      <td>1.0</td>\n",
       "      <td>2015-04-04</td>\n",
       "      <td>0.0</td>\n",
       "      <td>True</td>\n",
       "      <td>4.0</td>\n",
       "      <td>2015.0</td>\n",
       "    </tr>\n",
       "    <tr>\n",
       "      <th>2</th>\n",
       "      <td>1762.0</td>\n",
       "      <td>2015-04-14</td>\n",
       "      <td>KhU</td>\n",
       "      <td>2015-01-04</td>\n",
       "      <td>0.279261</td>\n",
       "      <td>1.0</td>\n",
       "      <td>1.0</td>\n",
       "      <td>0.0</td>\n",
       "      <td>NaN</td>\n",
       "      <td>0.0</td>\n",
       "      <td>True</td>\n",
       "      <td>4.0</td>\n",
       "      <td>2015.0</td>\n",
       "    </tr>\n",
       "    <tr>\n",
       "      <th>3</th>\n",
       "      <td>2061.0</td>\n",
       "      <td>2015-04-22</td>\n",
       "      <td>UB</td>\n",
       "      <td>2014-09-23</td>\n",
       "      <td>0.577686</td>\n",
       "      <td>0.0</td>\n",
       "      <td>1.0</td>\n",
       "      <td>1.0</td>\n",
       "      <td>2015-04-24</td>\n",
       "      <td>0.0</td>\n",
       "      <td>True</td>\n",
       "      <td>4.0</td>\n",
       "      <td>2015.0</td>\n",
       "    </tr>\n",
       "    <tr>\n",
       "      <th>4</th>\n",
       "      <td>6465.0</td>\n",
       "      <td>2015-05-12</td>\n",
       "      <td>UB</td>\n",
       "      <td>2013-12-18</td>\n",
       "      <td>1.314168</td>\n",
       "      <td>1.0</td>\n",
       "      <td>0.0</td>\n",
       "      <td>0.0</td>\n",
       "      <td>NaN</td>\n",
       "      <td>0.0</td>\n",
       "      <td>False</td>\n",
       "      <td>5.0</td>\n",
       "      <td>2015.0</td>\n",
       "    </tr>\n",
       "  </tbody>\n",
       "</table>\n",
       "</div>"
      ],
      "text/plain": [
       "       id  date_onset provincecity         dob  age_years  died  confirmed  \\\n",
       "0   389.0  2015-03-30           UB  2014-09-01   0.577686   0.0        1.0   \n",
       "1   707.0  2015-04-03           UB  2013-02-02   2.162902   1.0        1.0   \n",
       "2  1762.0  2015-04-14          KhU  2015-01-04   0.279261   1.0        1.0   \n",
       "3  2061.0  2015-04-22           UB  2014-09-23   0.577686   0.0        1.0   \n",
       "4  6465.0  2015-05-12           UB  2013-12-18   1.314168   1.0        0.0   \n",
       "\n",
       "   labconfirmed    date_lab  vaccine_ever   male  month_onset  year_onset  \n",
       "0           1.0  2015-04-06           0.0   True          3.0      2015.0  \n",
       "1           1.0  2015-04-04           0.0   True          4.0      2015.0  \n",
       "2           0.0         NaN           0.0   True          4.0      2015.0  \n",
       "3           1.0  2015-04-24           0.0   True          4.0      2015.0  \n",
       "4           0.0         NaN           0.0  False          5.0      2015.0  "
      ]
     },
     "execution_count": 3,
     "metadata": {},
     "output_type": "execute_result"
    }
   ],
   "source": [
    "line_list = pd.read_csv(DATA + 'line_list.csv')\n",
    "line_list.head()"
   ]
  },
  {
   "cell_type": "markdown",
   "metadata": {},
   "source": [
    "Extract and plot confirmed counts"
   ]
  },
  {
   "cell_type": "code",
   "execution_count": 4,
   "metadata": {},
   "outputs": [
    {
     "data": {
      "text/html": [
       "<div>\n",
       "<style scoped>\n",
       "    .dataframe tbody tr th:only-of-type {\n",
       "        vertical-align: middle;\n",
       "    }\n",
       "\n",
       "    .dataframe tbody tr th {\n",
       "        vertical-align: top;\n",
       "    }\n",
       "\n",
       "    .dataframe thead th {\n",
       "        text-align: right;\n",
       "    }\n",
       "</style>\n",
       "<table border=\"1\" class=\"dataframe\">\n",
       "  <thead>\n",
       "    <tr style=\"text-align: right;\">\n",
       "      <th></th>\n",
       "      <th>[0, 5)</th>\n",
       "      <th>[5, 10)</th>\n",
       "      <th>[10, 15)</th>\n",
       "      <th>[15, 20)</th>\n",
       "      <th>[20, 25)</th>\n",
       "      <th>[25, 30)</th>\n",
       "      <th>[30, 35)</th>\n",
       "      <th>[35, 40)</th>\n",
       "      <th>[40, 100)</th>\n",
       "    </tr>\n",
       "    <tr>\n",
       "      <th>date_onset</th>\n",
       "      <th></th>\n",
       "      <th></th>\n",
       "      <th></th>\n",
       "      <th></th>\n",
       "      <th></th>\n",
       "      <th></th>\n",
       "      <th></th>\n",
       "      <th></th>\n",
       "      <th></th>\n",
       "    </tr>\n",
       "  </thead>\n",
       "  <tbody>\n",
       "    <tr>\n",
       "      <th>2016-05-08</th>\n",
       "      <td>415.0</td>\n",
       "      <td>83.0</td>\n",
       "      <td>119.0</td>\n",
       "      <td>180.0</td>\n",
       "      <td>155.0</td>\n",
       "      <td>152.0</td>\n",
       "      <td>109.0</td>\n",
       "      <td>63.0</td>\n",
       "      <td>41.0</td>\n",
       "    </tr>\n",
       "    <tr>\n",
       "      <th>2016-05-22</th>\n",
       "      <td>372.0</td>\n",
       "      <td>58.0</td>\n",
       "      <td>81.0</td>\n",
       "      <td>131.0</td>\n",
       "      <td>141.0</td>\n",
       "      <td>105.0</td>\n",
       "      <td>87.0</td>\n",
       "      <td>40.0</td>\n",
       "      <td>36.0</td>\n",
       "    </tr>\n",
       "    <tr>\n",
       "      <th>2016-06-05</th>\n",
       "      <td>250.0</td>\n",
       "      <td>39.0</td>\n",
       "      <td>53.0</td>\n",
       "      <td>70.0</td>\n",
       "      <td>62.0</td>\n",
       "      <td>40.0</td>\n",
       "      <td>45.0</td>\n",
       "      <td>20.0</td>\n",
       "      <td>21.0</td>\n",
       "    </tr>\n",
       "    <tr>\n",
       "      <th>2016-06-19</th>\n",
       "      <td>98.0</td>\n",
       "      <td>7.0</td>\n",
       "      <td>21.0</td>\n",
       "      <td>17.0</td>\n",
       "      <td>13.0</td>\n",
       "      <td>3.0</td>\n",
       "      <td>15.0</td>\n",
       "      <td>12.0</td>\n",
       "      <td>7.0</td>\n",
       "    </tr>\n",
       "    <tr>\n",
       "      <th>2016-07-03</th>\n",
       "      <td>12.0</td>\n",
       "      <td>1.0</td>\n",
       "      <td>0.0</td>\n",
       "      <td>0.0</td>\n",
       "      <td>0.0</td>\n",
       "      <td>3.0</td>\n",
       "      <td>0.0</td>\n",
       "      <td>0.0</td>\n",
       "      <td>2.0</td>\n",
       "    </tr>\n",
       "  </tbody>\n",
       "</table>\n",
       "</div>"
      ],
      "text/plain": [
       "            [0, 5)  [5, 10)  [10, 15)  [15, 20)  [20, 25)  [25, 30)  [30, 35)  \\\n",
       "date_onset                                                                      \n",
       "2016-05-08   415.0     83.0     119.0     180.0     155.0     152.0     109.0   \n",
       "2016-05-22   372.0     58.0      81.0     131.0     141.0     105.0      87.0   \n",
       "2016-06-05   250.0     39.0      53.0      70.0      62.0      40.0      45.0   \n",
       "2016-06-19    98.0      7.0      21.0      17.0      13.0       3.0      15.0   \n",
       "2016-07-03    12.0      1.0       0.0       0.0       0.0       3.0       0.0   \n",
       "\n",
       "            [35, 40)  [40, 100)  \n",
       "date_onset                       \n",
       "2016-05-08      63.0       41.0  \n",
       "2016-05-22      40.0       36.0  \n",
       "2016-06-05      20.0       21.0  \n",
       "2016-06-19      12.0        7.0  \n",
       "2016-07-03       0.0        2.0  "
      ]
     },
     "execution_count": 4,
     "metadata": {},
     "output_type": "execute_result"
    }
   ],
   "source": [
    "confirmed_counts = pd.read_csv(DATA + 'confirmed_counts.csv', index_col=0)\n",
    "confirmed_counts.tail()"
   ]
  },
  {
   "cell_type": "code",
   "execution_count": 5,
   "metadata": {},
   "outputs": [
    {
     "data": {
      "image/png": "[encoded data removed]",
      "text/plain": [
       "<Figure size 432x288 with 1 Axes>"
      ]
     },
     "metadata": {
      "needs_background": "light"
     },
     "output_type": "display_data"
    }
   ],
   "source": [
    "confirmed_counts.plot(cmap='viridis');"
   ]
  },
  {
   "cell_type": "markdown",
   "metadata": {},
   "source": [
    "In order to account for change in the underlying population, we need the number of births in 2015 and 2016 (Source: [Wikipedia](https://en.wikipedia.org/wiki/Demographics_of_Mongolia#Registered_births_and_deaths))"
   ]
  },
  {
   "cell_type": "code",
   "execution_count": 6,
   "metadata": {},
   "outputs": [],
   "source": [
    "births = 82130, 79920"
   ]
  },
  {
   "cell_type": "markdown",
   "metadata": {},
   "source": [
    "We will employ the contact matrix for Mongolia, as estimated by [Prem et al. 2017](http://journals.plos.org/ploscompbiol/article?id=10.1371/journal.pcbi.1005697#sec020)"
   ]
  },
  {
   "cell_type": "code",
   "execution_count": 7,
   "metadata": {},
   "outputs": [
    {
     "data": {
      "text/plain": [
       "array([[ 4.40123661,  1.76393655,  0.91943738,  0.62449763,  1.04620724,\n",
       "         1.48232365,  1.59726926,  1.27263358,  0.69913779],\n",
       "       [ 1.51664206,  5.57982055,  1.63679975,  0.52656607,  0.37649241,\n",
       "         0.83552993,  1.0698524 ,  1.04200163,  0.77666399],\n",
       "       [ 0.56530473,  2.43013564,  9.17372545,  1.33873141,  0.67890573,\n",
       "         0.56166434,  0.75227034,  0.97884946,  0.97725743],\n",
       "       [ 0.36238309,  0.73595028,  3.88089151, 12.32915786,  2.48410474,\n",
       "         1.11449654,  0.79194079,  1.04438411,  1.08448104],\n",
       "       [ 0.69060422,  0.49460207,  0.65441906,  4.38870495,  6.8744335 ,\n",
       "         2.87783706,  1.69684851,  1.35746918,  1.11479572],\n",
       "       [ 1.13165827,  0.59517343,  0.33830222,  1.24692768,  3.31035503,\n",
       "         4.03747616,  2.29742657,  1.66957878,  1.29603167],\n",
       "       [ 1.11906529,  1.42978486,  1.12904181,  0.68832499,  1.51871499,\n",
       "         2.32775238,  2.87889204,  2.1302899 ,  1.51514744],\n",
       "       [ 1.0230335 ,  1.46318255,  1.28889523,  0.93261004,  0.98836616,\n",
       "         1.65427852,  2.02270357,  2.65928253,  2.02562053],\n",
       "       [ 0.63654838,  1.05024748,  1.28670258,  1.37093328,  1.13235301,\n",
       "         1.33195969,  1.699263  ,  1.87162165,  2.21015242]])"
      ]
     },
     "execution_count": 7,
     "metadata": {},
     "output_type": "execute_result"
    }
   ],
   "source": [
    "B_prem = pd.read_csv(DATA + 'mongolia_prem.csv').values[:9, :9]\n",
    "B_prem"
   ]
  },
  {
   "cell_type": "markdown",
   "metadata": {},
   "source": [
    "$R_0$ as estimated from this contact matrix"
   ]
  },
  {
   "cell_type": "code",
   "execution_count": 8,
   "metadata": {},
   "outputs": [
    {
     "data": {
      "text/plain": [
       "17.686930739035084"
      ]
     },
     "execution_count": 8,
     "metadata": {},
     "output_type": "execute_result"
    }
   ],
   "source": [
    "evs = np.linalg.eigvals(B_prem).real\n",
    "max(evs[np.isreal(evs)])"
   ]
  },
  {
   "cell_type": "markdown",
   "metadata": {},
   "source": [
    "Import the underlying population sizes, by province:"
   ]
  },
  {
   "cell_type": "code",
   "execution_count": 9,
   "metadata": {},
   "outputs": [
    {
     "data": {
      "text/html": [
       "<div>\n",
       "<style scoped>\n",
       "    .dataframe tbody tr th:only-of-type {\n",
       "        vertical-align: middle;\n",
       "    }\n",
       "\n",
       "    .dataframe tbody tr th {\n",
       "        vertical-align: top;\n",
       "    }\n",
       "\n",
       "    .dataframe thead th {\n",
       "        text-align: right;\n",
       "    }\n",
       "</style>\n",
       "<table border=\"1\" class=\"dataframe\">\n",
       "  <thead>\n",
       "    <tr style=\"text-align: right;\">\n",
       "      <th></th>\n",
       "      <th>Total</th>\n",
       "      <th>0-4</th>\n",
       "      <th>5-9</th>\n",
       "      <th>10-14</th>\n",
       "      <th>15-19</th>\n",
       "      <th>20-24</th>\n",
       "      <th>25-29</th>\n",
       "      <th>30-34</th>\n",
       "      <th>35-39</th>\n",
       "      <th>40-44</th>\n",
       "      <th>45-49</th>\n",
       "      <th>50-54</th>\n",
       "      <th>55-59</th>\n",
       "      <th>60-64</th>\n",
       "      <th>65-69</th>\n",
       "      <th>70+</th>\n",
       "    </tr>\n",
       "    <tr>\n",
       "      <th>Province</th>\n",
       "      <th></th>\n",
       "      <th></th>\n",
       "      <th></th>\n",
       "      <th></th>\n",
       "      <th></th>\n",
       "      <th></th>\n",
       "      <th></th>\n",
       "      <th></th>\n",
       "      <th></th>\n",
       "      <th></th>\n",
       "      <th></th>\n",
       "      <th></th>\n",
       "      <th></th>\n",
       "      <th></th>\n",
       "      <th></th>\n",
       "      <th></th>\n",
       "    </tr>\n",
       "  </thead>\n",
       "  <tbody>\n",
       "    <tr>\n",
       "      <th>Arkhangai</th>\n",
       "      <td>92896</td>\n",
       "      <td>10440</td>\n",
       "      <td>8360</td>\n",
       "      <td>7883</td>\n",
       "      <td>9249</td>\n",
       "      <td>9469</td>\n",
       "      <td>8207</td>\n",
       "      <td>6856</td>\n",
       "      <td>6824</td>\n",
       "      <td>6294</td>\n",
       "      <td>5498</td>\n",
       "      <td>4643</td>\n",
       "      <td>3266</td>\n",
       "      <td>2202</td>\n",
       "      <td>1237</td>\n",
       "      <td>2468</td>\n",
       "    </tr>\n",
       "    <tr>\n",
       "      <th>Bayan-Ulgii</th>\n",
       "      <td>93165</td>\n",
       "      <td>11655</td>\n",
       "      <td>10219</td>\n",
       "      <td>9929</td>\n",
       "      <td>8794</td>\n",
       "      <td>8872</td>\n",
       "      <td>8531</td>\n",
       "      <td>7207</td>\n",
       "      <td>6199</td>\n",
       "      <td>5713</td>\n",
       "      <td>4633</td>\n",
       "      <td>3842</td>\n",
       "      <td>2747</td>\n",
       "      <td>1665</td>\n",
       "      <td>1006</td>\n",
       "      <td>2153</td>\n",
       "    </tr>\n",
       "    <tr>\n",
       "      <th>Bayankhongor</th>\n",
       "      <td>79310</td>\n",
       "      <td>9760</td>\n",
       "      <td>7429</td>\n",
       "      <td>6675</td>\n",
       "      <td>7812</td>\n",
       "      <td>7992</td>\n",
       "      <td>7436</td>\n",
       "      <td>6280</td>\n",
       "      <td>5806</td>\n",
       "      <td>5165</td>\n",
       "      <td>4383</td>\n",
       "      <td>3714</td>\n",
       "      <td>2436</td>\n",
       "      <td>1480</td>\n",
       "      <td>1008</td>\n",
       "      <td>1934</td>\n",
       "    </tr>\n",
       "    <tr>\n",
       "      <th>Bulgan</th>\n",
       "      <td>60324</td>\n",
       "      <td>6415</td>\n",
       "      <td>5351</td>\n",
       "      <td>4556</td>\n",
       "      <td>5423</td>\n",
       "      <td>5587</td>\n",
       "      <td>4977</td>\n",
       "      <td>4499</td>\n",
       "      <td>4592</td>\n",
       "      <td>4426</td>\n",
       "      <td>4066</td>\n",
       "      <td>3494</td>\n",
       "      <td>2619</td>\n",
       "      <td>1666</td>\n",
       "      <td>877</td>\n",
       "      <td>1776</td>\n",
       "    </tr>\n",
       "    <tr>\n",
       "      <th>Gobi-Altai</th>\n",
       "      <td>56698</td>\n",
       "      <td>5953</td>\n",
       "      <td>5392</td>\n",
       "      <td>5046</td>\n",
       "      <td>5778</td>\n",
       "      <td>5631</td>\n",
       "      <td>4837</td>\n",
       "      <td>4401</td>\n",
       "      <td>4345</td>\n",
       "      <td>3994</td>\n",
       "      <td>3389</td>\n",
       "      <td>2730</td>\n",
       "      <td>1974</td>\n",
       "      <td>1064</td>\n",
       "      <td>706</td>\n",
       "      <td>1458</td>\n",
       "    </tr>\n",
       "  </tbody>\n",
       "</table>\n",
       "</div>"
      ],
      "text/plain": [
       "              Total    0-4    5-9   10-14   15-19   20-24   25-29   30-34  \\\n",
       "Province                                                                    \n",
       "Arkhangai     92896  10440   8360    7883    9249    9469    8207    6856   \n",
       "Bayan-Ulgii   93165  11655  10219    9929    8794    8872    8531    7207   \n",
       "Bayankhongor  79310   9760   7429    6675    7812    7992    7436    6280   \n",
       "Bulgan        60324   6415   5351    4556    5423    5587    4977    4499   \n",
       "Gobi-Altai    56698   5953   5392    5046    5778    5631    4837    4401   \n",
       "\n",
       "               35-39   40-44   45-49   50-54   55-59   60-64   65-69   70+  \n",
       "Province                                                                    \n",
       "Arkhangai       6824    6294    5498    4643    3266    2202    1237  2468  \n",
       "Bayan-Ulgii     6199    5713    4633    3842    2747    1665    1006  2153  \n",
       "Bayankhongor    5806    5165    4383    3714    2436    1480    1008  1934  \n",
       "Bulgan          4592    4426    4066    3494    2619    1666     877  1776  \n",
       "Gobi-Altai      4345    3994    3389    2730    1974    1064     706  1458  "
      ]
     },
     "execution_count": 9,
     "metadata": {},
     "output_type": "execute_result"
    }
   ],
   "source": [
    "population = pd.read_csv(DATA + '../clean/denominators.csv', index_col=0)\n",
    "population.head()"
   ]
  },
  {
   "cell_type": "markdown",
   "metadata": {},
   "source": [
    "Age classes above 40 will be aggregated into a single group."
   ]
  },
  {
   "cell_type": "code",
   "execution_count": 10,
   "metadata": {},
   "outputs": [
    {
     "data": {
      "text/html": [
       "<div>\n",
       "<style scoped>\n",
       "    .dataframe tbody tr th:only-of-type {\n",
       "        vertical-align: middle;\n",
       "    }\n",
       "\n",
       "    .dataframe tbody tr th {\n",
       "        vertical-align: top;\n",
       "    }\n",
       "\n",
       "    .dataframe thead th {\n",
       "        text-align: right;\n",
       "    }\n",
       "</style>\n",
       "<table border=\"1\" class=\"dataframe\">\n",
       "  <thead>\n",
       "    <tr style=\"text-align: right;\">\n",
       "      <th></th>\n",
       "      <th>0-4</th>\n",
       "      <th>5-9</th>\n",
       "      <th>10-14</th>\n",
       "      <th>15-19</th>\n",
       "      <th>20-24</th>\n",
       "      <th>25-29</th>\n",
       "      <th>30-34</th>\n",
       "      <th>35-39</th>\n",
       "      <th>40+</th>\n",
       "    </tr>\n",
       "    <tr>\n",
       "      <th>Province</th>\n",
       "      <th></th>\n",
       "      <th></th>\n",
       "      <th></th>\n",
       "      <th></th>\n",
       "      <th></th>\n",
       "      <th></th>\n",
       "      <th></th>\n",
       "      <th></th>\n",
       "      <th></th>\n",
       "    </tr>\n",
       "  </thead>\n",
       "  <tbody>\n",
       "    <tr>\n",
       "      <th>Arkhangai</th>\n",
       "      <td>10440</td>\n",
       "      <td>8360</td>\n",
       "      <td>7883</td>\n",
       "      <td>9249</td>\n",
       "      <td>9469</td>\n",
       "      <td>8207</td>\n",
       "      <td>6856</td>\n",
       "      <td>6824</td>\n",
       "      <td>25608</td>\n",
       "    </tr>\n",
       "    <tr>\n",
       "      <th>Bayan-Ulgii</th>\n",
       "      <td>11655</td>\n",
       "      <td>10219</td>\n",
       "      <td>9929</td>\n",
       "      <td>8794</td>\n",
       "      <td>8872</td>\n",
       "      <td>8531</td>\n",
       "      <td>7207</td>\n",
       "      <td>6199</td>\n",
       "      <td>21759</td>\n",
       "    </tr>\n",
       "    <tr>\n",
       "      <th>Bayankhongor</th>\n",
       "      <td>9760</td>\n",
       "      <td>7429</td>\n",
       "      <td>6675</td>\n",
       "      <td>7812</td>\n",
       "      <td>7992</td>\n",
       "      <td>7436</td>\n",
       "      <td>6280</td>\n",
       "      <td>5806</td>\n",
       "      <td>20120</td>\n",
       "    </tr>\n",
       "    <tr>\n",
       "      <th>Bulgan</th>\n",
       "      <td>6415</td>\n",
       "      <td>5351</td>\n",
       "      <td>4556</td>\n",
       "      <td>5423</td>\n",
       "      <td>5587</td>\n",
       "      <td>4977</td>\n",
       "      <td>4499</td>\n",
       "      <td>4592</td>\n",
       "      <td>18924</td>\n",
       "    </tr>\n",
       "    <tr>\n",
       "      <th>Gobi-Altai</th>\n",
       "      <td>5953</td>\n",
       "      <td>5392</td>\n",
       "      <td>5046</td>\n",
       "      <td>5778</td>\n",
       "      <td>5631</td>\n",
       "      <td>4837</td>\n",
       "      <td>4401</td>\n",
       "      <td>4345</td>\n",
       "      <td>15315</td>\n",
       "    </tr>\n",
       "  </tbody>\n",
       "</table>\n",
       "</div>"
      ],
      "text/plain": [
       "                0-4    5-9   10-14   15-19   20-24   25-29   30-34   35-39  \\\n",
       "Province                                                                     \n",
       "Arkhangai     10440   8360    7883    9249    9469    8207    6856    6824   \n",
       "Bayan-Ulgii   11655  10219    9929    8794    8872    8531    7207    6199   \n",
       "Bayankhongor   9760   7429    6675    7812    7992    7436    6280    5806   \n",
       "Bulgan         6415   5351    4556    5423    5587    4977    4499    4592   \n",
       "Gobi-Altai     5953   5392    5046    5778    5631    4837    4401    4345   \n",
       "\n",
       "                40+  \n",
       "Province             \n",
       "Arkhangai     25608  \n",
       "Bayan-Ulgii   21759  \n",
       "Bayankhongor  20120  \n",
       "Bulgan        18924  \n",
       "Gobi-Altai    15315  "
      ]
     },
     "execution_count": 10,
     "metadata": {},
     "output_type": "execute_result"
    }
   ],
   "source": [
    "pop_classes = population.iloc[:, 1:9].copy()\n",
    "pop_classes['40+'] = population.iloc[:, 9:].sum(1)\n",
    "pop_classes.head()"
   ]
  },
  {
   "cell_type": "code",
   "execution_count": 11,
   "metadata": {},
   "outputs": [
    {
     "data": {
      "text/plain": [
       "Index(['0-4', '5-9', '10-14', '15-19', '20-24', '25-29', '30-34', '35-39',\n",
       "       '40+'],\n",
       "      dtype='object')"
      ]
     },
     "execution_count": 11,
     "metadata": {},
     "output_type": "execute_result"
    }
   ],
   "source": [
    "age_group_index = pop_classes.columns.str.strip()\n",
    "age_group_index"
   ]
  },
  {
   "cell_type": "code",
   "execution_count": 12,
   "metadata": {},
   "outputs": [],
   "source": [
    "pop_classes_total = pop_classes.sum().values"
   ]
  },
  {
   "cell_type": "code",
   "execution_count": 13,
   "metadata": {},
   "outputs": [
    {
     "data": {
      "text/plain": [
       "array([ 522675,  418444,  352776,  386296,  427388,  448107,  379846,\n",
       "        348235, 1264181])"
      ]
     },
     "execution_count": 13,
     "metadata": {},
     "output_type": "execute_result"
    }
   ],
   "source": [
    "pop_classes_total"
   ]
  },
  {
   "cell_type": "markdown",
   "metadata": {},
   "source": [
    "Try to obtain susceptible proportion from coverage history"
   ]
  },
  {
   "cell_type": "code",
   "execution_count": 14,
   "metadata": {},
   "outputs": [],
   "source": [
    "coverage = pd.read_csv(DATA + 'coverage.csv', index_col=0)"
   ]
  },
  {
   "cell_type": "code",
   "execution_count": 15,
   "metadata": {},
   "outputs": [
    {
     "data": {
      "text/html": [
       "<div>\n",
       "<style scoped>\n",
       "    .dataframe tbody tr th:only-of-type {\n",
       "        vertical-align: middle;\n",
       "    }\n",
       "\n",
       "    .dataframe tbody tr th {\n",
       "        vertical-align: top;\n",
       "    }\n",
       "\n",
       "    .dataframe thead th {\n",
       "        text-align: right;\n",
       "    }\n",
       "</style>\n",
       "<table border=\"1\" class=\"dataframe\">\n",
       "  <thead>\n",
       "    <tr style=\"text-align: right;\">\n",
       "      <th></th>\n",
       "      <th>MCV1</th>\n",
       "      <th>MCV2</th>\n",
       "      <th>SIA 1994 (M)</th>\n",
       "      <th>SIA 1996 (M)</th>\n",
       "      <th>SIA 2000 (M)</th>\n",
       "      <th>SIA 2007 (M)</th>\n",
       "      <th>SIA 2012 (MR)</th>\n",
       "    </tr>\n",
       "    <tr>\n",
       "      <th>Age</th>\n",
       "      <th></th>\n",
       "      <th></th>\n",
       "      <th></th>\n",
       "      <th></th>\n",
       "      <th></th>\n",
       "      <th></th>\n",
       "      <th></th>\n",
       "    </tr>\n",
       "  </thead>\n",
       "  <tbody>\n",
       "    <tr>\n",
       "      <th>19</th>\n",
       "      <td>0.89</td>\n",
       "      <td>0.00</td>\n",
       "      <td>0.0</td>\n",
       "      <td>0.98</td>\n",
       "      <td>0.96</td>\n",
       "      <td>0.00</td>\n",
       "      <td>0.00</td>\n",
       "    </tr>\n",
       "    <tr>\n",
       "      <th>18</th>\n",
       "      <td>0.91</td>\n",
       "      <td>0.00</td>\n",
       "      <td>0.0</td>\n",
       "      <td>0.00</td>\n",
       "      <td>0.96</td>\n",
       "      <td>0.97</td>\n",
       "      <td>0.00</td>\n",
       "    </tr>\n",
       "    <tr>\n",
       "      <th>17</th>\n",
       "      <td>0.93</td>\n",
       "      <td>0.00</td>\n",
       "      <td>0.0</td>\n",
       "      <td>0.00</td>\n",
       "      <td>0.96</td>\n",
       "      <td>0.97</td>\n",
       "      <td>0.87</td>\n",
       "    </tr>\n",
       "    <tr>\n",
       "      <th>16</th>\n",
       "      <td>0.93</td>\n",
       "      <td>0.75</td>\n",
       "      <td>0.0</td>\n",
       "      <td>0.00</td>\n",
       "      <td>0.96</td>\n",
       "      <td>0.97</td>\n",
       "      <td>0.89</td>\n",
       "    </tr>\n",
       "    <tr>\n",
       "      <th>15</th>\n",
       "      <td>0.92</td>\n",
       "      <td>0.95</td>\n",
       "      <td>0.0</td>\n",
       "      <td>0.00</td>\n",
       "      <td>0.00</td>\n",
       "      <td>0.97</td>\n",
       "      <td>0.91</td>\n",
       "    </tr>\n",
       "    <tr>\n",
       "      <th>14</th>\n",
       "      <td>0.95</td>\n",
       "      <td>0.96</td>\n",
       "      <td>0.0</td>\n",
       "      <td>0.00</td>\n",
       "      <td>0.00</td>\n",
       "      <td>0.97</td>\n",
       "      <td>0.88</td>\n",
       "    </tr>\n",
       "    <tr>\n",
       "      <th>13</th>\n",
       "      <td>0.98</td>\n",
       "      <td>0.98</td>\n",
       "      <td>0.0</td>\n",
       "      <td>0.00</td>\n",
       "      <td>0.00</td>\n",
       "      <td>0.97</td>\n",
       "      <td>0.95</td>\n",
       "    </tr>\n",
       "    <tr>\n",
       "      <th>12</th>\n",
       "      <td>0.98</td>\n",
       "      <td>0.98</td>\n",
       "      <td>0.0</td>\n",
       "      <td>0.00</td>\n",
       "      <td>0.00</td>\n",
       "      <td>0.97</td>\n",
       "      <td>0.95</td>\n",
       "    </tr>\n",
       "    <tr>\n",
       "      <th>11</th>\n",
       "      <td>0.99</td>\n",
       "      <td>0.98</td>\n",
       "      <td>0.0</td>\n",
       "      <td>0.00</td>\n",
       "      <td>0.00</td>\n",
       "      <td>0.97</td>\n",
       "      <td>0.96</td>\n",
       "    </tr>\n",
       "    <tr>\n",
       "      <th>10</th>\n",
       "      <td>0.97</td>\n",
       "      <td>0.96</td>\n",
       "      <td>0.0</td>\n",
       "      <td>0.00</td>\n",
       "      <td>0.00</td>\n",
       "      <td>0.97</td>\n",
       "      <td>0.95</td>\n",
       "    </tr>\n",
       "    <tr>\n",
       "      <th>9</th>\n",
       "      <td>0.99</td>\n",
       "      <td>0.97</td>\n",
       "      <td>0.0</td>\n",
       "      <td>0.00</td>\n",
       "      <td>0.00</td>\n",
       "      <td>0.00</td>\n",
       "      <td>0.97</td>\n",
       "    </tr>\n",
       "    <tr>\n",
       "      <th>8</th>\n",
       "      <td>0.98</td>\n",
       "      <td>0.96</td>\n",
       "      <td>0.0</td>\n",
       "      <td>0.00</td>\n",
       "      <td>0.00</td>\n",
       "      <td>0.00</td>\n",
       "      <td>0.96</td>\n",
       "    </tr>\n",
       "    <tr>\n",
       "      <th>7</th>\n",
       "      <td>0.97</td>\n",
       "      <td>0.97</td>\n",
       "      <td>0.0</td>\n",
       "      <td>0.00</td>\n",
       "      <td>0.00</td>\n",
       "      <td>0.00</td>\n",
       "      <td>0.96</td>\n",
       "    </tr>\n",
       "    <tr>\n",
       "      <th>6</th>\n",
       "      <td>0.94</td>\n",
       "      <td>0.93</td>\n",
       "      <td>0.0</td>\n",
       "      <td>0.00</td>\n",
       "      <td>0.00</td>\n",
       "      <td>0.00</td>\n",
       "      <td>0.90</td>\n",
       "    </tr>\n",
       "    <tr>\n",
       "      <th>5</th>\n",
       "      <td>0.98</td>\n",
       "      <td>0.97</td>\n",
       "      <td>0.0</td>\n",
       "      <td>0.00</td>\n",
       "      <td>0.00</td>\n",
       "      <td>0.00</td>\n",
       "      <td>0.00</td>\n",
       "    </tr>\n",
       "    <tr>\n",
       "      <th>4</th>\n",
       "      <td>0.98</td>\n",
       "      <td>0.99</td>\n",
       "      <td>0.0</td>\n",
       "      <td>0.00</td>\n",
       "      <td>0.00</td>\n",
       "      <td>0.00</td>\n",
       "      <td>0.00</td>\n",
       "    </tr>\n",
       "    <tr>\n",
       "      <th>3</th>\n",
       "      <td>0.99</td>\n",
       "      <td>0.99</td>\n",
       "      <td>0.0</td>\n",
       "      <td>0.00</td>\n",
       "      <td>0.00</td>\n",
       "      <td>0.00</td>\n",
       "      <td>0.00</td>\n",
       "    </tr>\n",
       "    <tr>\n",
       "      <th>2</th>\n",
       "      <td>0.99</td>\n",
       "      <td>0.99</td>\n",
       "      <td>0.0</td>\n",
       "      <td>0.00</td>\n",
       "      <td>0.00</td>\n",
       "      <td>0.00</td>\n",
       "      <td>0.00</td>\n",
       "    </tr>\n",
       "    <tr>\n",
       "      <th>1</th>\n",
       "      <td>0.99</td>\n",
       "      <td>0.00</td>\n",
       "      <td>0.0</td>\n",
       "      <td>0.00</td>\n",
       "      <td>0.00</td>\n",
       "      <td>0.00</td>\n",
       "      <td>0.00</td>\n",
       "    </tr>\n",
       "    <tr>\n",
       "      <th>0</th>\n",
       "      <td>0.00</td>\n",
       "      <td>0.00</td>\n",
       "      <td>0.0</td>\n",
       "      <td>0.00</td>\n",
       "      <td>0.00</td>\n",
       "      <td>0.00</td>\n",
       "      <td>0.00</td>\n",
       "    </tr>\n",
       "  </tbody>\n",
       "</table>\n",
       "</div>"
      ],
      "text/plain": [
       "     MCV1  MCV2  SIA 1994 (M)  SIA 1996 (M)  SIA 2000 (M)  SIA 2007 (M)  \\\n",
       "Age                                                                       \n",
       "19   0.89  0.00           0.0          0.98          0.96          0.00   \n",
       "18   0.91  0.00           0.0          0.00          0.96          0.97   \n",
       "17   0.93  0.00           0.0          0.00          0.96          0.97   \n",
       "16   0.93  0.75           0.0          0.00          0.96          0.97   \n",
       "15   0.92  0.95           0.0          0.00          0.00          0.97   \n",
       "14   0.95  0.96           0.0          0.00          0.00          0.97   \n",
       "13   0.98  0.98           0.0          0.00          0.00          0.97   \n",
       "12   0.98  0.98           0.0          0.00          0.00          0.97   \n",
       "11   0.99  0.98           0.0          0.00          0.00          0.97   \n",
       "10   0.97  0.96           0.0          0.00          0.00          0.97   \n",
       "9    0.99  0.97           0.0          0.00          0.00          0.00   \n",
       "8    0.98  0.96           0.0          0.00          0.00          0.00   \n",
       "7    0.97  0.97           0.0          0.00          0.00          0.00   \n",
       "6    0.94  0.93           0.0          0.00          0.00          0.00   \n",
       "5    0.98  0.97           0.0          0.00          0.00          0.00   \n",
       "4    0.98  0.99           0.0          0.00          0.00          0.00   \n",
       "3    0.99  0.99           0.0          0.00          0.00          0.00   \n",
       "2    0.99  0.99           0.0          0.00          0.00          0.00   \n",
       "1    0.99  0.00           0.0          0.00          0.00          0.00   \n",
       "0    0.00  0.00           0.0          0.00          0.00          0.00   \n",
       "\n",
       "     SIA 2012 (MR)  \n",
       "Age                 \n",
       "19            0.00  \n",
       "18            0.00  \n",
       "17            0.87  \n",
       "16            0.89  \n",
       "15            0.91  \n",
       "14            0.88  \n",
       "13            0.95  \n",
       "12            0.95  \n",
       "11            0.96  \n",
       "10            0.95  \n",
       "9             0.97  \n",
       "8             0.96  \n",
       "7             0.96  \n",
       "6             0.90  \n",
       "5             0.00  \n",
       "4             0.00  \n",
       "3             0.00  \n",
       "2             0.00  \n",
       "1             0.00  \n",
       "0             0.00  "
      ]
     },
     "execution_count": 15,
     "metadata": {},
     "output_type": "execute_result"
    }
   ],
   "source": [
    "coverage.tail(20)"
   ]
  },
  {
   "cell_type": "code",
   "execution_count": 16,
   "metadata": {},
   "outputs": [],
   "source": [
    "age_classes = [0,5,10,15,20,25,30,35,40,100]\n",
    "age_slices = [slice(age_classes[i], age_classes[i+1]) for i in range(len(age_classes)-1)]"
   ]
  },
  {
   "cell_type": "code",
   "execution_count": 17,
   "metadata": {},
   "outputs": [],
   "source": [
    "n_age_classes = len(age_classes) - 1"
   ]
  },
  {
   "cell_type": "code",
   "execution_count": 18,
   "metadata": {},
   "outputs": [],
   "source": [
    "efficacy = 0.85"
   ]
  },
  {
   "cell_type": "markdown",
   "metadata": {},
   "source": [
    "Dependent MCV immunization"
   ]
  },
  {
   "cell_type": "code",
   "execution_count": 19,
   "metadata": {},
   "outputs": [],
   "source": [
    "immune_MCV1 = coverage.MCV1 * 0.8\n",
    "immune_MCV2 = (1 - immune_MCV1) * coverage.MCV2 * 0.8"
   ]
  },
  {
   "cell_type": "code",
   "execution_count": 20,
   "metadata": {},
   "outputs": [],
   "source": [
    "MCV_immunity = immune_MCV2 + immune_MCV1"
   ]
  },
  {
   "cell_type": "code",
   "execution_count": 21,
   "metadata": {},
   "outputs": [
    {
     "data": {
      "text/plain": [
       "Text(0, 0.5, 'Susceptibility')"
      ]
     },
     "execution_count": 21,
     "metadata": {},
     "output_type": "execute_result"
    },
    {
     "data": {
      "image/png": "[encoded data removed]",
      "text/plain": [
       "<Figure size 432x288 with 1 Axes>"
      ]
     },
     "metadata": {
      "needs_background": "light"
     },
     "output_type": "display_data"
    }
   ],
   "source": [
    "susceptibility = (1 - coverage*efficacy).prod(axis=1).round(3).sort_index()\n",
    "susceptibility.plot()\n",
    "plt.ylabel('Susceptibility')"
   ]
  },
  {
   "cell_type": "code",
   "execution_count": 22,
   "metadata": {},
   "outputs": [],
   "source": [
    "p_susc = susceptibility.groupby(pd.cut(susceptibility.index, age_classes)).mean()"
   ]
  },
  {
   "cell_type": "markdown",
   "metadata": {},
   "source": [
    "Down-sample susceptibility to age groups."
   ]
  },
  {
   "cell_type": "code",
   "execution_count": 24,
   "metadata": {},
   "outputs": [
    {
     "data": {
      "text/plain": [
       "array([0.2468, 0.0112, 0.0012, 0.0038, 0.0254, 0.0276, 0.9032, 0.971 ,\n",
       "       1.    ])"
      ]
     },
     "execution_count": 24,
     "metadata": {},
     "output_type": "execute_result"
    }
   ],
   "source": [
    "downsample = lambda x: np.array([xas].mean() for s in age_slices])\n",
    "downsample(susceptibility)"
   ]
  },
  {
   "cell_type": "code",
   "execution_count": 72,
   "metadata": {},
   "outputs": [
    {
     "data": {
      "image/png": "[encoded data removed]",
      "text/plain": [
       "<Figure size 432x288 with 1 Axes>"
      ]
     },
     "metadata": {
      "needs_background": "light"
     },
     "output_type": "display_data"
    }
   ],
   "source": [
    "age_labels = ['0-5', '5-10', '10-15', '15-20', '20-25', '25-30', \n",
    "                    '30-35', '35-40', '40+']\n",
    "plt.bar(range(len(age_slices)), downsample(susceptibility), \n",
    "        tick_label=age_labels);"
   ]
  },
  {
   "cell_type": "markdown",
   "metadata": {},
   "source": [
    "*These susceptibility rates can't be true given the distribution of cases that were observed!*"
   ]
  },
  {
   "cell_type": "markdown",
   "metadata": {},
   "source": [
    "### SIA\n",
    "\n",
    "Create a time x age matrix of SIA vaccinations to account for intervention"
   ]
  },
  {
   "cell_type": "code",
   "execution_count": 26,
   "metadata": {},
   "outputs": [
    {
     "data": {
      "text/html": [
       "<div>\n",
       "<style scoped>\n",
       "    .dataframe tbody tr th:only-of-type {\n",
       "        vertical-align: middle;\n",
       "    }\n",
       "\n",
       "    .dataframe tbody tr th {\n",
       "        vertical-align: top;\n",
       "    }\n",
       "\n",
       "    .dataframe thead th {\n",
       "        text-align: right;\n",
       "    }\n",
       "</style>\n",
       "<table border=\"1\" class=\"dataframe\">\n",
       "  <thead>\n",
       "    <tr style=\"text-align: right;\">\n",
       "      <th></th>\n",
       "      <th>15-19</th>\n",
       "      <th>20-24</th>\n",
       "      <th>25-29</th>\n",
       "      <th>30-34</th>\n",
       "    </tr>\n",
       "  </thead>\n",
       "  <tbody>\n",
       "    <tr>\n",
       "      <th>Arkhangai</th>\n",
       "      <td>1942</td>\n",
       "      <td>4112</td>\n",
       "      <td>5533</td>\n",
       "      <td>1332</td>\n",
       "    </tr>\n",
       "    <tr>\n",
       "      <th>Bayan-Ulgii</th>\n",
       "      <td>2921</td>\n",
       "      <td>5099</td>\n",
       "      <td>6204</td>\n",
       "      <td>1290</td>\n",
       "    </tr>\n",
       "    <tr>\n",
       "      <th>Bayankhongor</th>\n",
       "      <td>2039</td>\n",
       "      <td>4232</td>\n",
       "      <td>6199</td>\n",
       "      <td>1425</td>\n",
       "    </tr>\n",
       "    <tr>\n",
       "      <th>Bulgan</th>\n",
       "      <td>1094</td>\n",
       "      <td>2521</td>\n",
       "      <td>3681</td>\n",
       "      <td>772</td>\n",
       "    </tr>\n",
       "    <tr>\n",
       "      <th>Gobi-Altai</th>\n",
       "      <td>1316</td>\n",
       "      <td>3090</td>\n",
       "      <td>3590</td>\n",
       "      <td>797</td>\n",
       "    </tr>\n",
       "  </tbody>\n",
       "</table>\n",
       "</div>"
      ],
      "text/plain": [
       "              15-19  20-24  25-29  30-34\n",
       "Arkhangai      1942   4112   5533   1332\n",
       "Bayan-Ulgii    2921   5099   6204   1290\n",
       "Bayankhongor   2039   4232   6199   1425\n",
       "Bulgan         1094   2521   3681    772\n",
       "Gobi-Altai     1316   3090   3590    797"
      ]
     },
     "execution_count": 26,
     "metadata": {},
     "output_type": "execute_result"
    }
   ],
   "source": [
    "sia_2015 = pd.read_csv(DATA + 'sia_2015.csv', index_col=0)\n",
    "sia_2016 = pd.read_csv(DATA + 'sia_2016.csv', index_col=0)\n",
    "sia_2016.head()"
   ]
  },
  {
   "cell_type": "code",
   "execution_count": 27,
   "metadata": {},
   "outputs": [
    {
     "data": {
      "text/plain": [
       "0-4      282153\n",
       "5-9       65532\n",
       "10-14         0\n",
       "15-19         0\n",
       "20-24         0\n",
       "25-29         0\n",
       "30-34         0\n",
       "35-39         0\n",
       "40+           0\n",
       "dtype: int64"
      ]
     },
     "execution_count": 27,
     "metadata": {},
     "output_type": "execute_result"
    }
   ],
   "source": [
    "sia_2015_total = (sia_2015.sum()\n",
    "                          .reindex(age_group_index)\n",
    "                          .fillna(0)\n",
    "                          .astype(int))\n",
    "sia_2015_total"
   ]
  },
  {
   "cell_type": "code",
   "execution_count": 28,
   "metadata": {},
   "outputs": [
    {
     "data": {
      "text/plain": [
       "0-4           0\n",
       "5-9           0\n",
       "10-14         0\n",
       "15-19     78105\n",
       "20-24    186022\n",
       "25-29    230733\n",
       "30-34     54439\n",
       "35-39         0\n",
       "40+           0\n",
       "dtype: int64"
      ]
     },
     "execution_count": 28,
     "metadata": {},
     "output_type": "execute_result"
    }
   ],
   "source": [
    "sia_2016_total = (sia_2016.sum()\n",
    "                          .reindex(age_group_index)\n",
    "                          .fillna(0)\n",
    "                          .astype(int))\n",
    "sia_2016_total"
   ]
  },
  {
   "cell_type": "code",
   "execution_count": 29,
   "metadata": {},
   "outputs": [],
   "source": [
    "sia = pd.DataFrame(index=confirmed_counts.index, columns=age_group_index).fillna(0)"
   ]
  },
  {
   "cell_type": "code",
   "execution_count": 30,
   "metadata": {},
   "outputs": [],
   "source": [
    "sia.loc['2016-05-22'] = sia_2016_total\n",
    "sia.loc[['2015-05-24', '2015-06-07', '2015-06-21']] = [sia_2015_total/4,\n",
    "                                                       sia_2015_total/2,\n",
    "                                                       sia_2015_total/4]"
   ]
  },
  {
   "cell_type": "code",
   "execution_count": 31,
   "metadata": {},
   "outputs": [
    {
     "data": {
      "text/html": [
       "<div>\n",
       "<style scoped>\n",
       "    .dataframe tbody tr th:only-of-type {\n",
       "        vertical-align: middle;\n",
       "    }\n",
       "\n",
       "    .dataframe tbody tr th {\n",
       "        vertical-align: top;\n",
       "    }\n",
       "\n",
       "    .dataframe thead th {\n",
       "        text-align: right;\n",
       "    }\n",
       "</style>\n",
       "<table border=\"1\" class=\"dataframe\">\n",
       "  <thead>\n",
       "    <tr style=\"text-align: right;\">\n",
       "      <th></th>\n",
       "      <th>0-4</th>\n",
       "      <th>5-9</th>\n",
       "      <th>10-14</th>\n",
       "      <th>15-19</th>\n",
       "      <th>20-24</th>\n",
       "      <th>25-29</th>\n",
       "      <th>30-34</th>\n",
       "      <th>35-39</th>\n",
       "      <th>40+</th>\n",
       "    </tr>\n",
       "    <tr>\n",
       "      <th>date_onset</th>\n",
       "      <th></th>\n",
       "      <th></th>\n",
       "      <th></th>\n",
       "      <th></th>\n",
       "      <th></th>\n",
       "      <th></th>\n",
       "      <th></th>\n",
       "      <th></th>\n",
       "      <th></th>\n",
       "    </tr>\n",
       "  </thead>\n",
       "  <tbody>\n",
       "    <tr>\n",
       "      <th>2015-01-18</th>\n",
       "      <td>0.00</td>\n",
       "      <td>0.0</td>\n",
       "      <td>0.0</td>\n",
       "      <td>0.0</td>\n",
       "      <td>0.0</td>\n",
       "      <td>0.0</td>\n",
       "      <td>0.0</td>\n",
       "      <td>0.0</td>\n",
       "      <td>0.0</td>\n",
       "    </tr>\n",
       "    <tr>\n",
       "      <th>2015-02-01</th>\n",
       "      <td>0.00</td>\n",
       "      <td>0.0</td>\n",
       "      <td>0.0</td>\n",
       "      <td>0.0</td>\n",
       "      <td>0.0</td>\n",
       "      <td>0.0</td>\n",
       "      <td>0.0</td>\n",
       "      <td>0.0</td>\n",
       "      <td>0.0</td>\n",
       "    </tr>\n",
       "    <tr>\n",
       "      <th>2015-02-15</th>\n",
       "      <td>0.00</td>\n",
       "      <td>0.0</td>\n",
       "      <td>0.0</td>\n",
       "      <td>0.0</td>\n",
       "      <td>0.0</td>\n",
       "      <td>0.0</td>\n",
       "      <td>0.0</td>\n",
       "      <td>0.0</td>\n",
       "      <td>0.0</td>\n",
       "    </tr>\n",
       "    <tr>\n",
       "      <th>2015-03-01</th>\n",
       "      <td>0.00</td>\n",
       "      <td>0.0</td>\n",
       "      <td>0.0</td>\n",
       "      <td>0.0</td>\n",
       "      <td>0.0</td>\n",
       "      <td>0.0</td>\n",
       "      <td>0.0</td>\n",
       "      <td>0.0</td>\n",
       "      <td>0.0</td>\n",
       "    </tr>\n",
       "    <tr>\n",
       "      <th>2015-03-15</th>\n",
       "      <td>0.00</td>\n",
       "      <td>0.0</td>\n",
       "      <td>0.0</td>\n",
       "      <td>0.0</td>\n",
       "      <td>0.0</td>\n",
       "      <td>0.0</td>\n",
       "      <td>0.0</td>\n",
       "      <td>0.0</td>\n",
       "      <td>0.0</td>\n",
       "    </tr>\n",
       "    <tr>\n",
       "      <th>2015-03-29</th>\n",
       "      <td>0.00</td>\n",
       "      <td>0.0</td>\n",
       "      <td>0.0</td>\n",
       "      <td>0.0</td>\n",
       "      <td>0.0</td>\n",
       "      <td>0.0</td>\n",
       "      <td>0.0</td>\n",
       "      <td>0.0</td>\n",
       "      <td>0.0</td>\n",
       "    </tr>\n",
       "    <tr>\n",
       "      <th>2015-04-12</th>\n",
       "      <td>0.00</td>\n",
       "      <td>0.0</td>\n",
       "      <td>0.0</td>\n",
       "      <td>0.0</td>\n",
       "      <td>0.0</td>\n",
       "      <td>0.0</td>\n",
       "      <td>0.0</td>\n",
       "      <td>0.0</td>\n",
       "      <td>0.0</td>\n",
       "    </tr>\n",
       "    <tr>\n",
       "      <th>2015-04-26</th>\n",
       "      <td>0.00</td>\n",
       "      <td>0.0</td>\n",
       "      <td>0.0</td>\n",
       "      <td>0.0</td>\n",
       "      <td>0.0</td>\n",
       "      <td>0.0</td>\n",
       "      <td>0.0</td>\n",
       "      <td>0.0</td>\n",
       "      <td>0.0</td>\n",
       "    </tr>\n",
       "    <tr>\n",
       "      <th>2015-05-10</th>\n",
       "      <td>0.00</td>\n",
       "      <td>0.0</td>\n",
       "      <td>0.0</td>\n",
       "      <td>0.0</td>\n",
       "      <td>0.0</td>\n",
       "      <td>0.0</td>\n",
       "      <td>0.0</td>\n",
       "      <td>0.0</td>\n",
       "      <td>0.0</td>\n",
       "    </tr>\n",
       "    <tr>\n",
       "      <th>2015-05-24</th>\n",
       "      <td>70538.25</td>\n",
       "      <td>16383.0</td>\n",
       "      <td>0.0</td>\n",
       "      <td>0.0</td>\n",
       "      <td>0.0</td>\n",
       "      <td>0.0</td>\n",
       "      <td>0.0</td>\n",
       "      <td>0.0</td>\n",
       "      <td>0.0</td>\n",
       "    </tr>\n",
       "    <tr>\n",
       "      <th>2015-06-07</th>\n",
       "      <td>141076.50</td>\n",
       "      <td>32766.0</td>\n",
       "      <td>0.0</td>\n",
       "      <td>0.0</td>\n",
       "      <td>0.0</td>\n",
       "      <td>0.0</td>\n",
       "      <td>0.0</td>\n",
       "      <td>0.0</td>\n",
       "      <td>0.0</td>\n",
       "    </tr>\n",
       "    <tr>\n",
       "      <th>2015-06-21</th>\n",
       "      <td>70538.25</td>\n",
       "      <td>16383.0</td>\n",
       "      <td>0.0</td>\n",
       "      <td>0.0</td>\n",
       "      <td>0.0</td>\n",
       "      <td>0.0</td>\n",
       "      <td>0.0</td>\n",
       "      <td>0.0</td>\n",
       "      <td>0.0</td>\n",
       "    </tr>\n",
       "    <tr>\n",
       "      <th>2015-07-05</th>\n",
       "      <td>0.00</td>\n",
       "      <td>0.0</td>\n",
       "      <td>0.0</td>\n",
       "      <td>0.0</td>\n",
       "      <td>0.0</td>\n",
       "      <td>0.0</td>\n",
       "      <td>0.0</td>\n",
       "      <td>0.0</td>\n",
       "      <td>0.0</td>\n",
       "    </tr>\n",
       "    <tr>\n",
       "      <th>2015-07-19</th>\n",
       "      <td>0.00</td>\n",
       "      <td>0.0</td>\n",
       "      <td>0.0</td>\n",
       "      <td>0.0</td>\n",
       "      <td>0.0</td>\n",
       "      <td>0.0</td>\n",
       "      <td>0.0</td>\n",
       "      <td>0.0</td>\n",
       "      <td>0.0</td>\n",
       "    </tr>\n",
       "    <tr>\n",
       "      <th>2015-08-02</th>\n",
       "      <td>0.00</td>\n",
       "      <td>0.0</td>\n",
       "      <td>0.0</td>\n",
       "      <td>0.0</td>\n",
       "      <td>0.0</td>\n",
       "      <td>0.0</td>\n",
       "      <td>0.0</td>\n",
       "      <td>0.0</td>\n",
       "      <td>0.0</td>\n",
       "    </tr>\n",
       "    <tr>\n",
       "      <th>2015-08-16</th>\n",
       "      <td>0.00</td>\n",
       "      <td>0.0</td>\n",
       "      <td>0.0</td>\n",
       "      <td>0.0</td>\n",
       "      <td>0.0</td>\n",
       "      <td>0.0</td>\n",
       "      <td>0.0</td>\n",
       "      <td>0.0</td>\n",
       "      <td>0.0</td>\n",
       "    </tr>\n",
       "    <tr>\n",
       "      <th>2015-08-30</th>\n",
       "      <td>0.00</td>\n",
       "      <td>0.0</td>\n",
       "      <td>0.0</td>\n",
       "      <td>0.0</td>\n",
       "      <td>0.0</td>\n",
       "      <td>0.0</td>\n",
       "      <td>0.0</td>\n",
       "      <td>0.0</td>\n",
       "      <td>0.0</td>\n",
       "    </tr>\n",
       "    <tr>\n",
       "      <th>2015-09-13</th>\n",
       "      <td>0.00</td>\n",
       "      <td>0.0</td>\n",
       "      <td>0.0</td>\n",
       "      <td>0.0</td>\n",
       "      <td>0.0</td>\n",
       "      <td>0.0</td>\n",
       "      <td>0.0</td>\n",
       "      <td>0.0</td>\n",
       "      <td>0.0</td>\n",
       "    </tr>\n",
       "    <tr>\n",
       "      <th>2015-09-27</th>\n",
       "      <td>0.00</td>\n",
       "      <td>0.0</td>\n",
       "      <td>0.0</td>\n",
       "      <td>0.0</td>\n",
       "      <td>0.0</td>\n",
       "      <td>0.0</td>\n",
       "      <td>0.0</td>\n",
       "      <td>0.0</td>\n",
       "      <td>0.0</td>\n",
       "    </tr>\n",
       "    <tr>\n",
       "      <th>2015-10-11</th>\n",
       "      <td>0.00</td>\n",
       "      <td>0.0</td>\n",
       "      <td>0.0</td>\n",
       "      <td>0.0</td>\n",
       "      <td>0.0</td>\n",
       "      <td>0.0</td>\n",
       "      <td>0.0</td>\n",
       "      <td>0.0</td>\n",
       "      <td>0.0</td>\n",
       "    </tr>\n",
       "    <tr>\n",
       "      <th>2015-10-25</th>\n",
       "      <td>0.00</td>\n",
       "      <td>0.0</td>\n",
       "      <td>0.0</td>\n",
       "      <td>0.0</td>\n",
       "      <td>0.0</td>\n",
       "      <td>0.0</td>\n",
       "      <td>0.0</td>\n",
       "      <td>0.0</td>\n",
       "      <td>0.0</td>\n",
       "    </tr>\n",
       "    <tr>\n",
       "      <th>2015-11-08</th>\n",
       "      <td>0.00</td>\n",
       "      <td>0.0</td>\n",
       "      <td>0.0</td>\n",
       "      <td>0.0</td>\n",
       "      <td>0.0</td>\n",
       "      <td>0.0</td>\n",
       "      <td>0.0</td>\n",
       "      <td>0.0</td>\n",
       "      <td>0.0</td>\n",
       "    </tr>\n",
       "    <tr>\n",
       "      <th>2015-11-22</th>\n",
       "      <td>0.00</td>\n",
       "      <td>0.0</td>\n",
       "      <td>0.0</td>\n",
       "      <td>0.0</td>\n",
       "      <td>0.0</td>\n",
       "      <td>0.0</td>\n",
       "      <td>0.0</td>\n",
       "      <td>0.0</td>\n",
       "      <td>0.0</td>\n",
       "    </tr>\n",
       "    <tr>\n",
       "      <th>2015-12-06</th>\n",
       "      <td>0.00</td>\n",
       "      <td>0.0</td>\n",
       "      <td>0.0</td>\n",
       "      <td>0.0</td>\n",
       "      <td>0.0</td>\n",
       "      <td>0.0</td>\n",
       "      <td>0.0</td>\n",
       "      <td>0.0</td>\n",
       "      <td>0.0</td>\n",
       "    </tr>\n",
       "    <tr>\n",
       "      <th>2015-12-20</th>\n",
       "      <td>0.00</td>\n",
       "      <td>0.0</td>\n",
       "      <td>0.0</td>\n",
       "      <td>0.0</td>\n",
       "      <td>0.0</td>\n",
       "      <td>0.0</td>\n",
       "      <td>0.0</td>\n",
       "      <td>0.0</td>\n",
       "      <td>0.0</td>\n",
       "    </tr>\n",
       "    <tr>\n",
       "      <th>2016-01-03</th>\n",
       "      <td>0.00</td>\n",
       "      <td>0.0</td>\n",
       "      <td>0.0</td>\n",
       "      <td>0.0</td>\n",
       "      <td>0.0</td>\n",
       "      <td>0.0</td>\n",
       "      <td>0.0</td>\n",
       "      <td>0.0</td>\n",
       "      <td>0.0</td>\n",
       "    </tr>\n",
       "    <tr>\n",
       "      <th>2016-01-17</th>\n",
       "      <td>0.00</td>\n",
       "      <td>0.0</td>\n",
       "      <td>0.0</td>\n",
       "      <td>0.0</td>\n",
       "      <td>0.0</td>\n",
       "      <td>0.0</td>\n",
       "      <td>0.0</td>\n",
       "      <td>0.0</td>\n",
       "      <td>0.0</td>\n",
       "    </tr>\n",
       "    <tr>\n",
       "      <th>2016-01-31</th>\n",
       "      <td>0.00</td>\n",
       "      <td>0.0</td>\n",
       "      <td>0.0</td>\n",
       "      <td>0.0</td>\n",
       "      <td>0.0</td>\n",
       "      <td>0.0</td>\n",
       "      <td>0.0</td>\n",
       "      <td>0.0</td>\n",
       "      <td>0.0</td>\n",
       "    </tr>\n",
       "    <tr>\n",
       "      <th>2016-02-14</th>\n",
       "      <td>0.00</td>\n",
       "      <td>0.0</td>\n",
       "      <td>0.0</td>\n",
       "      <td>0.0</td>\n",
       "      <td>0.0</td>\n",
       "      <td>0.0</td>\n",
       "      <td>0.0</td>\n",
       "      <td>0.0</td>\n",
       "      <td>0.0</td>\n",
       "    </tr>\n",
       "    <tr>\n",
       "      <th>2016-02-28</th>\n",
       "      <td>0.00</td>\n",
       "      <td>0.0</td>\n",
       "      <td>0.0</td>\n",
       "      <td>0.0</td>\n",
       "      <td>0.0</td>\n",
       "      <td>0.0</td>\n",
       "      <td>0.0</td>\n",
       "      <td>0.0</td>\n",
       "      <td>0.0</td>\n",
       "    </tr>\n",
       "    <tr>\n",
       "      <th>2016-03-13</th>\n",
       "      <td>0.00</td>\n",
       "      <td>0.0</td>\n",
       "      <td>0.0</td>\n",
       "      <td>0.0</td>\n",
       "      <td>0.0</td>\n",
       "      <td>0.0</td>\n",
       "      <td>0.0</td>\n",
       "      <td>0.0</td>\n",
       "      <td>0.0</td>\n",
       "    </tr>\n",
       "    <tr>\n",
       "      <th>2016-03-27</th>\n",
       "      <td>0.00</td>\n",
       "      <td>0.0</td>\n",
       "      <td>0.0</td>\n",
       "      <td>0.0</td>\n",
       "      <td>0.0</td>\n",
       "      <td>0.0</td>\n",
       "      <td>0.0</td>\n",
       "      <td>0.0</td>\n",
       "      <td>0.0</td>\n",
       "    </tr>\n",
       "    <tr>\n",
       "      <th>2016-04-10</th>\n",
       "      <td>0.00</td>\n",
       "      <td>0.0</td>\n",
       "      <td>0.0</td>\n",
       "      <td>0.0</td>\n",
       "      <td>0.0</td>\n",
       "      <td>0.0</td>\n",
       "      <td>0.0</td>\n",
       "      <td>0.0</td>\n",
       "      <td>0.0</td>\n",
       "    </tr>\n",
       "    <tr>\n",
       "      <th>2016-04-24</th>\n",
       "      <td>0.00</td>\n",
       "      <td>0.0</td>\n",
       "      <td>0.0</td>\n",
       "      <td>0.0</td>\n",
       "      <td>0.0</td>\n",
       "      <td>0.0</td>\n",
       "      <td>0.0</td>\n",
       "      <td>0.0</td>\n",
       "      <td>0.0</td>\n",
       "    </tr>\n",
       "    <tr>\n",
       "      <th>2016-05-08</th>\n",
       "      <td>0.00</td>\n",
       "      <td>0.0</td>\n",
       "      <td>0.0</td>\n",
       "      <td>0.0</td>\n",
       "      <td>0.0</td>\n",
       "      <td>0.0</td>\n",
       "      <td>0.0</td>\n",
       "      <td>0.0</td>\n",
       "      <td>0.0</td>\n",
       "    </tr>\n",
       "    <tr>\n",
       "      <th>2016-05-22</th>\n",
       "      <td>0.00</td>\n",
       "      <td>0.0</td>\n",
       "      <td>0.0</td>\n",
       "      <td>78105.0</td>\n",
       "      <td>186022.0</td>\n",
       "      <td>230733.0</td>\n",
       "      <td>54439.0</td>\n",
       "      <td>0.0</td>\n",
       "      <td>0.0</td>\n",
       "    </tr>\n",
       "    <tr>\n",
       "      <th>2016-06-05</th>\n",
       "      <td>0.00</td>\n",
       "      <td>0.0</td>\n",
       "      <td>0.0</td>\n",
       "      <td>0.0</td>\n",
       "      <td>0.0</td>\n",
       "      <td>0.0</td>\n",
       "      <td>0.0</td>\n",
       "      <td>0.0</td>\n",
       "      <td>0.0</td>\n",
       "    </tr>\n",
       "    <tr>\n",
       "      <th>2016-06-19</th>\n",
       "      <td>0.00</td>\n",
       "      <td>0.0</td>\n",
       "      <td>0.0</td>\n",
       "      <td>0.0</td>\n",
       "      <td>0.0</td>\n",
       "      <td>0.0</td>\n",
       "      <td>0.0</td>\n",
       "      <td>0.0</td>\n",
       "      <td>0.0</td>\n",
       "    </tr>\n",
       "    <tr>\n",
       "      <th>2016-07-03</th>\n",
       "      <td>0.00</td>\n",
       "      <td>0.0</td>\n",
       "      <td>0.0</td>\n",
       "      <td>0.0</td>\n",
       "      <td>0.0</td>\n",
       "      <td>0.0</td>\n",
       "      <td>0.0</td>\n",
       "      <td>0.0</td>\n",
       "      <td>0.0</td>\n",
       "    </tr>\n",
       "  </tbody>\n",
       "</table>\n",
       "</div>"
      ],
      "text/plain": [
       "                  0-4      5-9  10-14    15-19     20-24     25-29    30-34  \\\n",
       "date_onset                                                                    \n",
       "2015-01-18       0.00      0.0    0.0      0.0       0.0       0.0      0.0   \n",
       "2015-02-01       0.00      0.0    0.0      0.0       0.0       0.0      0.0   \n",
       "2015-02-15       0.00      0.0    0.0      0.0       0.0       0.0      0.0   \n",
       "2015-03-01       0.00      0.0    0.0      0.0       0.0       0.0      0.0   \n",
       "2015-03-15       0.00      0.0    0.0      0.0       0.0       0.0      0.0   \n",
       "2015-03-29       0.00      0.0    0.0      0.0       0.0       0.0      0.0   \n",
       "2015-04-12       0.00      0.0    0.0      0.0       0.0       0.0      0.0   \n",
       "2015-04-26       0.00      0.0    0.0      0.0       0.0       0.0      0.0   \n",
       "2015-05-10       0.00      0.0    0.0      0.0       0.0       0.0      0.0   \n",
       "2015-05-24   70538.25  16383.0    0.0      0.0       0.0       0.0      0.0   \n",
       "2015-06-07  141076.50  32766.0    0.0      0.0       0.0       0.0      0.0   \n",
       "2015-06-21   70538.25  16383.0    0.0      0.0       0.0       0.0      0.0   \n",
       "2015-07-05       0.00      0.0    0.0      0.0       0.0       0.0      0.0   \n",
       "2015-07-19       0.00      0.0    0.0      0.0       0.0       0.0      0.0   \n",
       "2015-08-02       0.00      0.0    0.0      0.0       0.0       0.0      0.0   \n",
       "2015-08-16       0.00      0.0    0.0      0.0       0.0       0.0      0.0   \n",
       "2015-08-30       0.00      0.0    0.0      0.0       0.0       0.0      0.0   \n",
       "2015-09-13       0.00      0.0    0.0      0.0       0.0       0.0      0.0   \n",
       "2015-09-27       0.00      0.0    0.0      0.0       0.0       0.0      0.0   \n",
       "2015-10-11       0.00      0.0    0.0      0.0       0.0       0.0      0.0   \n",
       "2015-10-25       0.00      0.0    0.0      0.0       0.0       0.0      0.0   \n",
       "2015-11-08       0.00      0.0    0.0      0.0       0.0       0.0      0.0   \n",
       "2015-11-22       0.00      0.0    0.0      0.0       0.0       0.0      0.0   \n",
       "2015-12-06       0.00      0.0    0.0      0.0       0.0       0.0      0.0   \n",
       "2015-12-20       0.00      0.0    0.0      0.0       0.0       0.0      0.0   \n",
       "2016-01-03       0.00      0.0    0.0      0.0       0.0       0.0      0.0   \n",
       "2016-01-17       0.00      0.0    0.0      0.0       0.0       0.0      0.0   \n",
       "2016-01-31       0.00      0.0    0.0      0.0       0.0       0.0      0.0   \n",
       "2016-02-14       0.00      0.0    0.0      0.0       0.0       0.0      0.0   \n",
       "2016-02-28       0.00      0.0    0.0      0.0       0.0       0.0      0.0   \n",
       "2016-03-13       0.00      0.0    0.0      0.0       0.0       0.0      0.0   \n",
       "2016-03-27       0.00      0.0    0.0      0.0       0.0       0.0      0.0   \n",
       "2016-04-10       0.00      0.0    0.0      0.0       0.0       0.0      0.0   \n",
       "2016-04-24       0.00      0.0    0.0      0.0       0.0       0.0      0.0   \n",
       "2016-05-08       0.00      0.0    0.0      0.0       0.0       0.0      0.0   \n",
       "2016-05-22       0.00      0.0    0.0  78105.0  186022.0  230733.0  54439.0   \n",
       "2016-06-05       0.00      0.0    0.0      0.0       0.0       0.0      0.0   \n",
       "2016-06-19       0.00      0.0    0.0      0.0       0.0       0.0      0.0   \n",
       "2016-07-03       0.00      0.0    0.0      0.0       0.0       0.0      0.0   \n",
       "\n",
       "            35-39  40+  \n",
       "date_onset              \n",
       "2015-01-18    0.0  0.0  \n",
       "2015-02-01    0.0  0.0  \n",
       "2015-02-15    0.0  0.0  \n",
       "2015-03-01    0.0  0.0  \n",
       "2015-03-15    0.0  0.0  \n",
       "2015-03-29    0.0  0.0  \n",
       "2015-04-12    0.0  0.0  \n",
       "2015-04-26    0.0  0.0  \n",
       "2015-05-10    0.0  0.0  \n",
       "2015-05-24    0.0  0.0  \n",
       "2015-06-07    0.0  0.0  \n",
       "2015-06-21    0.0  0.0  \n",
       "2015-07-05    0.0  0.0  \n",
       "2015-07-19    0.0  0.0  \n",
       "2015-08-02    0.0  0.0  \n",
       "2015-08-16    0.0  0.0  \n",
       "2015-08-30    0.0  0.0  \n",
       "2015-09-13    0.0  0.0  \n",
       "2015-09-27    0.0  0.0  \n",
       "2015-10-11    0.0  0.0  \n",
       "2015-10-25    0.0  0.0  \n",
       "2015-11-08    0.0  0.0  \n",
       "2015-11-22    0.0  0.0  \n",
       "2015-12-06    0.0  0.0  \n",
       "2015-12-20    0.0  0.0  \n",
       "2016-01-03    0.0  0.0  \n",
       "2016-01-17    0.0  0.0  \n",
       "2016-01-31    0.0  0.0  \n",
       "2016-02-14    0.0  0.0  \n",
       "2016-02-28    0.0  0.0  \n",
       "2016-03-13    0.0  0.0  \n",
       "2016-03-27    0.0  0.0  \n",
       "2016-04-10    0.0  0.0  \n",
       "2016-04-24    0.0  0.0  \n",
       "2016-05-08    0.0  0.0  \n",
       "2016-05-22    0.0  0.0  \n",
       "2016-06-05    0.0  0.0  \n",
       "2016-06-19    0.0  0.0  \n",
       "2016-07-03    0.0  0.0  "
      ]
     },
     "execution_count": 31,
     "metadata": {},
     "output_type": "execute_result"
    }
   ],
   "source": [
    "sia"
   ]
  },
  {
   "cell_type": "code",
   "execution_count": 32,
   "metadata": {},
   "outputs": [],
   "source": [
    "sia_vacc = sia.cumsum(0).values"
   ]
  },
  {
   "cell_type": "markdown",
   "metadata": {},
   "source": [
    "### Measles dynamics\n",
    "\n",
    "$$\\prod_{t=0}^T Pr(I_t | S_{t-1}, I_{t-1}) Pr(S_t | I_t, S_{t-1})$$"
   ]
  },
  {
   "cell_type": "markdown",
   "metadata": {},
   "source": [
    "Input data"
   ]
  },
  {
   "cell_type": "code",
   "execution_count": 33,
   "metadata": {},
   "outputs": [
    {
     "data": {
      "text/plain": [
       "array([ 522675,  418444,  352776,  386296,  427388,  448107,  379846,\n",
       "        348235, 1264181])"
      ]
     },
     "execution_count": 33,
     "metadata": {},
     "output_type": "execute_result"
    }
   ],
   "source": [
    "N = pop_classes_total\n",
    "N"
   ]
  },
  {
   "cell_type": "code",
   "execution_count": 34,
   "metadata": {},
   "outputs": [
    {
     "data": {
      "text/plain": [
       "(39, 9)"
      ]
     },
     "execution_count": 34,
     "metadata": {},
     "output_type": "execute_result"
    }
   ],
   "source": [
    "I = confirmed_counts.values.astype(int)\n",
    "I.shape"
   ]
  },
  {
   "cell_type": "code",
   "execution_count": 35,
   "metadata": {},
   "outputs": [],
   "source": [
    "I_age = I.sum(0)"
   ]
  },
  {
   "cell_type": "code",
   "execution_count": 36,
   "metadata": {},
   "outputs": [
    {
     "data": {
      "text/html": [
       "<div>\n",
       "<style scoped>\n",
       "    .dataframe tbody tr th:only-of-type {\n",
       "        vertical-align: middle;\n",
       "    }\n",
       "\n",
       "    .dataframe tbody tr th {\n",
       "        vertical-align: top;\n",
       "    }\n",
       "\n",
       "    .dataframe thead th {\n",
       "        text-align: right;\n",
       "    }\n",
       "</style>\n",
       "<table border=\"1\" class=\"dataframe\">\n",
       "  <thead>\n",
       "    <tr style=\"text-align: right;\">\n",
       "      <th></th>\n",
       "      <th>id</th>\n",
       "      <th>date_onset</th>\n",
       "      <th>provincecity</th>\n",
       "      <th>dob</th>\n",
       "      <th>age_years</th>\n",
       "      <th>died</th>\n",
       "      <th>confirmed</th>\n",
       "      <th>labconfirmed</th>\n",
       "      <th>date_lab</th>\n",
       "      <th>vaccine_ever</th>\n",
       "      <th>male</th>\n",
       "      <th>month_onset</th>\n",
       "      <th>year_onset</th>\n",
       "    </tr>\n",
       "  </thead>\n",
       "  <tbody>\n",
       "    <tr>\n",
       "      <th>0</th>\n",
       "      <td>389.0</td>\n",
       "      <td>2015-03-30</td>\n",
       "      <td>UB</td>\n",
       "      <td>2014-09-01</td>\n",
       "      <td>0.577686</td>\n",
       "      <td>0.0</td>\n",
       "      <td>1.0</td>\n",
       "      <td>1.0</td>\n",
       "      <td>2015-04-06</td>\n",
       "      <td>0.0</td>\n",
       "      <td>True</td>\n",
       "      <td>3.0</td>\n",
       "      <td>2015.0</td>\n",
       "    </tr>\n",
       "    <tr>\n",
       "      <th>1</th>\n",
       "      <td>707.0</td>\n",
       "      <td>2015-04-03</td>\n",
       "      <td>UB</td>\n",
       "      <td>2013-02-02</td>\n",
       "      <td>2.162902</td>\n",
       "      <td>1.0</td>\n",
       "      <td>1.0</td>\n",
       "      <td>1.0</td>\n",
       "      <td>2015-04-04</td>\n",
       "      <td>0.0</td>\n",
       "      <td>True</td>\n",
       "      <td>4.0</td>\n",
       "      <td>2015.0</td>\n",
       "    </tr>\n",
       "    <tr>\n",
       "      <th>3</th>\n",
       "      <td>2061.0</td>\n",
       "      <td>2015-04-22</td>\n",
       "      <td>UB</td>\n",
       "      <td>2014-09-23</td>\n",
       "      <td>0.577686</td>\n",
       "      <td>0.0</td>\n",
       "      <td>1.0</td>\n",
       "      <td>1.0</td>\n",
       "      <td>2015-04-24</td>\n",
       "      <td>0.0</td>\n",
       "      <td>True</td>\n",
       "      <td>4.0</td>\n",
       "      <td>2015.0</td>\n",
       "    </tr>\n",
       "    <tr>\n",
       "      <th>8</th>\n",
       "      <td>20835.0</td>\n",
       "      <td>2015-11-25</td>\n",
       "      <td>UB</td>\n",
       "      <td>2015-09-01</td>\n",
       "      <td>0.238193</td>\n",
       "      <td>1.0</td>\n",
       "      <td>1.0</td>\n",
       "      <td>1.0</td>\n",
       "      <td>2015-12-01</td>\n",
       "      <td>0.0</td>\n",
       "      <td>True</td>\n",
       "      <td>11.0</td>\n",
       "      <td>2015.0</td>\n",
       "    </tr>\n",
       "    <tr>\n",
       "      <th>9</th>\n",
       "      <td>21053.0</td>\n",
       "      <td>2015-12-02</td>\n",
       "      <td>UB</td>\n",
       "      <td>2014-11-19</td>\n",
       "      <td>1.062286</td>\n",
       "      <td>0.0</td>\n",
       "      <td>1.0</td>\n",
       "      <td>1.0</td>\n",
       "      <td>2015-12-14</td>\n",
       "      <td>0.0</td>\n",
       "      <td>False</td>\n",
       "      <td>12.0</td>\n",
       "      <td>2015.0</td>\n",
       "    </tr>\n",
       "  </tbody>\n",
       "</table>\n",
       "</div>"
      ],
      "text/plain": [
       "        id  date_onset provincecity         dob  age_years  died  confirmed  \\\n",
       "0    389.0  2015-03-30           UB  2014-09-01   0.577686   0.0        1.0   \n",
       "1    707.0  2015-04-03           UB  2013-02-02   2.162902   1.0        1.0   \n",
       "3   2061.0  2015-04-22           UB  2014-09-23   0.577686   0.0        1.0   \n",
       "8  20835.0  2015-11-25           UB  2015-09-01   0.238193   1.0        1.0   \n",
       "9  21053.0  2015-12-02           UB  2014-11-19   1.062286   0.0        1.0   \n",
       "\n",
       "   labconfirmed    date_lab  vaccine_ever   male  month_onset  year_onset  \n",
       "0           1.0  2015-04-06           0.0   True          3.0      2015.0  \n",
       "1           1.0  2015-04-04           0.0   True          4.0      2015.0  \n",
       "3           1.0  2015-04-24           0.0   True          4.0      2015.0  \n",
       "8           1.0  2015-12-01           0.0   True         11.0      2015.0  \n",
       "9           1.0  2015-12-14           0.0  False         12.0      2015.0  "
      ]
     },
     "execution_count": 36,
     "metadata": {},
     "output_type": "execute_result"
    }
   ],
   "source": [
    "lab_samples = line_list.dropna(subset=['date_lab']).copy()\n",
    "lab_samples.head()"
   ]
  },
  {
   "cell_type": "code",
   "execution_count": 37,
   "metadata": {},
   "outputs": [
    {
     "data": {
      "text/plain": [
       "(5846, 13)"
      ]
     },
     "execution_count": 37,
     "metadata": {},
     "output_type": "execute_result"
    }
   ],
   "source": [
    "clinic_confirmed = lab_samples.query('confirmed==1').dropna(subset=['age_years']).copy()\n",
    "clinic_confirmed.shape"
   ]
  },
  {
   "cell_type": "code",
   "execution_count": 38,
   "metadata": {},
   "outputs": [],
   "source": [
    "clinic_confirmed['age_group'] = pd.cut(clinic_confirmed.age_years, age_classes, labels=np.arange(len(age_slices)))"
   ]
  },
  {
   "cell_type": "code",
   "execution_count": 39,
   "metadata": {},
   "outputs": [
    {
     "data": {
      "text/plain": [
       "age_group\n",
       "0    0.750371\n",
       "1    0.791489\n",
       "2    0.503497\n",
       "3    0.528487\n",
       "4    0.539967\n",
       "5    0.533007\n",
       "6    0.752212\n",
       "7    0.727273\n",
       "8    0.372093\n",
       "Name: labconfirmed, dtype: float64"
      ]
     },
     "execution_count": 39,
     "metadata": {},
     "output_type": "execute_result"
    }
   ],
   "source": [
    "clinic_confirmed.dropna(subset=['age_years']).groupby('age_group')['labconfirmed'].mean()"
   ]
  },
  {
   "cell_type": "code",
   "execution_count": 40,
   "metadata": {},
   "outputs": [],
   "source": [
    "age_midpoints = np.array([2.5, 7.5, 12.5, 17.5, 22.5, 27.5, 32.5, 37.5, 70])"
   ]
  },
  {
   "cell_type": "markdown",
   "metadata": {},
   "source": [
    "Model specification"
   ]
  },
  {
   "cell_type": "code",
   "execution_count": 41,
   "metadata": {},
   "outputs": [],
   "source": [
    "from theano import shared, function\n",
    "from theano.tensor.shared_randomstreams import RandomStreams"
   ]
  },
  {
   "cell_type": "code",
   "execution_count": 42,
   "metadata": {},
   "outputs": [],
   "source": [
    "confirmed, age, age_group = clinic_confirmed[['labconfirmed', 'age_years', 'age_group']].values.T"
   ]
  },
  {
   "cell_type": "code",
   "execution_count": 50,
   "metadata": {},
   "outputs": [],
   "source": [
    "age_group = age_group.astype(int)\n",
    "age = age.astype(float)"
   ]
  },
  {
   "cell_type": "code",
   "execution_count": 48,
   "metadata": {},
   "outputs": [],
   "source": [
    "n_knots = 20\n",
    "knots = np.linspace(age.min(), age.max(), n_knots)"
   ]
  },
  {
   "cell_type": "code",
   "execution_count": 51,
   "metadata": {},
   "outputs": [],
   "source": [
    "def interpolate(x0, y0, x):\n",
    "    \n",
    "    idx = np.searchsorted(x0, x)\n",
    "    dl = np.array(x - x0[idx - 1])\n",
    "    dr = np.array(x0[idx] - x)\n",
    "    d = dl + dr\n",
    "    wl = dr / d\n",
    "\n",
    "    return wl * y0[idx - 1] + (1 - wl) * y0[idx]"
   ]
  },
  {
   "cell_type": "code",
   "execution_count": 64,
   "metadata": {},
   "outputs": [],
   "source": [
    "with pm.Model() as model:\n",
    "    \n",
    "    # Confirmation sub-model\n",
    "    σ = pm.HalfNormal('σ', 5)\n",
    "    y = pm.GaussianRandomWalk('y', sd=σ, shape=n_knots)\n",
    "    α = interpolate(knots, y, age)\n",
    "    π = pm.invlogit(α)\n",
    "        \n",
    "    confirmation = pm.Bernoulli('confirmation', π, observed=confirmed)\n",
    "    \n",
    "    # Calculate age group probabilities of confirmation\n",
    "    α_group = interpolate(knots, y, age_midpoints)\n",
    "    p_confirm = pm.Deterministic('p_confirm', pm.invlogit(α_group))\n",
    "    \n",
    "    # Basic reproduction number centered on the dominant eigenvector of the contact matrix\n",
    "    R_0 = pm.Normal('R_0', max(evs[np.isreal(evs)]), sd=3.5)\n",
    "    \n",
    "    # Initial susceptibles (assume no information)\n",
    "    S_0 = pm.Uniform('S_0', 0, N, shape=n_age_classes, testval=N*0.8)\n",
    "    \n",
    "    # Susceptibles over time, removing individuals vaccinated by SIA\n",
    "    S = S_0 - shared(sia_vacc) - shared(I.cumsum(axis=0))\n",
    "    \n",
    "    # Force of infection\n",
    "    λ = S * (I.dot(B_prem) / N) + 0.001\n",
    "    \n",
    "    # Effective reproductive number\n",
    "    R_t = pm.Deterministic('R_t', S.sum(1) * R_0 / N.sum())\n",
    "    \n",
    "    # Adjust for confirmation bias\n",
    "    λ_obs = λ / p_confirm\n",
    "    \n",
    "    # Infections likelihood\n",
    "    infections = pm.Poisson('infections', λ_obs[:-1], observed=I[1:])\n",
    "\n"
   ]
  },
  {
   "cell_type": "code",
   "execution_count": 65,
   "metadata": {},
   "outputs": [
    {
     "data": {
      "text/plain": [
       "σ_log__               -0.77\n",
       "y                    -43.75\n",
       "R_0                   -2.17\n",
       "S_0_interval__       -16.49\n",
       "confirmation       -4052.14\n",
       "infections       -743042.65\n",
       "Name: Log-probability of test_point, dtype: float64"
      ]
     },
     "execution_count": 65,
     "metadata": {},
     "output_type": "execute_result"
    }
   ],
   "source": [
    "model.check_test_point()"
   ]
  },
  {
   "cell_type": "code",
   "execution_count": 66,
   "metadata": {},
   "outputs": [
    {
     "name": "stderr",
     "output_type": "stream",
     "text": [
      "Auto-assigning NUTS sampler...\n",
      "Initializing NUTS using jitter+adapt_diag...\n",
      "Multiprocess sampling (2 chains in 2 jobs)\n",
      "NUTS: [S_0, R_0, y, σ]\n",
      "Sampling 2 chains: 100%|██████████| 6000/6000 [07:44<00:00, 12.93draws/s] \n",
      "There were 42 divergences after tuning. Increase `target_accept` or reparameterize.\n",
      "There were 12 divergences after tuning. Increase `target_accept` or reparameterize.\n"
     ]
    }
   ],
   "source": [
    "with model:\n",
    "    \n",
    "    trace = pm.sample(1000, tune=2000, cores=2)"
   ]
  },
  {
   "cell_type": "markdown",
   "metadata": {},
   "source": [
    "Convergence check"
   ]
  },
  {
   "cell_type": "code",
   "execution_count": 67,
   "metadata": {},
   "outputs": [
    {
     "data": {
      "image/png": "[encoded data removed]",
      "text/plain": [
       "<Figure size 432x288 with 1 Axes>"
      ]
     },
     "metadata": {},
     "output_type": "display_data"
    }
   ],
   "source": [
    "pm.energyplot(trace);"
   ]
  },
  {
   "cell_type": "markdown",
   "metadata": {},
   "source": [
    "Estimate of initial susceptibles"
   ]
  },
  {
   "cell_type": "code",
   "execution_count": 68,
   "metadata": {},
   "outputs": [
    {
     "data": {
      "text/html": [
       "<div>\n",
       "<style scoped>\n",
       "    .dataframe tbody tr th:only-of-type {\n",
       "        vertical-align: middle;\n",
       "    }\n",
       "\n",
       "    .dataframe tbody tr th {\n",
       "        vertical-align: top;\n",
       "    }\n",
       "\n",
       "    .dataframe thead th {\n",
       "        text-align: right;\n",
       "    }\n",
       "</style>\n",
       "<table border=\"1\" class=\"dataframe\">\n",
       "  <thead>\n",
       "    <tr style=\"text-align: right;\">\n",
       "      <th></th>\n",
       "      <th>mean</th>\n",
       "      <th>sd</th>\n",
       "      <th>mc_error</th>\n",
       "      <th>hpd_2.5</th>\n",
       "      <th>hpd_97.5</th>\n",
       "      <th>n_eff</th>\n",
       "      <th>Rhat</th>\n",
       "    </tr>\n",
       "  </thead>\n",
       "  <tbody>\n",
       "    <tr>\n",
       "      <th>S_0__0</th>\n",
       "      <td>349487.0</td>\n",
       "      <td>774.0</td>\n",
       "      <td>17.0</td>\n",
       "      <td>348054.0</td>\n",
       "      <td>350993.0</td>\n",
       "      <td>1818.0</td>\n",
       "      <td>1.0</td>\n",
       "    </tr>\n",
       "    <tr>\n",
       "      <th>S_0__1</th>\n",
       "      <td>76140.0</td>\n",
       "      <td>303.0</td>\n",
       "      <td>9.0</td>\n",
       "      <td>75563.0</td>\n",
       "      <td>76737.0</td>\n",
       "      <td>1398.0</td>\n",
       "      <td>1.0</td>\n",
       "    </tr>\n",
       "    <tr>\n",
       "      <th>S_0__2</th>\n",
       "      <td>7776.0</td>\n",
       "      <td>418.0</td>\n",
       "      <td>13.0</td>\n",
       "      <td>6960.0</td>\n",
       "      <td>8580.0</td>\n",
       "      <td>1147.0</td>\n",
       "      <td>1.0</td>\n",
       "    </tr>\n",
       "    <tr>\n",
       "      <th>S_0__3</th>\n",
       "      <td>85495.0</td>\n",
       "      <td>36.0</td>\n",
       "      <td>1.0</td>\n",
       "      <td>85426.0</td>\n",
       "      <td>85565.0</td>\n",
       "      <td>1703.0</td>\n",
       "      <td>1.0</td>\n",
       "    </tr>\n",
       "    <tr>\n",
       "      <th>S_0__4</th>\n",
       "      <td>192510.0</td>\n",
       "      <td>51.0</td>\n",
       "      <td>1.0</td>\n",
       "      <td>192418.0</td>\n",
       "      <td>192614.0</td>\n",
       "      <td>1601.0</td>\n",
       "      <td>1.0</td>\n",
       "    </tr>\n",
       "    <tr>\n",
       "      <th>S_0__5</th>\n",
       "      <td>234477.0</td>\n",
       "      <td>52.0</td>\n",
       "      <td>1.0</td>\n",
       "      <td>234384.0</td>\n",
       "      <td>234584.0</td>\n",
       "      <td>1321.0</td>\n",
       "      <td>1.0</td>\n",
       "    </tr>\n",
       "    <tr>\n",
       "      <th>S_0__6</th>\n",
       "      <td>57442.0</td>\n",
       "      <td>79.0</td>\n",
       "      <td>2.0</td>\n",
       "      <td>57296.0</td>\n",
       "      <td>57598.0</td>\n",
       "      <td>1675.0</td>\n",
       "      <td>1.0</td>\n",
       "    </tr>\n",
       "    <tr>\n",
       "      <th>S_0__7</th>\n",
       "      <td>7328.0</td>\n",
       "      <td>387.0</td>\n",
       "      <td>12.0</td>\n",
       "      <td>6580.0</td>\n",
       "      <td>8090.0</td>\n",
       "      <td>1206.0</td>\n",
       "      <td>1.0</td>\n",
       "    </tr>\n",
       "    <tr>\n",
       "      <th>S_0__8</th>\n",
       "      <td>14234.0</td>\n",
       "      <td>5180.0</td>\n",
       "      <td>194.0</td>\n",
       "      <td>5036.0</td>\n",
       "      <td>23250.0</td>\n",
       "      <td>738.0</td>\n",
       "      <td>1.0</td>\n",
       "    </tr>\n",
       "  </tbody>\n",
       "</table>\n",
       "</div>"
      ],
      "text/plain": [
       "            mean      sd  mc_error   hpd_2.5  hpd_97.5   n_eff  Rhat\n",
       "S_0__0  349487.0   774.0      17.0  348054.0  350993.0  1818.0   1.0\n",
       "S_0__1   76140.0   303.0       9.0   75563.0   76737.0  1398.0   1.0\n",
       "S_0__2    7776.0   418.0      13.0    6960.0    8580.0  1147.0   1.0\n",
       "S_0__3   85495.0    36.0       1.0   85426.0   85565.0  1703.0   1.0\n",
       "S_0__4  192510.0    51.0       1.0  192418.0  192614.0  1601.0   1.0\n",
       "S_0__5  234477.0    52.0       1.0  234384.0  234584.0  1321.0   1.0\n",
       "S_0__6   57442.0    79.0       2.0   57296.0   57598.0  1675.0   1.0\n",
       "S_0__7    7328.0   387.0      12.0    6580.0    8090.0  1206.0   1.0\n",
       "S_0__8   14234.0  5180.0     194.0    5036.0   23250.0   738.0   1.0"
      ]
     },
     "execution_count": 68,
     "metadata": {},
     "output_type": "execute_result"
    }
   ],
   "source": [
    "pm.summary(trace, varnames=['S_0']).round(0)"
   ]
  },
  {
   "attachments": {
    "table.png": {
     "image/png": "[encoded data removed]"
    }
   },
   "cell_type": "markdown",
   "metadata": {},
   "source": [
    "For comparison, estimates without confirmation bias correction:\n",
    "\n",
    "![table.png](attachment:table.png)"
   ]
  },
  {
   "cell_type": "code",
   "execution_count": 74,
   "metadata": {},
   "outputs": [
    {
     "data": {
      "text/plain": [
       "GridSpec(1, 1)"
      ]
     },
     "execution_count": 74,
     "metadata": {},
     "output_type": "execute_result"
    },
    {
     "data": {
      "image/png": "[encoded data removed]",
      "text/plain": [
       "<Figure size 432x288 with 1 Axes>"
      ]
     },
     "metadata": {
      "needs_background": "light"
     },
     "output_type": "display_data"
    }
   ],
   "source": [
    "pm.forestplot(trace, varnames=['S_0'], ylabels=age_labels, rhat=False)"
   ]
  },
  {
   "cell_type": "code",
   "execution_count": 69,
   "metadata": {},
   "outputs": [
    {
     "data": {
      "image/png": "[encoded data removed]",
      "text/plain": [
       "<Figure size 864x144 with 2 Axes>"
      ]
     },
     "metadata": {
      "needs_background": "light"
     },
     "output_type": "display_data"
    }
   ],
   "source": [
    "pm.traceplot(trace, varnames=['R_0']);"
   ]
  },
  {
   "cell_type": "markdown",
   "metadata": {},
   "source": [
    "Trajectory of effective R"
   ]
  },
  {
   "cell_type": "code",
   "execution_count": 58,
   "metadata": {},
   "outputs": [
    {
     "data": {
      "text/plain": [
       "GridSpec(1, 2, width_ratios=[3, 1])"
      ]
     },
     "execution_count": 58,
     "metadata": {},
     "output_type": "execute_result"
    },
    {
     "data": {
      "image/png": "[encoded data removed]",
      "text/plain": [
       "<Figure size 432x288 with 2 Axes>"
      ]
     },
     "metadata": {
      "needs_background": "light"
     },
     "output_type": "display_data"
    }
   ],
   "source": [
    "pm.forestplot(trace, varnames=['R_t'])"
   ]
  }
 ],
 "metadata": {
  "kernelspec": {
   "display_name": "Python 3",
   "language": "python",
   "name": "python3"
  },
  "language_info": {
   "codemirror_mode": {
    "name": "ipython",
    "version": 3
   },
   "file_extension": ".py",
   "mimetype": "text/x-python",
   "name": "python",
   "nbconvert_exporter": "python",
   "pygments_lexer": "ipython3",
   "version": "3.7.1"
  }
 },
 "nbformat": 4,
 "nbformat_minor": 2
}
