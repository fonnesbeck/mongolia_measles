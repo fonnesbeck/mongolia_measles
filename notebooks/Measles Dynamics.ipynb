{
 "cells": [
  {
   "cell_type": "code",
   "execution_count": 1,
   "metadata": {},
   "outputs": [],
   "source": [
    "%matplotlib inline\n",
    "import numpy as np\n",
    "import pandas as pd\n",
    "import seaborn as sns\n",
    "import geopandas as gpd\n",
    "import pymc3 as pm\n",
    "import matplotlib.pylab as plt\n",
    "import theano.tensor as tt\n",
    "sns.set_style('white')\n",
    "\n",
    "DATA = '../data/clean/'"
   ]
  },
  {
   "cell_type": "markdown",
   "metadata": {},
   "source": [
    "Check for the number of available compute cores"
   ]
  },
  {
   "cell_type": "code",
   "execution_count": 2,
   "metadata": {},
   "outputs": [
    {
     "data": {
      "text/plain": [
       "4"
      ]
     },
     "execution_count": 2,
     "metadata": {},
     "output_type": "execute_result"
    }
   ],
   "source": [
    "import multiprocessing\n",
    "\n",
    "multiprocessing.cpu_count()"
   ]
  },
  {
   "cell_type": "markdown",
   "metadata": {},
   "source": [
    "## Data import\n",
    "\n",
    "Line list to extract cases"
   ]
  },
  {
   "cell_type": "code",
   "execution_count": 3,
   "metadata": {},
   "outputs": [
    {
     "data": {
      "text/html": [
       "<div>\n",
       "<style scoped>\n",
       "    .dataframe tbody tr th:only-of-type {\n",
       "        vertical-align: middle;\n",
       "    }\n",
       "\n",
       "    .dataframe tbody tr th {\n",
       "        vertical-align: top;\n",
       "    }\n",
       "\n",
       "    .dataframe thead th {\n",
       "        text-align: right;\n",
       "    }\n",
       "</style>\n",
       "<table border=\"1\" class=\"dataframe\">\n",
       "  <thead>\n",
       "    <tr style=\"text-align: right;\">\n",
       "      <th></th>\n",
       "      <th>id</th>\n",
       "      <th>date_onset</th>\n",
       "      <th>provincecity</th>\n",
       "      <th>dob</th>\n",
       "      <th>age_years</th>\n",
       "      <th>died</th>\n",
       "      <th>confirmed</th>\n",
       "      <th>labconfirmed</th>\n",
       "      <th>date_lab</th>\n",
       "      <th>vaccine_ever</th>\n",
       "      <th>male</th>\n",
       "      <th>month_onset</th>\n",
       "      <th>year_onset</th>\n",
       "    </tr>\n",
       "  </thead>\n",
       "  <tbody>\n",
       "    <tr>\n",
       "      <th>0</th>\n",
       "      <td>389.0</td>\n",
       "      <td>2015-03-30</td>\n",
       "      <td>UB</td>\n",
       "      <td>2014-09-01</td>\n",
       "      <td>0.577686</td>\n",
       "      <td>0.0</td>\n",
       "      <td>1.0</td>\n",
       "      <td>1.0</td>\n",
       "      <td>2015-04-06</td>\n",
       "      <td>0.0</td>\n",
       "      <td>True</td>\n",
       "      <td>3.0</td>\n",
       "      <td>2015.0</td>\n",
       "    </tr>\n",
       "    <tr>\n",
       "      <th>1</th>\n",
       "      <td>707.0</td>\n",
       "      <td>2015-04-03</td>\n",
       "      <td>UB</td>\n",
       "      <td>2013-02-02</td>\n",
       "      <td>2.162902</td>\n",
       "      <td>1.0</td>\n",
       "      <td>1.0</td>\n",
       "      <td>1.0</td>\n",
       "      <td>2015-04-04</td>\n",
       "      <td>0.0</td>\n",
       "      <td>True</td>\n",
       "      <td>4.0</td>\n",
       "      <td>2015.0</td>\n",
       "    </tr>\n",
       "    <tr>\n",
       "      <th>2</th>\n",
       "      <td>1762.0</td>\n",
       "      <td>2015-04-14</td>\n",
       "      <td>KhU</td>\n",
       "      <td>2015-01-04</td>\n",
       "      <td>0.279261</td>\n",
       "      <td>1.0</td>\n",
       "      <td>1.0</td>\n",
       "      <td>0.0</td>\n",
       "      <td>NaN</td>\n",
       "      <td>0.0</td>\n",
       "      <td>True</td>\n",
       "      <td>4.0</td>\n",
       "      <td>2015.0</td>\n",
       "    </tr>\n",
       "    <tr>\n",
       "      <th>3</th>\n",
       "      <td>2061.0</td>\n",
       "      <td>2015-04-22</td>\n",
       "      <td>UB</td>\n",
       "      <td>2014-09-23</td>\n",
       "      <td>0.577686</td>\n",
       "      <td>0.0</td>\n",
       "      <td>1.0</td>\n",
       "      <td>1.0</td>\n",
       "      <td>2015-04-24</td>\n",
       "      <td>0.0</td>\n",
       "      <td>True</td>\n",
       "      <td>4.0</td>\n",
       "      <td>2015.0</td>\n",
       "    </tr>\n",
       "    <tr>\n",
       "      <th>4</th>\n",
       "      <td>6465.0</td>\n",
       "      <td>2015-05-12</td>\n",
       "      <td>UB</td>\n",
       "      <td>2013-12-18</td>\n",
       "      <td>1.314168</td>\n",
       "      <td>1.0</td>\n",
       "      <td>0.0</td>\n",
       "      <td>0.0</td>\n",
       "      <td>NaN</td>\n",
       "      <td>0.0</td>\n",
       "      <td>False</td>\n",
       "      <td>5.0</td>\n",
       "      <td>2015.0</td>\n",
       "    </tr>\n",
       "  </tbody>\n",
       "</table>\n",
       "</div>"
      ],
      "text/plain": [
       "       id  date_onset provincecity         dob  age_years  died  confirmed  \\\n",
       "0   389.0  2015-03-30           UB  2014-09-01   0.577686   0.0        1.0   \n",
       "1   707.0  2015-04-03           UB  2013-02-02   2.162902   1.0        1.0   \n",
       "2  1762.0  2015-04-14          KhU  2015-01-04   0.279261   1.0        1.0   \n",
       "3  2061.0  2015-04-22           UB  2014-09-23   0.577686   0.0        1.0   \n",
       "4  6465.0  2015-05-12           UB  2013-12-18   1.314168   1.0        0.0   \n",
       "\n",
       "   labconfirmed    date_lab  vaccine_ever   male  month_onset  year_onset  \n",
       "0           1.0  2015-04-06           0.0   True          3.0      2015.0  \n",
       "1           1.0  2015-04-04           0.0   True          4.0      2015.0  \n",
       "2           0.0         NaN           0.0   True          4.0      2015.0  \n",
       "3           1.0  2015-04-24           0.0   True          4.0      2015.0  \n",
       "4           0.0         NaN           0.0  False          5.0      2015.0  "
      ]
     },
     "execution_count": 3,
     "metadata": {},
     "output_type": "execute_result"
    }
   ],
   "source": [
    "line_list = pd.read_csv(DATA + 'line_list.csv')\n",
    "line_list.head()"
   ]
  },
  {
   "cell_type": "markdown",
   "metadata": {},
   "source": [
    "Extract and plot confirmed counts"
   ]
  },
  {
   "cell_type": "code",
   "execution_count": 4,
   "metadata": {
    "scrolled": true
   },
   "outputs": [
    {
     "data": {
      "text/html": [
       "<div>\n",
       "<style scoped>\n",
       "    .dataframe tbody tr th:only-of-type {\n",
       "        vertical-align: middle;\n",
       "    }\n",
       "\n",
       "    .dataframe tbody tr th {\n",
       "        vertical-align: top;\n",
       "    }\n",
       "\n",
       "    .dataframe thead th {\n",
       "        text-align: right;\n",
       "    }\n",
       "</style>\n",
       "<table border=\"1\" class=\"dataframe\">\n",
       "  <thead>\n",
       "    <tr style=\"text-align: right;\">\n",
       "      <th></th>\n",
       "      <th>[0, 1)</th>\n",
       "      <th>[1, 5)</th>\n",
       "      <th>[5, 10)</th>\n",
       "      <th>[10, 15)</th>\n",
       "      <th>[15, 20)</th>\n",
       "      <th>[20, 25)</th>\n",
       "      <th>[25, 30)</th>\n",
       "      <th>[30, 35)</th>\n",
       "      <th>[35, 40)</th>\n",
       "      <th>[40, 100)</th>\n",
       "    </tr>\n",
       "    <tr>\n",
       "      <th>date_onset</th>\n",
       "      <th></th>\n",
       "      <th></th>\n",
       "      <th></th>\n",
       "      <th></th>\n",
       "      <th></th>\n",
       "      <th></th>\n",
       "      <th></th>\n",
       "      <th></th>\n",
       "      <th></th>\n",
       "      <th></th>\n",
       "    </tr>\n",
       "  </thead>\n",
       "  <tbody>\n",
       "    <tr>\n",
       "      <th>2016-05-08</th>\n",
       "      <td>318.0</td>\n",
       "      <td>97.0</td>\n",
       "      <td>83.0</td>\n",
       "      <td>119.0</td>\n",
       "      <td>180.0</td>\n",
       "      <td>155.0</td>\n",
       "      <td>152.0</td>\n",
       "      <td>109.0</td>\n",
       "      <td>63.0</td>\n",
       "      <td>41.0</td>\n",
       "    </tr>\n",
       "    <tr>\n",
       "      <th>2016-05-22</th>\n",
       "      <td>293.0</td>\n",
       "      <td>79.0</td>\n",
       "      <td>58.0</td>\n",
       "      <td>81.0</td>\n",
       "      <td>131.0</td>\n",
       "      <td>141.0</td>\n",
       "      <td>105.0</td>\n",
       "      <td>87.0</td>\n",
       "      <td>40.0</td>\n",
       "      <td>36.0</td>\n",
       "    </tr>\n",
       "    <tr>\n",
       "      <th>2016-06-05</th>\n",
       "      <td>179.0</td>\n",
       "      <td>71.0</td>\n",
       "      <td>39.0</td>\n",
       "      <td>53.0</td>\n",
       "      <td>70.0</td>\n",
       "      <td>62.0</td>\n",
       "      <td>40.0</td>\n",
       "      <td>45.0</td>\n",
       "      <td>20.0</td>\n",
       "      <td>21.0</td>\n",
       "    </tr>\n",
       "    <tr>\n",
       "      <th>2016-06-19</th>\n",
       "      <td>77.0</td>\n",
       "      <td>21.0</td>\n",
       "      <td>7.0</td>\n",
       "      <td>21.0</td>\n",
       "      <td>17.0</td>\n",
       "      <td>13.0</td>\n",
       "      <td>3.0</td>\n",
       "      <td>15.0</td>\n",
       "      <td>12.0</td>\n",
       "      <td>7.0</td>\n",
       "    </tr>\n",
       "    <tr>\n",
       "      <th>2016-07-03</th>\n",
       "      <td>12.0</td>\n",
       "      <td>0.0</td>\n",
       "      <td>1.0</td>\n",
       "      <td>0.0</td>\n",
       "      <td>0.0</td>\n",
       "      <td>0.0</td>\n",
       "      <td>3.0</td>\n",
       "      <td>0.0</td>\n",
       "      <td>0.0</td>\n",
       "      <td>2.0</td>\n",
       "    </tr>\n",
       "  </tbody>\n",
       "</table>\n",
       "</div>"
      ],
      "text/plain": [
       "            [0, 1)  [1, 5)  [5, 10)  [10, 15)  [15, 20)  [20, 25)  [25, 30)  \\\n",
       "date_onset                                                                    \n",
       "2016-05-08   318.0    97.0     83.0     119.0     180.0     155.0     152.0   \n",
       "2016-05-22   293.0    79.0     58.0      81.0     131.0     141.0     105.0   \n",
       "2016-06-05   179.0    71.0     39.0      53.0      70.0      62.0      40.0   \n",
       "2016-06-19    77.0    21.0      7.0      21.0      17.0      13.0       3.0   \n",
       "2016-07-03    12.0     0.0      1.0       0.0       0.0       0.0       3.0   \n",
       "\n",
       "            [30, 35)  [35, 40)  [40, 100)  \n",
       "date_onset                                 \n",
       "2016-05-08     109.0      63.0       41.0  \n",
       "2016-05-22      87.0      40.0       36.0  \n",
       "2016-06-05      45.0      20.0       21.0  \n",
       "2016-06-19      15.0      12.0        7.0  \n",
       "2016-07-03       0.0       0.0        2.0  "
      ]
     },
     "execution_count": 4,
     "metadata": {},
     "output_type": "execute_result"
    }
   ],
   "source": [
    "confirmed_counts = pd.read_csv(DATA + 'confirmed_counts.csv', index_col=0)\n",
    "confirmed_counts.tail()"
   ]
  },
  {
   "cell_type": "code",
   "execution_count": 5,
   "metadata": {},
   "outputs": [
    {
     "data": {
      "image/png": "[encoded data removed]",
      "text/plain": [
       "<Figure size 432x288 with 1 Axes>"
      ]
     },
     "metadata": {
      "needs_background": "light"
     },
     "output_type": "display_data"
    }
   ],
   "source": [
    "confirmed_counts.plot(cmap='viridis');"
   ]
  },
  {
   "cell_type": "markdown",
   "metadata": {},
   "source": [
    "In order to account for change in the underlying population, we need the number of births in 2015 and 2016 (Source: [Wikipedia](https://en.wikipedia.org/wiki/Demographics_of_Mongolia#Registered_births_and_deaths))"
   ]
  },
  {
   "cell_type": "code",
   "execution_count": 6,
   "metadata": {},
   "outputs": [],
   "source": [
    "births = 82130, 79920"
   ]
  },
  {
   "cell_type": "markdown",
   "metadata": {},
   "source": [
    "We will employ the contact matrix for Mongolia, as estimated by [Prem et al. 2017](http://journals.plos.org/ploscompbiol/article?id=10.1371/journal.pcbi.1005697#sec020)"
   ]
  },
  {
   "cell_type": "code",
   "execution_count": 7,
   "metadata": {},
   "outputs": [
    {
     "data": {
      "text/plain": [
       "array([[ 4.40123661,  1.76393655,  0.91943738,  0.62449763,  1.04620724,\n",
       "         1.48232365,  1.59726926,  1.27263358,  0.69913779],\n",
       "       [ 1.51664206,  5.57982055,  1.63679975,  0.52656607,  0.37649241,\n",
       "         0.83552993,  1.0698524 ,  1.04200163,  0.77666399],\n",
       "       [ 0.56530473,  2.43013564,  9.17372545,  1.33873141,  0.67890573,\n",
       "         0.56166434,  0.75227034,  0.97884946,  0.97725743],\n",
       "       [ 0.36238309,  0.73595028,  3.88089151, 12.32915786,  2.48410474,\n",
       "         1.11449654,  0.79194079,  1.04438411,  1.08448104],\n",
       "       [ 0.69060422,  0.49460207,  0.65441906,  4.38870495,  6.8744335 ,\n",
       "         2.87783706,  1.69684851,  1.35746918,  1.11479572],\n",
       "       [ 1.13165827,  0.59517343,  0.33830222,  1.24692768,  3.31035503,\n",
       "         4.03747616,  2.29742657,  1.66957878,  1.29603167],\n",
       "       [ 1.11906529,  1.42978486,  1.12904181,  0.68832499,  1.51871499,\n",
       "         2.32775238,  2.87889204,  2.1302899 ,  1.51514744],\n",
       "       [ 1.0230335 ,  1.46318255,  1.28889523,  0.93261004,  0.98836616,\n",
       "         1.65427852,  2.02270357,  2.65928253,  2.02562053],\n",
       "       [ 0.63654838,  1.05024748,  1.28670258,  1.37093328,  1.13235301,\n",
       "         1.33195969,  1.699263  ,  1.87162165,  2.21015242]])"
      ]
     },
     "execution_count": 7,
     "metadata": {},
     "output_type": "execute_result"
    }
   ],
   "source": [
    "B_prem = pd.read_csv(DATA + 'mongolia_prem.csv').values[:9, :9]\n",
    "B_prem"
   ]
  },
  {
   "cell_type": "code",
   "execution_count": 8,
   "metadata": {},
   "outputs": [
    {
     "data": {
      "text/plain": [
       "(9, 9)"
      ]
     },
     "execution_count": 8,
     "metadata": {},
     "output_type": "execute_result"
    }
   ],
   "source": [
    "B_prem.shape"
   ]
  },
  {
   "cell_type": "markdown",
   "metadata": {},
   "source": [
    "Expand contact matrix to include infants; treat them the same as 1-4 year-olds."
   ]
  },
  {
   "cell_type": "code",
   "execution_count": 9,
   "metadata": {},
   "outputs": [
    {
     "data": {
      "text/plain": [
       "array([[ 4.40123661,  4.40123661,  1.76393655,  0.91943738,  0.62449763,\n",
       "         1.04620724,  1.48232365,  1.59726926,  1.27263358,  0.69913779],\n",
       "       [ 4.40123661,  4.40123661,  1.76393655,  0.91943738,  0.62449763,\n",
       "         1.04620724,  1.48232365,  1.59726926,  1.27263358,  0.69913779],\n",
       "       [ 1.51664206,  1.51664206,  5.57982055,  1.63679975,  0.52656607,\n",
       "         0.37649241,  0.83552993,  1.0698524 ,  1.04200163,  0.77666399],\n",
       "       [ 0.56530473,  0.56530473,  2.43013564,  9.17372545,  1.33873141,\n",
       "         0.67890573,  0.56166434,  0.75227034,  0.97884946,  0.97725743],\n",
       "       [ 0.36238309,  0.36238309,  0.73595028,  3.88089151, 12.32915786,\n",
       "         2.48410474,  1.11449654,  0.79194079,  1.04438411,  1.08448104],\n",
       "       [ 0.69060422,  0.69060422,  0.49460207,  0.65441906,  4.38870495,\n",
       "         6.8744335 ,  2.87783706,  1.69684851,  1.35746918,  1.11479572],\n",
       "       [ 1.13165827,  1.13165827,  0.59517343,  0.33830222,  1.24692768,\n",
       "         3.31035503,  4.03747616,  2.29742657,  1.66957878,  1.29603167],\n",
       "       [ 1.11906529,  1.11906529,  1.42978486,  1.12904181,  0.68832499,\n",
       "         1.51871499,  2.32775238,  2.87889204,  2.1302899 ,  1.51514744],\n",
       "       [ 1.0230335 ,  1.0230335 ,  1.46318255,  1.28889523,  0.93261004,\n",
       "         0.98836616,  1.65427852,  2.02270357,  2.65928253,  2.02562053],\n",
       "       [ 0.63654838,  0.63654838,  1.05024748,  1.28670258,  1.37093328,\n",
       "         1.13235301,  1.33195969,  1.699263  ,  1.87162165,  2.21015242]])"
      ]
     },
     "execution_count": 9,
     "metadata": {},
     "output_type": "execute_result"
    }
   ],
   "source": [
    "B_prem_exp = np.zeros((10, 10))\n",
    "B_prem_exp[1:, 1:] = B_prem.copy()\n",
    "B_prem_exp[:2, :2] = B_prem_exp[1, 1]\n",
    "B_prem_exp[0, 2:] = B_prem[0, 1:]\n",
    "B_prem_exp[2:, 0] = B_prem[1:, 0]\n",
    "B_prem_exp"
   ]
  },
  {
   "cell_type": "markdown",
   "metadata": {},
   "source": [
    "$R_0$ as estimated from this contact matrix"
   ]
  },
  {
   "cell_type": "code",
   "execution_count": 10,
   "metadata": {},
   "outputs": [
    {
     "data": {
      "text/plain": [
       "17.686930739035084"
      ]
     },
     "execution_count": 10,
     "metadata": {},
     "output_type": "execute_result"
    }
   ],
   "source": [
    "evs = np.linalg.eigvals(B_prem).real\n",
    "max(evs[np.isreal(evs)])"
   ]
  },
  {
   "cell_type": "markdown",
   "metadata": {},
   "source": [
    "Import the underlying population sizes, by province:"
   ]
  },
  {
   "cell_type": "code",
   "execution_count": 11,
   "metadata": {},
   "outputs": [
    {
     "data": {
      "text/html": [
       "<div>\n",
       "<style scoped>\n",
       "    .dataframe tbody tr th:only-of-type {\n",
       "        vertical-align: middle;\n",
       "    }\n",
       "\n",
       "    .dataframe tbody tr th {\n",
       "        vertical-align: top;\n",
       "    }\n",
       "\n",
       "    .dataframe thead th {\n",
       "        text-align: right;\n",
       "    }\n",
       "</style>\n",
       "<table border=\"1\" class=\"dataframe\">\n",
       "  <thead>\n",
       "    <tr style=\"text-align: right;\">\n",
       "      <th></th>\n",
       "      <th>Total</th>\n",
       "      <th>0-4</th>\n",
       "      <th>5-9</th>\n",
       "      <th>10-14</th>\n",
       "      <th>15-19</th>\n",
       "      <th>20-24</th>\n",
       "      <th>25-29</th>\n",
       "      <th>30-34</th>\n",
       "      <th>35-39</th>\n",
       "      <th>40-44</th>\n",
       "      <th>45-49</th>\n",
       "      <th>50-54</th>\n",
       "      <th>55-59</th>\n",
       "      <th>60-64</th>\n",
       "      <th>65-69</th>\n",
       "      <th>70+</th>\n",
       "    </tr>\n",
       "    <tr>\n",
       "      <th>Province</th>\n",
       "      <th></th>\n",
       "      <th></th>\n",
       "      <th></th>\n",
       "      <th></th>\n",
       "      <th></th>\n",
       "      <th></th>\n",
       "      <th></th>\n",
       "      <th></th>\n",
       "      <th></th>\n",
       "      <th></th>\n",
       "      <th></th>\n",
       "      <th></th>\n",
       "      <th></th>\n",
       "      <th></th>\n",
       "      <th></th>\n",
       "      <th></th>\n",
       "    </tr>\n",
       "  </thead>\n",
       "  <tbody>\n",
       "    <tr>\n",
       "      <th>Arkhangai</th>\n",
       "      <td>92896</td>\n",
       "      <td>10440</td>\n",
       "      <td>8360</td>\n",
       "      <td>7883</td>\n",
       "      <td>9249</td>\n",
       "      <td>9469</td>\n",
       "      <td>8207</td>\n",
       "      <td>6856</td>\n",
       "      <td>6824</td>\n",
       "      <td>6294</td>\n",
       "      <td>5498</td>\n",
       "      <td>4643</td>\n",
       "      <td>3266</td>\n",
       "      <td>2202</td>\n",
       "      <td>1237</td>\n",
       "      <td>2468</td>\n",
       "    </tr>\n",
       "    <tr>\n",
       "      <th>Bayan-Ulgii</th>\n",
       "      <td>93165</td>\n",
       "      <td>11655</td>\n",
       "      <td>10219</td>\n",
       "      <td>9929</td>\n",
       "      <td>8794</td>\n",
       "      <td>8872</td>\n",
       "      <td>8531</td>\n",
       "      <td>7207</td>\n",
       "      <td>6199</td>\n",
       "      <td>5713</td>\n",
       "      <td>4633</td>\n",
       "      <td>3842</td>\n",
       "      <td>2747</td>\n",
       "      <td>1665</td>\n",
       "      <td>1006</td>\n",
       "      <td>2153</td>\n",
       "    </tr>\n",
       "    <tr>\n",
       "      <th>Bayankhongor</th>\n",
       "      <td>79310</td>\n",
       "      <td>9760</td>\n",
       "      <td>7429</td>\n",
       "      <td>6675</td>\n",
       "      <td>7812</td>\n",
       "      <td>7992</td>\n",
       "      <td>7436</td>\n",
       "      <td>6280</td>\n",
       "      <td>5806</td>\n",
       "      <td>5165</td>\n",
       "      <td>4383</td>\n",
       "      <td>3714</td>\n",
       "      <td>2436</td>\n",
       "      <td>1480</td>\n",
       "      <td>1008</td>\n",
       "      <td>1934</td>\n",
       "    </tr>\n",
       "    <tr>\n",
       "      <th>Bulgan</th>\n",
       "      <td>60324</td>\n",
       "      <td>6415</td>\n",
       "      <td>5351</td>\n",
       "      <td>4556</td>\n",
       "      <td>5423</td>\n",
       "      <td>5587</td>\n",
       "      <td>4977</td>\n",
       "      <td>4499</td>\n",
       "      <td>4592</td>\n",
       "      <td>4426</td>\n",
       "      <td>4066</td>\n",
       "      <td>3494</td>\n",
       "      <td>2619</td>\n",
       "      <td>1666</td>\n",
       "      <td>877</td>\n",
       "      <td>1776</td>\n",
       "    </tr>\n",
       "    <tr>\n",
       "      <th>Gobi-Altai</th>\n",
       "      <td>56698</td>\n",
       "      <td>5953</td>\n",
       "      <td>5392</td>\n",
       "      <td>5046</td>\n",
       "      <td>5778</td>\n",
       "      <td>5631</td>\n",
       "      <td>4837</td>\n",
       "      <td>4401</td>\n",
       "      <td>4345</td>\n",
       "      <td>3994</td>\n",
       "      <td>3389</td>\n",
       "      <td>2730</td>\n",
       "      <td>1974</td>\n",
       "      <td>1064</td>\n",
       "      <td>706</td>\n",
       "      <td>1458</td>\n",
       "    </tr>\n",
       "  </tbody>\n",
       "</table>\n",
       "</div>"
      ],
      "text/plain": [
       "              Total    0-4    5-9   10-14   15-19   20-24   25-29   30-34  \\\n",
       "Province                                                                    \n",
       "Arkhangai     92896  10440   8360    7883    9249    9469    8207    6856   \n",
       "Bayan-Ulgii   93165  11655  10219    9929    8794    8872    8531    7207   \n",
       "Bayankhongor  79310   9760   7429    6675    7812    7992    7436    6280   \n",
       "Bulgan        60324   6415   5351    4556    5423    5587    4977    4499   \n",
       "Gobi-Altai    56698   5953   5392    5046    5778    5631    4837    4401   \n",
       "\n",
       "               35-39   40-44   45-49   50-54   55-59   60-64   65-69   70+  \n",
       "Province                                                                    \n",
       "Arkhangai       6824    6294    5498    4643    3266    2202    1237  2468  \n",
       "Bayan-Ulgii     6199    5713    4633    3842    2747    1665    1006  2153  \n",
       "Bayankhongor    5806    5165    4383    3714    2436    1480    1008  1934  \n",
       "Bulgan          4592    4426    4066    3494    2619    1666     877  1776  \n",
       "Gobi-Altai      4345    3994    3389    2730    1974    1064     706  1458  "
      ]
     },
     "execution_count": 11,
     "metadata": {},
     "output_type": "execute_result"
    }
   ],
   "source": [
    "population = pd.read_csv(DATA + '../clean/denominators.csv', index_col=0)\n",
    "population.head()"
   ]
  },
  {
   "cell_type": "markdown",
   "metadata": {},
   "source": [
    "Age classes above 40 will be aggregated into a single group."
   ]
  },
  {
   "cell_type": "code",
   "execution_count": 12,
   "metadata": {},
   "outputs": [
    {
     "data": {
      "text/html": [
       "<div>\n",
       "<style scoped>\n",
       "    .dataframe tbody tr th:only-of-type {\n",
       "        vertical-align: middle;\n",
       "    }\n",
       "\n",
       "    .dataframe tbody tr th {\n",
       "        vertical-align: top;\n",
       "    }\n",
       "\n",
       "    .dataframe thead th {\n",
       "        text-align: right;\n",
       "    }\n",
       "</style>\n",
       "<table border=\"1\" class=\"dataframe\">\n",
       "  <thead>\n",
       "    <tr style=\"text-align: right;\">\n",
       "      <th></th>\n",
       "      <th>0-4</th>\n",
       "      <th>5-9</th>\n",
       "      <th>10-14</th>\n",
       "      <th>15-19</th>\n",
       "      <th>20-24</th>\n",
       "      <th>25-29</th>\n",
       "      <th>30-34</th>\n",
       "      <th>35-39</th>\n",
       "      <th>40+</th>\n",
       "    </tr>\n",
       "    <tr>\n",
       "      <th>Province</th>\n",
       "      <th></th>\n",
       "      <th></th>\n",
       "      <th></th>\n",
       "      <th></th>\n",
       "      <th></th>\n",
       "      <th></th>\n",
       "      <th></th>\n",
       "      <th></th>\n",
       "      <th></th>\n",
       "    </tr>\n",
       "  </thead>\n",
       "  <tbody>\n",
       "    <tr>\n",
       "      <th>Arkhangai</th>\n",
       "      <td>10440</td>\n",
       "      <td>8360</td>\n",
       "      <td>7883</td>\n",
       "      <td>9249</td>\n",
       "      <td>9469</td>\n",
       "      <td>8207</td>\n",
       "      <td>6856</td>\n",
       "      <td>6824</td>\n",
       "      <td>25608</td>\n",
       "    </tr>\n",
       "    <tr>\n",
       "      <th>Bayan-Ulgii</th>\n",
       "      <td>11655</td>\n",
       "      <td>10219</td>\n",
       "      <td>9929</td>\n",
       "      <td>8794</td>\n",
       "      <td>8872</td>\n",
       "      <td>8531</td>\n",
       "      <td>7207</td>\n",
       "      <td>6199</td>\n",
       "      <td>21759</td>\n",
       "    </tr>\n",
       "    <tr>\n",
       "      <th>Bayankhongor</th>\n",
       "      <td>9760</td>\n",
       "      <td>7429</td>\n",
       "      <td>6675</td>\n",
       "      <td>7812</td>\n",
       "      <td>7992</td>\n",
       "      <td>7436</td>\n",
       "      <td>6280</td>\n",
       "      <td>5806</td>\n",
       "      <td>20120</td>\n",
       "    </tr>\n",
       "    <tr>\n",
       "      <th>Bulgan</th>\n",
       "      <td>6415</td>\n",
       "      <td>5351</td>\n",
       "      <td>4556</td>\n",
       "      <td>5423</td>\n",
       "      <td>5587</td>\n",
       "      <td>4977</td>\n",
       "      <td>4499</td>\n",
       "      <td>4592</td>\n",
       "      <td>18924</td>\n",
       "    </tr>\n",
       "    <tr>\n",
       "      <th>Gobi-Altai</th>\n",
       "      <td>5953</td>\n",
       "      <td>5392</td>\n",
       "      <td>5046</td>\n",
       "      <td>5778</td>\n",
       "      <td>5631</td>\n",
       "      <td>4837</td>\n",
       "      <td>4401</td>\n",
       "      <td>4345</td>\n",
       "      <td>15315</td>\n",
       "    </tr>\n",
       "  </tbody>\n",
       "</table>\n",
       "</div>"
      ],
      "text/plain": [
       "                0-4    5-9   10-14   15-19   20-24   25-29   30-34   35-39  \\\n",
       "Province                                                                     \n",
       "Arkhangai     10440   8360    7883    9249    9469    8207    6856    6824   \n",
       "Bayan-Ulgii   11655  10219    9929    8794    8872    8531    7207    6199   \n",
       "Bayankhongor   9760   7429    6675    7812    7992    7436    6280    5806   \n",
       "Bulgan         6415   5351    4556    5423    5587    4977    4499    4592   \n",
       "Gobi-Altai     5953   5392    5046    5778    5631    4837    4401    4345   \n",
       "\n",
       "                40+  \n",
       "Province             \n",
       "Arkhangai     25608  \n",
       "Bayan-Ulgii   21759  \n",
       "Bayankhongor  20120  \n",
       "Bulgan        18924  \n",
       "Gobi-Altai    15315  "
      ]
     },
     "execution_count": 12,
     "metadata": {},
     "output_type": "execute_result"
    }
   ],
   "source": [
    "pop_classes = population.iloc[:, 1:9].copy()\n",
    "pop_classes['40+'] = population.iloc[:, 9:].sum(1)\n",
    "pop_classes.head()"
   ]
  },
  {
   "cell_type": "code",
   "execution_count": 13,
   "metadata": {},
   "outputs": [
    {
     "data": {
      "text/plain": [
       "Index(['0-4', '5-9', '10-14', '15-19', '20-24', '25-29', '30-34', '35-39',\n",
       "       '40+'],\n",
       "      dtype='object')"
      ]
     },
     "execution_count": 13,
     "metadata": {},
     "output_type": "execute_result"
    }
   ],
   "source": [
    "age_group_index = pop_classes.columns.str.strip()\n",
    "age_group_index"
   ]
  },
  {
   "cell_type": "code",
   "execution_count": 14,
   "metadata": {},
   "outputs": [],
   "source": [
    "pop_classes_total = pop_classes.sum().values"
   ]
  },
  {
   "cell_type": "code",
   "execution_count": 15,
   "metadata": {},
   "outputs": [
    {
     "data": {
      "text/plain": [
       "array([ 522675,  418444,  352776,  386296,  427388,  448107,  379846,\n",
       "        348235, 1264181])"
      ]
     },
     "execution_count": 15,
     "metadata": {},
     "output_type": "execute_result"
    }
   ],
   "source": [
    "pop_classes_total"
   ]
  },
  {
   "cell_type": "markdown",
   "metadata": {},
   "source": [
    "Break out infants from 0-4 group. Will use average of 2015 and 2016 births, and subtract them from 0-4's."
   ]
  },
  {
   "cell_type": "code",
   "execution_count": 16,
   "metadata": {},
   "outputs": [],
   "source": [
    "mean_births = int(np.mean(births))\n",
    "N = [mean_births, pop_classes_total[0] - mean_births]\n",
    "N.extend(pop_classes_total[1:])\n",
    "N = np.array(N)"
   ]
  },
  {
   "cell_type": "code",
   "execution_count": 17,
   "metadata": {},
   "outputs": [
    {
     "data": {
      "text/plain": [
       "array([  81025,  441650,  418444,  352776,  386296,  427388,  448107,\n",
       "        379846,  348235, 1264181])"
      ]
     },
     "execution_count": 17,
     "metadata": {},
     "output_type": "execute_result"
    }
   ],
   "source": [
    "N"
   ]
  },
  {
   "cell_type": "markdown",
   "metadata": {},
   "source": [
    "Try to obtain susceptible proportion from coverage history"
   ]
  },
  {
   "cell_type": "code",
   "execution_count": 18,
   "metadata": {},
   "outputs": [],
   "source": [
    "coverage = pd.read_csv(DATA + 'coverage.csv', index_col=0)"
   ]
  },
  {
   "cell_type": "code",
   "execution_count": 19,
   "metadata": {},
   "outputs": [
    {
     "data": {
      "text/html": [
       "<div>\n",
       "<style scoped>\n",
       "    .dataframe tbody tr th:only-of-type {\n",
       "        vertical-align: middle;\n",
       "    }\n",
       "\n",
       "    .dataframe tbody tr th {\n",
       "        vertical-align: top;\n",
       "    }\n",
       "\n",
       "    .dataframe thead th {\n",
       "        text-align: right;\n",
       "    }\n",
       "</style>\n",
       "<table border=\"1\" class=\"dataframe\">\n",
       "  <thead>\n",
       "    <tr style=\"text-align: right;\">\n",
       "      <th></th>\n",
       "      <th>MCV1</th>\n",
       "      <th>MCV2</th>\n",
       "      <th>SIA 1994 (M)</th>\n",
       "      <th>SIA 1996 (M)</th>\n",
       "      <th>SIA 2000 (M)</th>\n",
       "      <th>SIA 2007 (M)</th>\n",
       "      <th>SIA 2012 (MR)</th>\n",
       "    </tr>\n",
       "    <tr>\n",
       "      <th>Age</th>\n",
       "      <th></th>\n",
       "      <th></th>\n",
       "      <th></th>\n",
       "      <th></th>\n",
       "      <th></th>\n",
       "      <th></th>\n",
       "      <th></th>\n",
       "    </tr>\n",
       "  </thead>\n",
       "  <tbody>\n",
       "    <tr>\n",
       "      <th>19</th>\n",
       "      <td>0.89</td>\n",
       "      <td>0.00</td>\n",
       "      <td>0.0</td>\n",
       "      <td>0.98</td>\n",
       "      <td>0.96</td>\n",
       "      <td>0.00</td>\n",
       "      <td>0.00</td>\n",
       "    </tr>\n",
       "    <tr>\n",
       "      <th>18</th>\n",
       "      <td>0.91</td>\n",
       "      <td>0.00</td>\n",
       "      <td>0.0</td>\n",
       "      <td>0.00</td>\n",
       "      <td>0.96</td>\n",
       "      <td>0.97</td>\n",
       "      <td>0.00</td>\n",
       "    </tr>\n",
       "    <tr>\n",
       "      <th>17</th>\n",
       "      <td>0.93</td>\n",
       "      <td>0.00</td>\n",
       "      <td>0.0</td>\n",
       "      <td>0.00</td>\n",
       "      <td>0.96</td>\n",
       "      <td>0.97</td>\n",
       "      <td>0.87</td>\n",
       "    </tr>\n",
       "    <tr>\n",
       "      <th>16</th>\n",
       "      <td>0.93</td>\n",
       "      <td>0.75</td>\n",
       "      <td>0.0</td>\n",
       "      <td>0.00</td>\n",
       "      <td>0.96</td>\n",
       "      <td>0.97</td>\n",
       "      <td>0.89</td>\n",
       "    </tr>\n",
       "    <tr>\n",
       "      <th>15</th>\n",
       "      <td>0.92</td>\n",
       "      <td>0.95</td>\n",
       "      <td>0.0</td>\n",
       "      <td>0.00</td>\n",
       "      <td>0.00</td>\n",
       "      <td>0.97</td>\n",
       "      <td>0.91</td>\n",
       "    </tr>\n",
       "    <tr>\n",
       "      <th>14</th>\n",
       "      <td>0.95</td>\n",
       "      <td>0.96</td>\n",
       "      <td>0.0</td>\n",
       "      <td>0.00</td>\n",
       "      <td>0.00</td>\n",
       "      <td>0.97</td>\n",
       "      <td>0.88</td>\n",
       "    </tr>\n",
       "    <tr>\n",
       "      <th>13</th>\n",
       "      <td>0.98</td>\n",
       "      <td>0.98</td>\n",
       "      <td>0.0</td>\n",
       "      <td>0.00</td>\n",
       "      <td>0.00</td>\n",
       "      <td>0.97</td>\n",
       "      <td>0.95</td>\n",
       "    </tr>\n",
       "    <tr>\n",
       "      <th>12</th>\n",
       "      <td>0.98</td>\n",
       "      <td>0.98</td>\n",
       "      <td>0.0</td>\n",
       "      <td>0.00</td>\n",
       "      <td>0.00</td>\n",
       "      <td>0.97</td>\n",
       "      <td>0.95</td>\n",
       "    </tr>\n",
       "    <tr>\n",
       "      <th>11</th>\n",
       "      <td>0.99</td>\n",
       "      <td>0.98</td>\n",
       "      <td>0.0</td>\n",
       "      <td>0.00</td>\n",
       "      <td>0.00</td>\n",
       "      <td>0.97</td>\n",
       "      <td>0.96</td>\n",
       "    </tr>\n",
       "    <tr>\n",
       "      <th>10</th>\n",
       "      <td>0.97</td>\n",
       "      <td>0.96</td>\n",
       "      <td>0.0</td>\n",
       "      <td>0.00</td>\n",
       "      <td>0.00</td>\n",
       "      <td>0.97</td>\n",
       "      <td>0.95</td>\n",
       "    </tr>\n",
       "    <tr>\n",
       "      <th>9</th>\n",
       "      <td>0.99</td>\n",
       "      <td>0.97</td>\n",
       "      <td>0.0</td>\n",
       "      <td>0.00</td>\n",
       "      <td>0.00</td>\n",
       "      <td>0.00</td>\n",
       "      <td>0.97</td>\n",
       "    </tr>\n",
       "    <tr>\n",
       "      <th>8</th>\n",
       "      <td>0.98</td>\n",
       "      <td>0.96</td>\n",
       "      <td>0.0</td>\n",
       "      <td>0.00</td>\n",
       "      <td>0.00</td>\n",
       "      <td>0.00</td>\n",
       "      <td>0.96</td>\n",
       "    </tr>\n",
       "    <tr>\n",
       "      <th>7</th>\n",
       "      <td>0.97</td>\n",
       "      <td>0.97</td>\n",
       "      <td>0.0</td>\n",
       "      <td>0.00</td>\n",
       "      <td>0.00</td>\n",
       "      <td>0.00</td>\n",
       "      <td>0.96</td>\n",
       "    </tr>\n",
       "    <tr>\n",
       "      <th>6</th>\n",
       "      <td>0.94</td>\n",
       "      <td>0.93</td>\n",
       "      <td>0.0</td>\n",
       "      <td>0.00</td>\n",
       "      <td>0.00</td>\n",
       "      <td>0.00</td>\n",
       "      <td>0.90</td>\n",
       "    </tr>\n",
       "    <tr>\n",
       "      <th>5</th>\n",
       "      <td>0.98</td>\n",
       "      <td>0.97</td>\n",
       "      <td>0.0</td>\n",
       "      <td>0.00</td>\n",
       "      <td>0.00</td>\n",
       "      <td>0.00</td>\n",
       "      <td>0.00</td>\n",
       "    </tr>\n",
       "    <tr>\n",
       "      <th>4</th>\n",
       "      <td>0.98</td>\n",
       "      <td>0.99</td>\n",
       "      <td>0.0</td>\n",
       "      <td>0.00</td>\n",
       "      <td>0.00</td>\n",
       "      <td>0.00</td>\n",
       "      <td>0.00</td>\n",
       "    </tr>\n",
       "    <tr>\n",
       "      <th>3</th>\n",
       "      <td>0.99</td>\n",
       "      <td>0.99</td>\n",
       "      <td>0.0</td>\n",
       "      <td>0.00</td>\n",
       "      <td>0.00</td>\n",
       "      <td>0.00</td>\n",
       "      <td>0.00</td>\n",
       "    </tr>\n",
       "    <tr>\n",
       "      <th>2</th>\n",
       "      <td>0.99</td>\n",
       "      <td>0.99</td>\n",
       "      <td>0.0</td>\n",
       "      <td>0.00</td>\n",
       "      <td>0.00</td>\n",
       "      <td>0.00</td>\n",
       "      <td>0.00</td>\n",
       "    </tr>\n",
       "    <tr>\n",
       "      <th>1</th>\n",
       "      <td>0.99</td>\n",
       "      <td>0.00</td>\n",
       "      <td>0.0</td>\n",
       "      <td>0.00</td>\n",
       "      <td>0.00</td>\n",
       "      <td>0.00</td>\n",
       "      <td>0.00</td>\n",
       "    </tr>\n",
       "    <tr>\n",
       "      <th>0</th>\n",
       "      <td>0.00</td>\n",
       "      <td>0.00</td>\n",
       "      <td>0.0</td>\n",
       "      <td>0.00</td>\n",
       "      <td>0.00</td>\n",
       "      <td>0.00</td>\n",
       "      <td>0.00</td>\n",
       "    </tr>\n",
       "  </tbody>\n",
       "</table>\n",
       "</div>"
      ],
      "text/plain": [
       "     MCV1  MCV2  SIA 1994 (M)  SIA 1996 (M)  SIA 2000 (M)  SIA 2007 (M)  \\\n",
       "Age                                                                       \n",
       "19   0.89  0.00           0.0          0.98          0.96          0.00   \n",
       "18   0.91  0.00           0.0          0.00          0.96          0.97   \n",
       "17   0.93  0.00           0.0          0.00          0.96          0.97   \n",
       "16   0.93  0.75           0.0          0.00          0.96          0.97   \n",
       "15   0.92  0.95           0.0          0.00          0.00          0.97   \n",
       "14   0.95  0.96           0.0          0.00          0.00          0.97   \n",
       "13   0.98  0.98           0.0          0.00          0.00          0.97   \n",
       "12   0.98  0.98           0.0          0.00          0.00          0.97   \n",
       "11   0.99  0.98           0.0          0.00          0.00          0.97   \n",
       "10   0.97  0.96           0.0          0.00          0.00          0.97   \n",
       "9    0.99  0.97           0.0          0.00          0.00          0.00   \n",
       "8    0.98  0.96           0.0          0.00          0.00          0.00   \n",
       "7    0.97  0.97           0.0          0.00          0.00          0.00   \n",
       "6    0.94  0.93           0.0          0.00          0.00          0.00   \n",
       "5    0.98  0.97           0.0          0.00          0.00          0.00   \n",
       "4    0.98  0.99           0.0          0.00          0.00          0.00   \n",
       "3    0.99  0.99           0.0          0.00          0.00          0.00   \n",
       "2    0.99  0.99           0.0          0.00          0.00          0.00   \n",
       "1    0.99  0.00           0.0          0.00          0.00          0.00   \n",
       "0    0.00  0.00           0.0          0.00          0.00          0.00   \n",
       "\n",
       "     SIA 2012 (MR)  \n",
       "Age                 \n",
       "19            0.00  \n",
       "18            0.00  \n",
       "17            0.87  \n",
       "16            0.89  \n",
       "15            0.91  \n",
       "14            0.88  \n",
       "13            0.95  \n",
       "12            0.95  \n",
       "11            0.96  \n",
       "10            0.95  \n",
       "9             0.97  \n",
       "8             0.96  \n",
       "7             0.96  \n",
       "6             0.90  \n",
       "5             0.00  \n",
       "4             0.00  \n",
       "3             0.00  \n",
       "2             0.00  \n",
       "1             0.00  \n",
       "0             0.00  "
      ]
     },
     "execution_count": 19,
     "metadata": {},
     "output_type": "execute_result"
    }
   ],
   "source": [
    "coverage.tail(20)"
   ]
  },
  {
   "cell_type": "code",
   "execution_count": 20,
   "metadata": {},
   "outputs": [],
   "source": [
    "age_classes = [0,1,5,10,15,20,25,30,35,40,100]\n",
    "age_slices = [slice(age_classes[i], age_classes[i+1]) for i in range(len(age_classes)-1)]"
   ]
  },
  {
   "cell_type": "code",
   "execution_count": 21,
   "metadata": {},
   "outputs": [],
   "source": [
    "n_age_classes = len(age_classes) - 1"
   ]
  },
  {
   "cell_type": "code",
   "execution_count": 22,
   "metadata": {},
   "outputs": [],
   "source": [
    "efficacy = 0.85"
   ]
  },
  {
   "cell_type": "markdown",
   "metadata": {},
   "source": [
    "Dependent MCV immunization"
   ]
  },
  {
   "cell_type": "code",
   "execution_count": 23,
   "metadata": {},
   "outputs": [],
   "source": [
    "immune_MCV1 = coverage.MCV1 * 0.8\n",
    "immune_MCV2 = (1 - immune_MCV1) * coverage.MCV2 * 0.8"
   ]
  },
  {
   "cell_type": "code",
   "execution_count": 24,
   "metadata": {},
   "outputs": [],
   "source": [
    "MCV_immunity = immune_MCV2 + immune_MCV1"
   ]
  },
  {
   "cell_type": "code",
   "execution_count": 25,
   "metadata": {},
   "outputs": [
    {
     "data": {
      "text/plain": [
       "Text(0, 0.5, 'Susceptibility')"
      ]
     },
     "execution_count": 25,
     "metadata": {},
     "output_type": "execute_result"
    },
    {
     "data": {
      "image/png": "[encoded data removed]",
      "text/plain": [
       "<Figure size 432x288 with 1 Axes>"
      ]
     },
     "metadata": {
      "needs_background": "light"
     },
     "output_type": "display_data"
    }
   ],
   "source": [
    "susceptibility = (1 - coverage*efficacy).prod(axis=1).round(3).sort_index()\n",
    "susceptibility.plot()\n",
    "plt.ylabel('Susceptibility')"
   ]
  },
  {
   "cell_type": "code",
   "execution_count": 26,
   "metadata": {},
   "outputs": [],
   "source": [
    "p_susc = susceptibility.groupby(pd.cut(susceptibility.index, age_classes)).mean()"
   ]
  },
  {
   "cell_type": "markdown",
   "metadata": {},
   "source": [
    "Down-sample susceptibility to age groups."
   ]
  },
  {
   "cell_type": "code",
   "execution_count": 27,
   "metadata": {},
   "outputs": [
    {
     "data": {
      "text/plain": [
       "array([1.    , 0.0585, 0.0112, 0.0012, 0.0038, 0.0254, 0.0276, 0.9032,\n",
       "       0.971 , 1.    ])"
      ]
     },
     "execution_count": 27,
     "metadata": {},
     "output_type": "execute_result"
    }
   ],
   "source": [
    "downsample = lambda x: np.array([x[s].mean() for s in age_slices])\n",
    "downsample(susceptibility)"
   ]
  },
  {
   "cell_type": "code",
   "execution_count": 28,
   "metadata": {
    "scrolled": true
   },
   "outputs": [
    {
     "data": {
      "image/png": "[encoded data removed]",
      "text/plain": [
       "<Figure size 432x288 with 1 Axes>"
      ]
     },
     "metadata": {
      "needs_background": "light"
     },
     "output_type": "display_data"
    }
   ],
   "source": [
    "age_labels = ['0', '1-4', '5-9', '10-14', '15-19', '20-24', '25-29', \n",
    "                    '30-34', '35-39', '40+']\n",
    "plt.bar(range(len(age_slices)), downsample(susceptibility), \n",
    "        tick_label=age_labels);"
   ]
  },
  {
   "cell_type": "markdown",
   "metadata": {},
   "source": [
    "*These susceptibility rates can't be true given the distribution of cases that were observed!*"
   ]
  },
  {
   "cell_type": "markdown",
   "metadata": {},
   "source": [
    "### SIA\n",
    "\n",
    "Create a time x age matrix of SIA vaccinations to account for intervention"
   ]
  },
  {
   "cell_type": "code",
   "execution_count": 29,
   "metadata": {},
   "outputs": [
    {
     "data": {
      "text/html": [
       "<div>\n",
       "<style scoped>\n",
       "    .dataframe tbody tr th:only-of-type {\n",
       "        vertical-align: middle;\n",
       "    }\n",
       "\n",
       "    .dataframe tbody tr th {\n",
       "        vertical-align: top;\n",
       "    }\n",
       "\n",
       "    .dataframe thead th {\n",
       "        text-align: right;\n",
       "    }\n",
       "</style>\n",
       "<table border=\"1\" class=\"dataframe\">\n",
       "  <thead>\n",
       "    <tr style=\"text-align: right;\">\n",
       "      <th></th>\n",
       "      <th>0</th>\n",
       "      <th>1-4</th>\n",
       "      <th>5-9</th>\n",
       "    </tr>\n",
       "  </thead>\n",
       "  <tbody>\n",
       "    <tr>\n",
       "      <th>Arkhangai</th>\n",
       "      <td>860</td>\n",
       "      <td>7364</td>\n",
       "      <td>1837</td>\n",
       "    </tr>\n",
       "    <tr>\n",
       "      <th>Bayan-Ulgii</th>\n",
       "      <td>1361</td>\n",
       "      <td>9069</td>\n",
       "      <td>1872</td>\n",
       "    </tr>\n",
       "    <tr>\n",
       "      <th>Bayankhongor</th>\n",
       "      <td>928</td>\n",
       "      <td>6992</td>\n",
       "      <td>2019</td>\n",
       "    </tr>\n",
       "    <tr>\n",
       "      <th>Bulgan</th>\n",
       "      <td>574</td>\n",
       "      <td>4494</td>\n",
       "      <td>1430</td>\n",
       "    </tr>\n",
       "    <tr>\n",
       "      <th>Gobi-Altai</th>\n",
       "      <td>494</td>\n",
       "      <td>4490</td>\n",
       "      <td>1276</td>\n",
       "    </tr>\n",
       "  </tbody>\n",
       "</table>\n",
       "</div>"
      ],
      "text/plain": [
       "                 0   1-4   5-9\n",
       "Arkhangai      860  7364  1837\n",
       "Bayan-Ulgii   1361  9069  1872\n",
       "Bayankhongor   928  6992  2019\n",
       "Bulgan         574  4494  1430\n",
       "Gobi-Altai     494  4490  1276"
      ]
     },
     "execution_count": 29,
     "metadata": {},
     "output_type": "execute_result"
    }
   ],
   "source": [
    "sia_2015 = pd.read_csv(DATA + 'sia_2015.csv', index_col=0)\n",
    "sia_2016 = pd.read_csv(DATA + 'sia_2016.csv', index_col=0)\n",
    "sia_2015.head()"
   ]
  },
  {
   "cell_type": "code",
   "execution_count": 30,
   "metadata": {},
   "outputs": [
    {
     "data": {
      "text/plain": [
       "0         34302\n",
       "1-4      247851\n",
       "5-9       65532\n",
       "10-14         0\n",
       "15-19         0\n",
       "20-24         0\n",
       "25-29         0\n",
       "30-34         0\n",
       "35-39         0\n",
       "40+           0\n",
       "dtype: int64"
      ]
     },
     "execution_count": 30,
     "metadata": {},
     "output_type": "execute_result"
    }
   ],
   "source": [
    "sia_2015_total = (sia_2015.sum()\n",
    "                          .reindex(pd.Index(age_labels))\n",
    "                          .fillna(0)\n",
    "                          .astype(int))\n",
    "sia_2015_total"
   ]
  },
  {
   "cell_type": "code",
   "execution_count": 31,
   "metadata": {},
   "outputs": [
    {
     "data": {
      "text/plain": [
       "15-19     78105\n",
       "20-24    186022\n",
       "25-29    230733\n",
       "30-34     54439\n",
       "dtype: int64"
      ]
     },
     "execution_count": 31,
     "metadata": {},
     "output_type": "execute_result"
    }
   ],
   "source": [
    "sia_2016.sum()"
   ]
  },
  {
   "cell_type": "code",
   "execution_count": 32,
   "metadata": {},
   "outputs": [
    {
     "data": {
      "text/plain": [
       "0             0\n",
       "1-4           0\n",
       "5-9           0\n",
       "10-14         0\n",
       "15-19     78105\n",
       "20-24    186022\n",
       "25-29    230733\n",
       "30-34     54439\n",
       "35-39         0\n",
       "40+           0\n",
       "dtype: int64"
      ]
     },
     "execution_count": 32,
     "metadata": {},
     "output_type": "execute_result"
    }
   ],
   "source": [
    "sia_2016_total = (sia_2016.sum()\n",
    "                          .reindex(pd.Index(age_labels))\n",
    "                          .fillna(0)\n",
    "                          .astype(int))\n",
    "sia_2016_total"
   ]
  },
  {
   "cell_type": "code",
   "execution_count": 33,
   "metadata": {},
   "outputs": [],
   "source": [
    "sia = pd.DataFrame(index=confirmed_counts.index, columns=pd.Index(age_labels)).fillna(0)"
   ]
  },
  {
   "cell_type": "code",
   "execution_count": 34,
   "metadata": {},
   "outputs": [],
   "source": [
    "sia.loc['2016-05-22'] = sia_2016_total\n",
    "sia.loc[['2015-05-24', '2015-06-07', '2015-06-21']] = [sia_2015_total/4,\n",
    "                                                       sia_2015_total/2,\n",
    "                                                       sia_2015_total/4]"
   ]
  },
  {
   "cell_type": "code",
   "execution_count": 35,
   "metadata": {},
   "outputs": [
    {
     "data": {
      "text/html": [
       "<div>\n",
       "<style scoped>\n",
       "    .dataframe tbody tr th:only-of-type {\n",
       "        vertical-align: middle;\n",
       "    }\n",
       "\n",
       "    .dataframe tbody tr th {\n",
       "        vertical-align: top;\n",
       "    }\n",
       "\n",
       "    .dataframe thead th {\n",
       "        text-align: right;\n",
       "    }\n",
       "</style>\n",
       "<table border=\"1\" class=\"dataframe\">\n",
       "  <thead>\n",
       "    <tr style=\"text-align: right;\">\n",
       "      <th></th>\n",
       "      <th>0</th>\n",
       "      <th>1-4</th>\n",
       "      <th>5-9</th>\n",
       "      <th>10-14</th>\n",
       "      <th>15-19</th>\n",
       "      <th>20-24</th>\n",
       "      <th>25-29</th>\n",
       "      <th>30-34</th>\n",
       "      <th>35-39</th>\n",
       "      <th>40+</th>\n",
       "    </tr>\n",
       "    <tr>\n",
       "      <th>date_onset</th>\n",
       "      <th></th>\n",
       "      <th></th>\n",
       "      <th></th>\n",
       "      <th></th>\n",
       "      <th></th>\n",
       "      <th></th>\n",
       "      <th></th>\n",
       "      <th></th>\n",
       "      <th></th>\n",
       "      <th></th>\n",
       "    </tr>\n",
       "  </thead>\n",
       "  <tbody>\n",
       "    <tr>\n",
       "      <th>2015-01-18</th>\n",
       "      <td>0.0</td>\n",
       "      <td>0.00</td>\n",
       "      <td>0.0</td>\n",
       "      <td>0.0</td>\n",
       "      <td>0.0</td>\n",
       "      <td>0.0</td>\n",
       "      <td>0.0</td>\n",
       "      <td>0.0</td>\n",
       "      <td>0.0</td>\n",
       "      <td>0.0</td>\n",
       "    </tr>\n",
       "    <tr>\n",
       "      <th>2015-02-01</th>\n",
       "      <td>0.0</td>\n",
       "      <td>0.00</td>\n",
       "      <td>0.0</td>\n",
       "      <td>0.0</td>\n",
       "      <td>0.0</td>\n",
       "      <td>0.0</td>\n",
       "      <td>0.0</td>\n",
       "      <td>0.0</td>\n",
       "      <td>0.0</td>\n",
       "      <td>0.0</td>\n",
       "    </tr>\n",
       "    <tr>\n",
       "      <th>2015-02-15</th>\n",
       "      <td>0.0</td>\n",
       "      <td>0.00</td>\n",
       "      <td>0.0</td>\n",
       "      <td>0.0</td>\n",
       "      <td>0.0</td>\n",
       "      <td>0.0</td>\n",
       "      <td>0.0</td>\n",
       "      <td>0.0</td>\n",
       "      <td>0.0</td>\n",
       "      <td>0.0</td>\n",
       "    </tr>\n",
       "    <tr>\n",
       "      <th>2015-03-01</th>\n",
       "      <td>0.0</td>\n",
       "      <td>0.00</td>\n",
       "      <td>0.0</td>\n",
       "      <td>0.0</td>\n",
       "      <td>0.0</td>\n",
       "      <td>0.0</td>\n",
       "      <td>0.0</td>\n",
       "      <td>0.0</td>\n",
       "      <td>0.0</td>\n",
       "      <td>0.0</td>\n",
       "    </tr>\n",
       "    <tr>\n",
       "      <th>2015-03-15</th>\n",
       "      <td>0.0</td>\n",
       "      <td>0.00</td>\n",
       "      <td>0.0</td>\n",
       "      <td>0.0</td>\n",
       "      <td>0.0</td>\n",
       "      <td>0.0</td>\n",
       "      <td>0.0</td>\n",
       "      <td>0.0</td>\n",
       "      <td>0.0</td>\n",
       "      <td>0.0</td>\n",
       "    </tr>\n",
       "    <tr>\n",
       "      <th>2015-03-29</th>\n",
       "      <td>0.0</td>\n",
       "      <td>0.00</td>\n",
       "      <td>0.0</td>\n",
       "      <td>0.0</td>\n",
       "      <td>0.0</td>\n",
       "      <td>0.0</td>\n",
       "      <td>0.0</td>\n",
       "      <td>0.0</td>\n",
       "      <td>0.0</td>\n",
       "      <td>0.0</td>\n",
       "    </tr>\n",
       "    <tr>\n",
       "      <th>2015-04-12</th>\n",
       "      <td>0.0</td>\n",
       "      <td>0.00</td>\n",
       "      <td>0.0</td>\n",
       "      <td>0.0</td>\n",
       "      <td>0.0</td>\n",
       "      <td>0.0</td>\n",
       "      <td>0.0</td>\n",
       "      <td>0.0</td>\n",
       "      <td>0.0</td>\n",
       "      <td>0.0</td>\n",
       "    </tr>\n",
       "    <tr>\n",
       "      <th>2015-04-26</th>\n",
       "      <td>0.0</td>\n",
       "      <td>0.00</td>\n",
       "      <td>0.0</td>\n",
       "      <td>0.0</td>\n",
       "      <td>0.0</td>\n",
       "      <td>0.0</td>\n",
       "      <td>0.0</td>\n",
       "      <td>0.0</td>\n",
       "      <td>0.0</td>\n",
       "      <td>0.0</td>\n",
       "    </tr>\n",
       "    <tr>\n",
       "      <th>2015-05-10</th>\n",
       "      <td>0.0</td>\n",
       "      <td>0.00</td>\n",
       "      <td>0.0</td>\n",
       "      <td>0.0</td>\n",
       "      <td>0.0</td>\n",
       "      <td>0.0</td>\n",
       "      <td>0.0</td>\n",
       "      <td>0.0</td>\n",
       "      <td>0.0</td>\n",
       "      <td>0.0</td>\n",
       "    </tr>\n",
       "    <tr>\n",
       "      <th>2015-05-24</th>\n",
       "      <td>8575.5</td>\n",
       "      <td>61962.75</td>\n",
       "      <td>16383.0</td>\n",
       "      <td>0.0</td>\n",
       "      <td>0.0</td>\n",
       "      <td>0.0</td>\n",
       "      <td>0.0</td>\n",
       "      <td>0.0</td>\n",
       "      <td>0.0</td>\n",
       "      <td>0.0</td>\n",
       "    </tr>\n",
       "    <tr>\n",
       "      <th>2015-06-07</th>\n",
       "      <td>17151.0</td>\n",
       "      <td>123925.50</td>\n",
       "      <td>32766.0</td>\n",
       "      <td>0.0</td>\n",
       "      <td>0.0</td>\n",
       "      <td>0.0</td>\n",
       "      <td>0.0</td>\n",
       "      <td>0.0</td>\n",
       "      <td>0.0</td>\n",
       "      <td>0.0</td>\n",
       "    </tr>\n",
       "    <tr>\n",
       "      <th>2015-06-21</th>\n",
       "      <td>8575.5</td>\n",
       "      <td>61962.75</td>\n",
       "      <td>16383.0</td>\n",
       "      <td>0.0</td>\n",
       "      <td>0.0</td>\n",
       "      <td>0.0</td>\n",
       "      <td>0.0</td>\n",
       "      <td>0.0</td>\n",
       "      <td>0.0</td>\n",
       "      <td>0.0</td>\n",
       "    </tr>\n",
       "    <tr>\n",
       "      <th>2015-07-05</th>\n",
       "      <td>0.0</td>\n",
       "      <td>0.00</td>\n",
       "      <td>0.0</td>\n",
       "      <td>0.0</td>\n",
       "      <td>0.0</td>\n",
       "      <td>0.0</td>\n",
       "      <td>0.0</td>\n",
       "      <td>0.0</td>\n",
       "      <td>0.0</td>\n",
       "      <td>0.0</td>\n",
       "    </tr>\n",
       "    <tr>\n",
       "      <th>2015-07-19</th>\n",
       "      <td>0.0</td>\n",
       "      <td>0.00</td>\n",
       "      <td>0.0</td>\n",
       "      <td>0.0</td>\n",
       "      <td>0.0</td>\n",
       "      <td>0.0</td>\n",
       "      <td>0.0</td>\n",
       "      <td>0.0</td>\n",
       "      <td>0.0</td>\n",
       "      <td>0.0</td>\n",
       "    </tr>\n",
       "    <tr>\n",
       "      <th>2015-08-02</th>\n",
       "      <td>0.0</td>\n",
       "      <td>0.00</td>\n",
       "      <td>0.0</td>\n",
       "      <td>0.0</td>\n",
       "      <td>0.0</td>\n",
       "      <td>0.0</td>\n",
       "      <td>0.0</td>\n",
       "      <td>0.0</td>\n",
       "      <td>0.0</td>\n",
       "      <td>0.0</td>\n",
       "    </tr>\n",
       "    <tr>\n",
       "      <th>2015-08-16</th>\n",
       "      <td>0.0</td>\n",
       "      <td>0.00</td>\n",
       "      <td>0.0</td>\n",
       "      <td>0.0</td>\n",
       "      <td>0.0</td>\n",
       "      <td>0.0</td>\n",
       "      <td>0.0</td>\n",
       "      <td>0.0</td>\n",
       "      <td>0.0</td>\n",
       "      <td>0.0</td>\n",
       "    </tr>\n",
       "    <tr>\n",
       "      <th>2015-08-30</th>\n",
       "      <td>0.0</td>\n",
       "      <td>0.00</td>\n",
       "      <td>0.0</td>\n",
       "      <td>0.0</td>\n",
       "      <td>0.0</td>\n",
       "      <td>0.0</td>\n",
       "      <td>0.0</td>\n",
       "      <td>0.0</td>\n",
       "      <td>0.0</td>\n",
       "      <td>0.0</td>\n",
       "    </tr>\n",
       "    <tr>\n",
       "      <th>2015-09-13</th>\n",
       "      <td>0.0</td>\n",
       "      <td>0.00</td>\n",
       "      <td>0.0</td>\n",
       "      <td>0.0</td>\n",
       "      <td>0.0</td>\n",
       "      <td>0.0</td>\n",
       "      <td>0.0</td>\n",
       "      <td>0.0</td>\n",
       "      <td>0.0</td>\n",
       "      <td>0.0</td>\n",
       "    </tr>\n",
       "    <tr>\n",
       "      <th>2015-09-27</th>\n",
       "      <td>0.0</td>\n",
       "      <td>0.00</td>\n",
       "      <td>0.0</td>\n",
       "      <td>0.0</td>\n",
       "      <td>0.0</td>\n",
       "      <td>0.0</td>\n",
       "      <td>0.0</td>\n",
       "      <td>0.0</td>\n",
       "      <td>0.0</td>\n",
       "      <td>0.0</td>\n",
       "    </tr>\n",
       "    <tr>\n",
       "      <th>2015-10-11</th>\n",
       "      <td>0.0</td>\n",
       "      <td>0.00</td>\n",
       "      <td>0.0</td>\n",
       "      <td>0.0</td>\n",
       "      <td>0.0</td>\n",
       "      <td>0.0</td>\n",
       "      <td>0.0</td>\n",
       "      <td>0.0</td>\n",
       "      <td>0.0</td>\n",
       "      <td>0.0</td>\n",
       "    </tr>\n",
       "    <tr>\n",
       "      <th>2015-10-25</th>\n",
       "      <td>0.0</td>\n",
       "      <td>0.00</td>\n",
       "      <td>0.0</td>\n",
       "      <td>0.0</td>\n",
       "      <td>0.0</td>\n",
       "      <td>0.0</td>\n",
       "      <td>0.0</td>\n",
       "      <td>0.0</td>\n",
       "      <td>0.0</td>\n",
       "      <td>0.0</td>\n",
       "    </tr>\n",
       "    <tr>\n",
       "      <th>2015-11-08</th>\n",
       "      <td>0.0</td>\n",
       "      <td>0.00</td>\n",
       "      <td>0.0</td>\n",
       "      <td>0.0</td>\n",
       "      <td>0.0</td>\n",
       "      <td>0.0</td>\n",
       "      <td>0.0</td>\n",
       "      <td>0.0</td>\n",
       "      <td>0.0</td>\n",
       "      <td>0.0</td>\n",
       "    </tr>\n",
       "    <tr>\n",
       "      <th>2015-11-22</th>\n",
       "      <td>0.0</td>\n",
       "      <td>0.00</td>\n",
       "      <td>0.0</td>\n",
       "      <td>0.0</td>\n",
       "      <td>0.0</td>\n",
       "      <td>0.0</td>\n",
       "      <td>0.0</td>\n",
       "      <td>0.0</td>\n",
       "      <td>0.0</td>\n",
       "      <td>0.0</td>\n",
       "    </tr>\n",
       "    <tr>\n",
       "      <th>2015-12-06</th>\n",
       "      <td>0.0</td>\n",
       "      <td>0.00</td>\n",
       "      <td>0.0</td>\n",
       "      <td>0.0</td>\n",
       "      <td>0.0</td>\n",
       "      <td>0.0</td>\n",
       "      <td>0.0</td>\n",
       "      <td>0.0</td>\n",
       "      <td>0.0</td>\n",
       "      <td>0.0</td>\n",
       "    </tr>\n",
       "    <tr>\n",
       "      <th>2015-12-20</th>\n",
       "      <td>0.0</td>\n",
       "      <td>0.00</td>\n",
       "      <td>0.0</td>\n",
       "      <td>0.0</td>\n",
       "      <td>0.0</td>\n",
       "      <td>0.0</td>\n",
       "      <td>0.0</td>\n",
       "      <td>0.0</td>\n",
       "      <td>0.0</td>\n",
       "      <td>0.0</td>\n",
       "    </tr>\n",
       "    <tr>\n",
       "      <th>2016-01-03</th>\n",
       "      <td>0.0</td>\n",
       "      <td>0.00</td>\n",
       "      <td>0.0</td>\n",
       "      <td>0.0</td>\n",
       "      <td>0.0</td>\n",
       "      <td>0.0</td>\n",
       "      <td>0.0</td>\n",
       "      <td>0.0</td>\n",
       "      <td>0.0</td>\n",
       "      <td>0.0</td>\n",
       "    </tr>\n",
       "    <tr>\n",
       "      <th>2016-01-17</th>\n",
       "      <td>0.0</td>\n",
       "      <td>0.00</td>\n",
       "      <td>0.0</td>\n",
       "      <td>0.0</td>\n",
       "      <td>0.0</td>\n",
       "      <td>0.0</td>\n",
       "      <td>0.0</td>\n",
       "      <td>0.0</td>\n",
       "      <td>0.0</td>\n",
       "      <td>0.0</td>\n",
       "    </tr>\n",
       "    <tr>\n",
       "      <th>2016-01-31</th>\n",
       "      <td>0.0</td>\n",
       "      <td>0.00</td>\n",
       "      <td>0.0</td>\n",
       "      <td>0.0</td>\n",
       "      <td>0.0</td>\n",
       "      <td>0.0</td>\n",
       "      <td>0.0</td>\n",
       "      <td>0.0</td>\n",
       "      <td>0.0</td>\n",
       "      <td>0.0</td>\n",
       "    </tr>\n",
       "    <tr>\n",
       "      <th>2016-02-14</th>\n",
       "      <td>0.0</td>\n",
       "      <td>0.00</td>\n",
       "      <td>0.0</td>\n",
       "      <td>0.0</td>\n",
       "      <td>0.0</td>\n",
       "      <td>0.0</td>\n",
       "      <td>0.0</td>\n",
       "      <td>0.0</td>\n",
       "      <td>0.0</td>\n",
       "      <td>0.0</td>\n",
       "    </tr>\n",
       "    <tr>\n",
       "      <th>2016-02-28</th>\n",
       "      <td>0.0</td>\n",
       "      <td>0.00</td>\n",
       "      <td>0.0</td>\n",
       "      <td>0.0</td>\n",
       "      <td>0.0</td>\n",
       "      <td>0.0</td>\n",
       "      <td>0.0</td>\n",
       "      <td>0.0</td>\n",
       "      <td>0.0</td>\n",
       "      <td>0.0</td>\n",
       "    </tr>\n",
       "    <tr>\n",
       "      <th>2016-03-13</th>\n",
       "      <td>0.0</td>\n",
       "      <td>0.00</td>\n",
       "      <td>0.0</td>\n",
       "      <td>0.0</td>\n",
       "      <td>0.0</td>\n",
       "      <td>0.0</td>\n",
       "      <td>0.0</td>\n",
       "      <td>0.0</td>\n",
       "      <td>0.0</td>\n",
       "      <td>0.0</td>\n",
       "    </tr>\n",
       "    <tr>\n",
       "      <th>2016-03-27</th>\n",
       "      <td>0.0</td>\n",
       "      <td>0.00</td>\n",
       "      <td>0.0</td>\n",
       "      <td>0.0</td>\n",
       "      <td>0.0</td>\n",
       "      <td>0.0</td>\n",
       "      <td>0.0</td>\n",
       "      <td>0.0</td>\n",
       "      <td>0.0</td>\n",
       "      <td>0.0</td>\n",
       "    </tr>\n",
       "    <tr>\n",
       "      <th>2016-04-10</th>\n",
       "      <td>0.0</td>\n",
       "      <td>0.00</td>\n",
       "      <td>0.0</td>\n",
       "      <td>0.0</td>\n",
       "      <td>0.0</td>\n",
       "      <td>0.0</td>\n",
       "      <td>0.0</td>\n",
       "      <td>0.0</td>\n",
       "      <td>0.0</td>\n",
       "      <td>0.0</td>\n",
       "    </tr>\n",
       "    <tr>\n",
       "      <th>2016-04-24</th>\n",
       "      <td>0.0</td>\n",
       "      <td>0.00</td>\n",
       "      <td>0.0</td>\n",
       "      <td>0.0</td>\n",
       "      <td>0.0</td>\n",
       "      <td>0.0</td>\n",
       "      <td>0.0</td>\n",
       "      <td>0.0</td>\n",
       "      <td>0.0</td>\n",
       "      <td>0.0</td>\n",
       "    </tr>\n",
       "    <tr>\n",
       "      <th>2016-05-08</th>\n",
       "      <td>0.0</td>\n",
       "      <td>0.00</td>\n",
       "      <td>0.0</td>\n",
       "      <td>0.0</td>\n",
       "      <td>0.0</td>\n",
       "      <td>0.0</td>\n",
       "      <td>0.0</td>\n",
       "      <td>0.0</td>\n",
       "      <td>0.0</td>\n",
       "      <td>0.0</td>\n",
       "    </tr>\n",
       "    <tr>\n",
       "      <th>2016-05-22</th>\n",
       "      <td>0.0</td>\n",
       "      <td>0.00</td>\n",
       "      <td>0.0</td>\n",
       "      <td>0.0</td>\n",
       "      <td>78105.0</td>\n",
       "      <td>186022.0</td>\n",
       "      <td>230733.0</td>\n",
       "      <td>54439.0</td>\n",
       "      <td>0.0</td>\n",
       "      <td>0.0</td>\n",
       "    </tr>\n",
       "    <tr>\n",
       "      <th>2016-06-05</th>\n",
       "      <td>0.0</td>\n",
       "      <td>0.00</td>\n",
       "      <td>0.0</td>\n",
       "      <td>0.0</td>\n",
       "      <td>0.0</td>\n",
       "      <td>0.0</td>\n",
       "      <td>0.0</td>\n",
       "      <td>0.0</td>\n",
       "      <td>0.0</td>\n",
       "      <td>0.0</td>\n",
       "    </tr>\n",
       "    <tr>\n",
       "      <th>2016-06-19</th>\n",
       "      <td>0.0</td>\n",
       "      <td>0.00</td>\n",
       "      <td>0.0</td>\n",
       "      <td>0.0</td>\n",
       "      <td>0.0</td>\n",
       "      <td>0.0</td>\n",
       "      <td>0.0</td>\n",
       "      <td>0.0</td>\n",
       "      <td>0.0</td>\n",
       "      <td>0.0</td>\n",
       "    </tr>\n",
       "    <tr>\n",
       "      <th>2016-07-03</th>\n",
       "      <td>0.0</td>\n",
       "      <td>0.00</td>\n",
       "      <td>0.0</td>\n",
       "      <td>0.0</td>\n",
       "      <td>0.0</td>\n",
       "      <td>0.0</td>\n",
       "      <td>0.0</td>\n",
       "      <td>0.0</td>\n",
       "      <td>0.0</td>\n",
       "      <td>0.0</td>\n",
       "    </tr>\n",
       "  </tbody>\n",
       "</table>\n",
       "</div>"
      ],
      "text/plain": [
       "                  0        1-4      5-9  10-14    15-19     20-24     25-29  \\\n",
       "date_onset                                                                    \n",
       "2015-01-18      0.0       0.00      0.0    0.0      0.0       0.0       0.0   \n",
       "2015-02-01      0.0       0.00      0.0    0.0      0.0       0.0       0.0   \n",
       "2015-02-15      0.0       0.00      0.0    0.0      0.0       0.0       0.0   \n",
       "2015-03-01      0.0       0.00      0.0    0.0      0.0       0.0       0.0   \n",
       "2015-03-15      0.0       0.00      0.0    0.0      0.0       0.0       0.0   \n",
       "2015-03-29      0.0       0.00      0.0    0.0      0.0       0.0       0.0   \n",
       "2015-04-12      0.0       0.00      0.0    0.0      0.0       0.0       0.0   \n",
       "2015-04-26      0.0       0.00      0.0    0.0      0.0       0.0       0.0   \n",
       "2015-05-10      0.0       0.00      0.0    0.0      0.0       0.0       0.0   \n",
       "2015-05-24   8575.5   61962.75  16383.0    0.0      0.0       0.0       0.0   \n",
       "2015-06-07  17151.0  123925.50  32766.0    0.0      0.0       0.0       0.0   \n",
       "2015-06-21   8575.5   61962.75  16383.0    0.0      0.0       0.0       0.0   \n",
       "2015-07-05      0.0       0.00      0.0    0.0      0.0       0.0       0.0   \n",
       "2015-07-19      0.0       0.00      0.0    0.0      0.0       0.0       0.0   \n",
       "2015-08-02      0.0       0.00      0.0    0.0      0.0       0.0       0.0   \n",
       "2015-08-16      0.0       0.00      0.0    0.0      0.0       0.0       0.0   \n",
       "2015-08-30      0.0       0.00      0.0    0.0      0.0       0.0       0.0   \n",
       "2015-09-13      0.0       0.00      0.0    0.0      0.0       0.0       0.0   \n",
       "2015-09-27      0.0       0.00      0.0    0.0      0.0       0.0       0.0   \n",
       "2015-10-11      0.0       0.00      0.0    0.0      0.0       0.0       0.0   \n",
       "2015-10-25      0.0       0.00      0.0    0.0      0.0       0.0       0.0   \n",
       "2015-11-08      0.0       0.00      0.0    0.0      0.0       0.0       0.0   \n",
       "2015-11-22      0.0       0.00      0.0    0.0      0.0       0.0       0.0   \n",
       "2015-12-06      0.0       0.00      0.0    0.0      0.0       0.0       0.0   \n",
       "2015-12-20      0.0       0.00      0.0    0.0      0.0       0.0       0.0   \n",
       "2016-01-03      0.0       0.00      0.0    0.0      0.0       0.0       0.0   \n",
       "2016-01-17      0.0       0.00      0.0    0.0      0.0       0.0       0.0   \n",
       "2016-01-31      0.0       0.00      0.0    0.0      0.0       0.0       0.0   \n",
       "2016-02-14      0.0       0.00      0.0    0.0      0.0       0.0       0.0   \n",
       "2016-02-28      0.0       0.00      0.0    0.0      0.0       0.0       0.0   \n",
       "2016-03-13      0.0       0.00      0.0    0.0      0.0       0.0       0.0   \n",
       "2016-03-27      0.0       0.00      0.0    0.0      0.0       0.0       0.0   \n",
       "2016-04-10      0.0       0.00      0.0    0.0      0.0       0.0       0.0   \n",
       "2016-04-24      0.0       0.00      0.0    0.0      0.0       0.0       0.0   \n",
       "2016-05-08      0.0       0.00      0.0    0.0      0.0       0.0       0.0   \n",
       "2016-05-22      0.0       0.00      0.0    0.0  78105.0  186022.0  230733.0   \n",
       "2016-06-05      0.0       0.00      0.0    0.0      0.0       0.0       0.0   \n",
       "2016-06-19      0.0       0.00      0.0    0.0      0.0       0.0       0.0   \n",
       "2016-07-03      0.0       0.00      0.0    0.0      0.0       0.0       0.0   \n",
       "\n",
       "              30-34  35-39  40+  \n",
       "date_onset                       \n",
       "2015-01-18      0.0    0.0  0.0  \n",
       "2015-02-01      0.0    0.0  0.0  \n",
       "2015-02-15      0.0    0.0  0.0  \n",
       "2015-03-01      0.0    0.0  0.0  \n",
       "2015-03-15      0.0    0.0  0.0  \n",
       "2015-03-29      0.0    0.0  0.0  \n",
       "2015-04-12      0.0    0.0  0.0  \n",
       "2015-04-26      0.0    0.0  0.0  \n",
       "2015-05-10      0.0    0.0  0.0  \n",
       "2015-05-24      0.0    0.0  0.0  \n",
       "2015-06-07      0.0    0.0  0.0  \n",
       "2015-06-21      0.0    0.0  0.0  \n",
       "2015-07-05      0.0    0.0  0.0  \n",
       "2015-07-19      0.0    0.0  0.0  \n",
       "2015-08-02      0.0    0.0  0.0  \n",
       "2015-08-16      0.0    0.0  0.0  \n",
       "2015-08-30      0.0    0.0  0.0  \n",
       "2015-09-13      0.0    0.0  0.0  \n",
       "2015-09-27      0.0    0.0  0.0  \n",
       "2015-10-11      0.0    0.0  0.0  \n",
       "2015-10-25      0.0    0.0  0.0  \n",
       "2015-11-08      0.0    0.0  0.0  \n",
       "2015-11-22      0.0    0.0  0.0  \n",
       "2015-12-06      0.0    0.0  0.0  \n",
       "2015-12-20      0.0    0.0  0.0  \n",
       "2016-01-03      0.0    0.0  0.0  \n",
       "2016-01-17      0.0    0.0  0.0  \n",
       "2016-01-31      0.0    0.0  0.0  \n",
       "2016-02-14      0.0    0.0  0.0  \n",
       "2016-02-28      0.0    0.0  0.0  \n",
       "2016-03-13      0.0    0.0  0.0  \n",
       "2016-03-27      0.0    0.0  0.0  \n",
       "2016-04-10      0.0    0.0  0.0  \n",
       "2016-04-24      0.0    0.0  0.0  \n",
       "2016-05-08      0.0    0.0  0.0  \n",
       "2016-05-22  54439.0    0.0  0.0  \n",
       "2016-06-05      0.0    0.0  0.0  \n",
       "2016-06-19      0.0    0.0  0.0  \n",
       "2016-07-03      0.0    0.0  0.0  "
      ]
     },
     "execution_count": 35,
     "metadata": {},
     "output_type": "execute_result"
    }
   ],
   "source": [
    "sia"
   ]
  },
  {
   "cell_type": "code",
   "execution_count": 36,
   "metadata": {},
   "outputs": [],
   "source": [
    "sia_vacc = sia.cumsum(0).values"
   ]
  },
  {
   "cell_type": "markdown",
   "metadata": {},
   "source": [
    "### Measles dynamics\n",
    "\n",
    "$$\\prod_{t=0}^T Pr(I_t | S_{t-1}, I_{t-1}) Pr(S_t | I_t, S_{t-1})$$"
   ]
  },
  {
   "cell_type": "markdown",
   "metadata": {},
   "source": [
    "Input data"
   ]
  },
  {
   "cell_type": "code",
   "execution_count": 37,
   "metadata": {},
   "outputs": [
    {
     "data": {
      "text/plain": [
       "(39, 10)"
      ]
     },
     "execution_count": 37,
     "metadata": {},
     "output_type": "execute_result"
    }
   ],
   "source": [
    "I = confirmed_counts.values.astype(int)\n",
    "I.shape"
   ]
  },
  {
   "cell_type": "code",
   "execution_count": 38,
   "metadata": {},
   "outputs": [],
   "source": [
    "I_age = I.sum(0)"
   ]
  },
  {
   "cell_type": "code",
   "execution_count": 39,
   "metadata": {},
   "outputs": [
    {
     "data": {
      "text/html": [
       "<div>\n",
       "<style scoped>\n",
       "    .dataframe tbody tr th:only-of-type {\n",
       "        vertical-align: middle;\n",
       "    }\n",
       "\n",
       "    .dataframe tbody tr th {\n",
       "        vertical-align: top;\n",
       "    }\n",
       "\n",
       "    .dataframe thead th {\n",
       "        text-align: right;\n",
       "    }\n",
       "</style>\n",
       "<table border=\"1\" class=\"dataframe\">\n",
       "  <thead>\n",
       "    <tr style=\"text-align: right;\">\n",
       "      <th></th>\n",
       "      <th>id</th>\n",
       "      <th>date_onset</th>\n",
       "      <th>provincecity</th>\n",
       "      <th>dob</th>\n",
       "      <th>age_years</th>\n",
       "      <th>died</th>\n",
       "      <th>confirmed</th>\n",
       "      <th>labconfirmed</th>\n",
       "      <th>date_lab</th>\n",
       "      <th>vaccine_ever</th>\n",
       "      <th>male</th>\n",
       "      <th>month_onset</th>\n",
       "      <th>year_onset</th>\n",
       "    </tr>\n",
       "  </thead>\n",
       "  <tbody>\n",
       "    <tr>\n",
       "      <th>0</th>\n",
       "      <td>389.0</td>\n",
       "      <td>2015-03-30</td>\n",
       "      <td>UB</td>\n",
       "      <td>2014-09-01</td>\n",
       "      <td>0.577686</td>\n",
       "      <td>0.0</td>\n",
       "      <td>1.0</td>\n",
       "      <td>1.0</td>\n",
       "      <td>2015-04-06</td>\n",
       "      <td>0.0</td>\n",
       "      <td>True</td>\n",
       "      <td>3.0</td>\n",
       "      <td>2015.0</td>\n",
       "    </tr>\n",
       "    <tr>\n",
       "      <th>1</th>\n",
       "      <td>707.0</td>\n",
       "      <td>2015-04-03</td>\n",
       "      <td>UB</td>\n",
       "      <td>2013-02-02</td>\n",
       "      <td>2.162902</td>\n",
       "      <td>1.0</td>\n",
       "      <td>1.0</td>\n",
       "      <td>1.0</td>\n",
       "      <td>2015-04-04</td>\n",
       "      <td>0.0</td>\n",
       "      <td>True</td>\n",
       "      <td>4.0</td>\n",
       "      <td>2015.0</td>\n",
       "    </tr>\n",
       "    <tr>\n",
       "      <th>3</th>\n",
       "      <td>2061.0</td>\n",
       "      <td>2015-04-22</td>\n",
       "      <td>UB</td>\n",
       "      <td>2014-09-23</td>\n",
       "      <td>0.577686</td>\n",
       "      <td>0.0</td>\n",
       "      <td>1.0</td>\n",
       "      <td>1.0</td>\n",
       "      <td>2015-04-24</td>\n",
       "      <td>0.0</td>\n",
       "      <td>True</td>\n",
       "      <td>4.0</td>\n",
       "      <td>2015.0</td>\n",
       "    </tr>\n",
       "    <tr>\n",
       "      <th>8</th>\n",
       "      <td>20835.0</td>\n",
       "      <td>2015-11-25</td>\n",
       "      <td>UB</td>\n",
       "      <td>2015-09-01</td>\n",
       "      <td>0.238193</td>\n",
       "      <td>1.0</td>\n",
       "      <td>1.0</td>\n",
       "      <td>1.0</td>\n",
       "      <td>2015-12-01</td>\n",
       "      <td>0.0</td>\n",
       "      <td>True</td>\n",
       "      <td>11.0</td>\n",
       "      <td>2015.0</td>\n",
       "    </tr>\n",
       "    <tr>\n",
       "      <th>9</th>\n",
       "      <td>21053.0</td>\n",
       "      <td>2015-12-02</td>\n",
       "      <td>UB</td>\n",
       "      <td>2014-11-19</td>\n",
       "      <td>1.062286</td>\n",
       "      <td>0.0</td>\n",
       "      <td>1.0</td>\n",
       "      <td>1.0</td>\n",
       "      <td>2015-12-14</td>\n",
       "      <td>0.0</td>\n",
       "      <td>False</td>\n",
       "      <td>12.0</td>\n",
       "      <td>2015.0</td>\n",
       "    </tr>\n",
       "  </tbody>\n",
       "</table>\n",
       "</div>"
      ],
      "text/plain": [
       "        id  date_onset provincecity         dob  age_years  died  confirmed  \\\n",
       "0    389.0  2015-03-30           UB  2014-09-01   0.577686   0.0        1.0   \n",
       "1    707.0  2015-04-03           UB  2013-02-02   2.162902   1.0        1.0   \n",
       "3   2061.0  2015-04-22           UB  2014-09-23   0.577686   0.0        1.0   \n",
       "8  20835.0  2015-11-25           UB  2015-09-01   0.238193   1.0        1.0   \n",
       "9  21053.0  2015-12-02           UB  2014-11-19   1.062286   0.0        1.0   \n",
       "\n",
       "   labconfirmed    date_lab  vaccine_ever   male  month_onset  year_onset  \n",
       "0           1.0  2015-04-06           0.0   True          3.0      2015.0  \n",
       "1           1.0  2015-04-04           0.0   True          4.0      2015.0  \n",
       "3           1.0  2015-04-24           0.0   True          4.0      2015.0  \n",
       "8           1.0  2015-12-01           0.0   True         11.0      2015.0  \n",
       "9           1.0  2015-12-14           0.0  False         12.0      2015.0  "
      ]
     },
     "execution_count": 39,
     "metadata": {},
     "output_type": "execute_result"
    }
   ],
   "source": [
    "lab_samples = line_list.dropna(subset=['date_lab']).copy()\n",
    "lab_samples.head()"
   ]
  },
  {
   "cell_type": "code",
   "execution_count": 40,
   "metadata": {},
   "outputs": [
    {
     "data": {
      "text/plain": [
       "(5846, 13)"
      ]
     },
     "execution_count": 40,
     "metadata": {},
     "output_type": "execute_result"
    }
   ],
   "source": [
    "clinic_confirmed = lab_samples.query('confirmed==1').dropna(subset=['age_years']).copy()\n",
    "clinic_confirmed.shape"
   ]
  },
  {
   "cell_type": "code",
   "execution_count": 41,
   "metadata": {},
   "outputs": [],
   "source": [
    "clinic_confirmed['age_group'] = pd.cut(clinic_confirmed.age_years, age_classes, labels=np.arange(len(age_slices)))"
   ]
  },
  {
   "cell_type": "code",
   "execution_count": 42,
   "metadata": {},
   "outputs": [
    {
     "data": {
      "text/plain": [
       "age_group\n",
       "0    0.768957\n",
       "1    0.657143\n",
       "2    0.791489\n",
       "3    0.503497\n",
       "4    0.528487\n",
       "5    0.539967\n",
       "6    0.533007\n",
       "7    0.752212\n",
       "8    0.727273\n",
       "9    0.372093\n",
       "Name: labconfirmed, dtype: float64"
      ]
     },
     "execution_count": 42,
     "metadata": {},
     "output_type": "execute_result"
    }
   ],
   "source": [
    "clinic_confirmed.dropna(subset=['age_years']).groupby('age_group')['labconfirmed'].mean()"
   ]
  },
  {
   "cell_type": "code",
   "execution_count": 43,
   "metadata": {},
   "outputs": [],
   "source": [
    "age_midpoints = np.array([0.5, 3, 7.5, 12.5, 17.5, 22.5, 27.5, 32.5, 37.5, 70])"
   ]
  },
  {
   "cell_type": "markdown",
   "metadata": {},
   "source": [
    "Model specification"
   ]
  },
  {
   "cell_type": "code",
   "execution_count": 44,
   "metadata": {},
   "outputs": [],
   "source": [
    "from theano import shared, function\n",
    "from theano.tensor.shared_randomstreams import RandomStreams"
   ]
  },
  {
   "cell_type": "code",
   "execution_count": 45,
   "metadata": {},
   "outputs": [],
   "source": [
    "confirmed, age, age_group = clinic_confirmed[['labconfirmed', 'age_years', 'age_group']].values.T"
   ]
  },
  {
   "cell_type": "code",
   "execution_count": 46,
   "metadata": {},
   "outputs": [],
   "source": [
    "age_group = age_group.astype(int)\n",
    "age = age.astype(float)"
   ]
  },
  {
   "cell_type": "code",
   "execution_count": 47,
   "metadata": {},
   "outputs": [],
   "source": [
    "n_knots = 20\n",
    "knots = np.linspace(age.min(), age.max(), n_knots)"
   ]
  },
  {
   "cell_type": "code",
   "execution_count": 49,
   "metadata": {},
   "outputs": [],
   "source": [
    "def interpolate(x0, y0, x):\n",
    "    \n",
    "    idx = np.searchsorted(x0, x)\n",
    "    dl = np.array(x - x0[idx - 1])\n",
    "    dr = np.array(x0[idx] - x)\n",
    "    d = dl + dr\n",
    "    wl = dr / d\n",
    "\n",
    "    return wl * y0[idx - 1] + (1 - wl) * y0[idx]"
   ]
  },
  {
   "cell_type": "code",
   "execution_count": 53,
   "metadata": {},
   "outputs": [],
   "source": [
    "with pm.Model() as model:\n",
    "    \n",
    "    # Confirmation sub-model\n",
    "    σ = pm.HalfNormal('σ', 5)\n",
    "    y = pm.GaussianRandomWalk('y', sd=σ, shape=n_knots)\n",
    "    α = interpolate(knots, y, age)\n",
    "    π = pm.invlogit(α)\n",
    "        \n",
    "    confirmation = pm.Bernoulli('confirmation', π, observed=confirmed)\n",
    "    \n",
    "    # Calculate age group probabilities of confirmation\n",
    "    α_group = interpolate(knots, y, age_midpoints)\n",
    "    p_confirm = pm.Deterministic('p_confirm', pm.invlogit(α_group))\n",
    "    \n",
    "    # Basic reproduction number centered on the dominant eigenvector of the contact matrix\n",
    "    R_0 = pm.Normal('R_0', max(evs[np.isreal(evs)]), sd=3.5)\n",
    "    \n",
    "    # Initial susceptibles (assume no information)\n",
    "    S_0 = pm.Uniform('S_0', 0, N, shape=n_age_classes, testval=N*0.8)\n",
    "    \n",
    "    # Susceptibles over time, removing individuals vaccinated by SIA\n",
    "    S = S_0 - shared(sia_vacc) - shared(I.cumsum(axis=0))\n",
    "    \n",
    "    # Force of infection\n",
    "    λ = S * (I.dot(B_prem_exp) / N) + 0.001\n",
    "    \n",
    "    # Effective reproductive number\n",
    "    R_t = pm.Deterministic('R_t', S.sum(1) * R_0 / N.sum())\n",
    "    \n",
    "    # Adjust for confirmation bias\n",
    "    λ_obs = λ / p_confirm\n",
    "    \n",
    "    # Infections likelihood\n",
    "    infections = pm.Poisson('infections', \n",
    "                            λ_obs[:-1], \n",
    "                            observed=I[1:])\n",
    "\n"
   ]
  },
  {
   "cell_type": "code",
   "execution_count": 54,
   "metadata": {},
   "outputs": [
    {
     "data": {
      "text/plain": [
       "σ_log__              -0.77\n",
       "y                   -43.75\n",
       "R_0                  -2.17\n",
       "S_0_interval__      -18.33\n",
       "confirmation      -4052.14\n",
       "infections       -36429.65\n",
       "Name: Log-probability of test_point, dtype: float64"
      ]
     },
     "execution_count": 54,
     "metadata": {},
     "output_type": "execute_result"
    }
   ],
   "source": [
    "model.check_test_point()"
   ]
  },
  {
   "cell_type": "code",
   "execution_count": 55,
   "metadata": {},
   "outputs": [
    {
     "name": "stderr",
     "output_type": "stream",
     "text": [
      "Auto-assigning NUTS sampler...\n",
      "Initializing NUTS using jitter+adapt_diag...\n",
      "Multiprocess sampling (2 chains in 2 jobs)\n",
      "NUTS: [S_0, R_0, y, σ]\n",
      "Sampling 2 chains: 100%|██████████| 8000/8000 [11:30<00:00, 11.58draws/s]\n",
      "There were 939 divergences after tuning. Increase `target_accept` or reparameterize.\n",
      "There were 935 divergences after tuning. Increase `target_accept` or reparameterize.\n",
      "The gelman-rubin statistic is larger than 1.05 for some parameters. This indicates slight problems during sampling.\n",
      "The estimated number of effective samples is smaller than 200 for some parameters.\n"
     ]
    }
   ],
   "source": [
    "with model:\n",
    "    \n",
    "    trace = pm.sample(1000, tune=3000, cores=2)"
   ]
  },
  {
   "cell_type": "markdown",
   "metadata": {},
   "source": [
    "Convergence check"
   ]
  },
  {
   "cell_type": "code",
   "execution_count": 56,
   "metadata": {},
   "outputs": [
    {
     "data": {
      "image/png": "[encoded data removed]",
      "text/plain": [
       "<Figure size 432x288 with 1 Axes>"
      ]
     },
     "metadata": {},
     "output_type": "display_data"
    }
   ],
   "source": [
    "pm.energyplot(trace);"
   ]
  },
  {
   "cell_type": "markdown",
   "metadata": {},
   "source": [
    "Estimate of initial susceptibles"
   ]
  },
  {
   "cell_type": "code",
   "execution_count": 57,
   "metadata": {},
   "outputs": [
    {
     "data": {
      "text/html": [
       "<div>\n",
       "<style scoped>\n",
       "    .dataframe tbody tr th:only-of-type {\n",
       "        vertical-align: middle;\n",
       "    }\n",
       "\n",
       "    .dataframe tbody tr th {\n",
       "        vertical-align: top;\n",
       "    }\n",
       "\n",
       "    .dataframe thead th {\n",
       "        text-align: right;\n",
       "    }\n",
       "</style>\n",
       "<table border=\"1\" class=\"dataframe\">\n",
       "  <thead>\n",
       "    <tr style=\"text-align: right;\">\n",
       "      <th></th>\n",
       "      <th>mean</th>\n",
       "      <th>sd</th>\n",
       "      <th>mc_error</th>\n",
       "      <th>hpd_2.5</th>\n",
       "      <th>hpd_97.5</th>\n",
       "      <th>n_eff</th>\n",
       "      <th>Rhat</th>\n",
       "    </tr>\n",
       "  </thead>\n",
       "  <tbody>\n",
       "    <tr>\n",
       "      <th>S_0__0</th>\n",
       "      <td>46015.0</td>\n",
       "      <td>155.0</td>\n",
       "      <td>11.0</td>\n",
       "      <td>45727.0</td>\n",
       "      <td>46313.0</td>\n",
       "      <td>129.0</td>\n",
       "      <td>1.0</td>\n",
       "    </tr>\n",
       "    <tr>\n",
       "      <th>S_0__1</th>\n",
       "      <td>251071.0</td>\n",
       "      <td>141.0</td>\n",
       "      <td>10.0</td>\n",
       "      <td>250806.0</td>\n",
       "      <td>251328.0</td>\n",
       "      <td>124.0</td>\n",
       "      <td>1.0</td>\n",
       "    </tr>\n",
       "    <tr>\n",
       "      <th>S_0__2</th>\n",
       "      <td>77225.0</td>\n",
       "      <td>508.0</td>\n",
       "      <td>37.0</td>\n",
       "      <td>76234.0</td>\n",
       "      <td>78175.0</td>\n",
       "      <td>78.0</td>\n",
       "      <td>1.0</td>\n",
       "    </tr>\n",
       "    <tr>\n",
       "      <th>S_0__3</th>\n",
       "      <td>2711.0</td>\n",
       "      <td>195.0</td>\n",
       "      <td>15.0</td>\n",
       "      <td>2365.0</td>\n",
       "      <td>3096.0</td>\n",
       "      <td>89.0</td>\n",
       "      <td>1.0</td>\n",
       "    </tr>\n",
       "    <tr>\n",
       "      <th>S_0__4</th>\n",
       "      <td>85251.0</td>\n",
       "      <td>35.0</td>\n",
       "      <td>3.0</td>\n",
       "      <td>85225.0</td>\n",
       "      <td>85322.0</td>\n",
       "      <td>96.0</td>\n",
       "      <td>1.0</td>\n",
       "    </tr>\n",
       "    <tr>\n",
       "      <th>S_0__5</th>\n",
       "      <td>192223.0</td>\n",
       "      <td>120.0</td>\n",
       "      <td>11.0</td>\n",
       "      <td>192144.0</td>\n",
       "      <td>192344.0</td>\n",
       "      <td>30.0</td>\n",
       "      <td>1.0</td>\n",
       "    </tr>\n",
       "    <tr>\n",
       "      <th>S_0__6</th>\n",
       "      <td>234251.0</td>\n",
       "      <td>67.0</td>\n",
       "      <td>5.0</td>\n",
       "      <td>234166.0</td>\n",
       "      <td>234378.0</td>\n",
       "      <td>119.0</td>\n",
       "      <td>1.0</td>\n",
       "    </tr>\n",
       "    <tr>\n",
       "      <th>S_0__7</th>\n",
       "      <td>57381.0</td>\n",
       "      <td>139.0</td>\n",
       "      <td>10.0</td>\n",
       "      <td>57139.0</td>\n",
       "      <td>57640.0</td>\n",
       "      <td>140.0</td>\n",
       "      <td>1.0</td>\n",
       "    </tr>\n",
       "    <tr>\n",
       "      <th>S_0__8</th>\n",
       "      <td>5957.0</td>\n",
       "      <td>513.0</td>\n",
       "      <td>38.0</td>\n",
       "      <td>5022.0</td>\n",
       "      <td>7020.0</td>\n",
       "      <td>125.0</td>\n",
       "      <td>1.0</td>\n",
       "    </tr>\n",
       "    <tr>\n",
       "      <th>S_0__9</th>\n",
       "      <td>6264.0</td>\n",
       "      <td>2660.0</td>\n",
       "      <td>204.0</td>\n",
       "      <td>2106.0</td>\n",
       "      <td>11515.0</td>\n",
       "      <td>70.0</td>\n",
       "      <td>1.0</td>\n",
       "    </tr>\n",
       "  </tbody>\n",
       "</table>\n",
       "</div>"
      ],
      "text/plain": [
       "            mean      sd  mc_error   hpd_2.5  hpd_97.5  n_eff  Rhat\n",
       "S_0__0   46015.0   155.0      11.0   45727.0   46313.0  129.0   1.0\n",
       "S_0__1  251071.0   141.0      10.0  250806.0  251328.0  124.0   1.0\n",
       "S_0__2   77225.0   508.0      37.0   76234.0   78175.0   78.0   1.0\n",
       "S_0__3    2711.0   195.0      15.0    2365.0    3096.0   89.0   1.0\n",
       "S_0__4   85251.0    35.0       3.0   85225.0   85322.0   96.0   1.0\n",
       "S_0__5  192223.0   120.0      11.0  192144.0  192344.0   30.0   1.0\n",
       "S_0__6  234251.0    67.0       5.0  234166.0  234378.0  119.0   1.0\n",
       "S_0__7   57381.0   139.0      10.0   57139.0   57640.0  140.0   1.0\n",
       "S_0__8    5957.0   513.0      38.0    5022.0    7020.0  125.0   1.0\n",
       "S_0__9    6264.0  2660.0     204.0    2106.0   11515.0   70.0   1.0"
      ]
     },
     "execution_count": 57,
     "metadata": {},
     "output_type": "execute_result"
    }
   ],
   "source": [
    "pm.summary(trace, varnames=['S_0']).round(0)"
   ]
  },
  {
   "attachments": {
    "table.png": {
     "image/png": "[encoded data removed]"
    }
   },
   "cell_type": "markdown",
   "metadata": {},
   "source": [
    "For comparison, estimates without confirmation bias correction:\n",
    "\n",
    "![table.png](attachment:table.png)"
   ]
  },
  {
   "cell_type": "code",
   "execution_count": 58,
   "metadata": {},
   "outputs": [
    {
     "data": {
      "text/plain": [
       "GridSpec(1, 1)"
      ]
     },
     "execution_count": 58,
     "metadata": {},
     "output_type": "execute_result"
    },
    {
     "data": {
      "image/png": "[encoded data removed]",
      "text/plain": [
       "<Figure size 432x288 with 1 Axes>"
      ]
     },
     "metadata": {
      "needs_background": "light"
     },
     "output_type": "display_data"
    }
   ],
   "source": [
    "pm.forestplot(trace, varnames=['S_0'], ylabels=age_labels, rhat=False)"
   ]
  },
  {
   "cell_type": "code",
   "execution_count": 59,
   "metadata": {},
   "outputs": [
    {
     "data": {
      "image/png": "[encoded data removed]",
      "text/plain": [
       "<Figure size 864x144 with 2 Axes>"
      ]
     },
     "metadata": {
      "needs_background": "light"
     },
     "output_type": "display_data"
    }
   ],
   "source": [
    "pm.traceplot(trace, varnames=['R_0']);"
   ]
  },
  {
   "cell_type": "markdown",
   "metadata": {},
   "source": [
    "Trajectory of effective R"
   ]
  },
  {
   "cell_type": "code",
   "execution_count": 60,
   "metadata": {},
   "outputs": [
    {
     "data": {
      "text/plain": [
       "GridSpec(1, 2, width_ratios=[3, 1])"
      ]
     },
     "execution_count": 60,
     "metadata": {},
     "output_type": "execute_result"
    },
    {
     "data": {
      "image/png": "[encoded data removed]",
      "text/plain": [
       "<Figure size 432x288 with 2 Axes>"
      ]
     },
     "metadata": {
      "needs_background": "light"
     },
     "output_type": "display_data"
    }
   ],
   "source": [
    "pm.forestplot(trace, varnames=['R_t'])"
   ]
  },
  {
   "cell_type": "markdown",
   "metadata": {},
   "source": [
    "Prior for vaccine efficacy coefficient"
   ]
  },
  {
   "cell_type": "code",
   "execution_count": 81,
   "metadata": {},
   "outputs": [
    {
     "data": {
      "text/plain": [
       "(array([  1.,   1.,   3.,   3.,  17.,  29.,  56., 147., 262., 481.]),\n",
       " array([0.47823629, 0.5304097 , 0.58258311, 0.63475652, 0.68692992,\n",
       "        0.73910333, 0.79127674, 0.84345015, 0.89562356, 0.94779696,\n",
       "        0.99997037]),\n",
       " <a list of 10 Patch objects>)"
      ]
     },
     "execution_count": 81,
     "metadata": {},
     "output_type": "execute_result"
    },
    {
     "data": {
      "image/png": "[encoded data removed]",
      "text/plain": [
       "<Figure size 432x288 with 1 Axes>"
      ]
     },
     "metadata": {
      "needs_background": "light"
     },
     "output_type": "display_data"
    }
   ],
   "source": [
    "plt.hist(pm.Beta.dist(12, 1).random(size=1000))"
   ]
  },
  {
   "cell_type": "code",
   "execution_count": 61,
   "metadata": {},
   "outputs": [],
   "source": [
    "with pm.Model() as uncertain_vacc_model:\n",
    "    \n",
    "    # Confirmation sub-model\n",
    "    σ = pm.HalfNormal('σ', 5)\n",
    "    y = pm.GaussianRandomWalk('y', sd=σ, shape=n_knots)\n",
    "    α = interpolate(knots, y, age)\n",
    "    π = pm.invlogit(α)\n",
    "        \n",
    "    confirmation = pm.Bernoulli('confirmation', π, observed=confirmed)\n",
    "    \n",
    "    # Calculate age group probabilities of confirmation\n",
    "    α_group = interpolate(knots, y, age_midpoints)\n",
    "    p_confirm = pm.Deterministic('p_confirm', pm.invlogit(α_group))\n",
    "    \n",
    "    # Basic reproduction number centered on the dominant eigenvector of the contact matrix\n",
    "    R_0 = pm.Normal('R_0', max(evs[np.isreal(evs)]), sd=3.5)\n",
    "    \n",
    "    # Initial susceptibles (assume no information)\n",
    "    S_0 = pm.Uniform('S_0', 0, N, shape=n_age_classes, testval=N*0.8)\n",
    "    \n",
    "    #p_vacc = pm.Beta('p_vacc', 12, 1, shape=n_age_classes)\n",
    "    # Setting efficacy to a constant\n",
    "    p_vacc = efficacy\n",
    "    \n",
    "    # Susceptibles over time, removing individuals vaccinated by SIA\n",
    "    S = S_0 - sia_vacc*p_vacc - shared(I.cumsum(axis=0))\n",
    "    \n",
    "    # Force of infection\n",
    "    λ = S * (I.dot(B_prem_exp) / N) + 0.001\n",
    "    \n",
    "    # Effective reproductive number\n",
    "    R_t = pm.Deterministic('R_t', S.sum(1) * R_0 / N.sum())\n",
    "    \n",
    "    # Adjust for confirmation bias\n",
    "    λ_apparent = λ / p_confirm\n",
    "    \n",
    "    # Infections likelihood\n",
    "    infections = pm.Poisson('infections', λ_apparent[:-1], observed=I[1:])\n",
    "\n"
   ]
  },
  {
   "cell_type": "code",
   "execution_count": 62,
   "metadata": {},
   "outputs": [
    {
     "data": {
      "text/plain": [
       "σ_log__               -0.77\n",
       "y                    -43.75\n",
       "R_0                   -2.17\n",
       "S_0_interval__       -18.33\n",
       "confirmation       -4052.14\n",
       "infections       -801716.69\n",
       "Name: Log-probability of test_point, dtype: float64"
      ]
     },
     "execution_count": 62,
     "metadata": {},
     "output_type": "execute_result"
    }
   ],
   "source": [
    "uncertain_vacc_model.check_test_point()"
   ]
  },
  {
   "cell_type": "code",
   "execution_count": 63,
   "metadata": {},
   "outputs": [
    {
     "name": "stderr",
     "output_type": "stream",
     "text": [
      "Auto-assigning NUTS sampler...\n",
      "Initializing NUTS using jitter+adapt_diag...\n",
      "Multiprocess sampling (2 chains in 2 jobs)\n",
      "NUTS: [S_0, R_0, y, σ]\n",
      "Sampling 2 chains: 100%|██████████| 6000/6000 [08:07<00:00, 12.31draws/s]\n",
      "There was 1 divergence after tuning. Increase `target_accept` or reparameterize.\n",
      "There were 12 divergences after tuning. Increase `target_accept` or reparameterize.\n"
     ]
    }
   ],
   "source": [
    "with uncertain_vacc_model:\n",
    "    \n",
    "    unc_trace = pm.sample(1000, tune=2000, cores=2)"
   ]
  },
  {
   "cell_type": "code",
   "execution_count": 65,
   "metadata": {},
   "outputs": [
    {
     "data": {
      "image/png": "[encoded data removed]",
      "text/plain": [
       "<Figure size 432x288 with 1 Axes>"
      ]
     },
     "metadata": {},
     "output_type": "display_data"
    }
   ],
   "source": [
    "pm.energyplot(unc_trace);"
   ]
  },
  {
   "cell_type": "code",
   "execution_count": 74,
   "metadata": {},
   "outputs": [],
   "source": [
    "if 'p_vacc_interval__' in [v.name for v in uncertain_vacc_model.free_RVs]:\n",
    "    pm.forestplot(unc_trace, varnames=['p_vacc'], ylabels=age_labels, rhat=False)"
   ]
  },
  {
   "cell_type": "code",
   "execution_count": 75,
   "metadata": {},
   "outputs": [
    {
     "data": {
      "text/plain": [
       "GridSpec(1, 2, width_ratios=[3, 1])"
      ]
     },
     "execution_count": 75,
     "metadata": {},
     "output_type": "execute_result"
    },
    {
     "data": {
      "image/png": "[encoded data removed]",
      "text/plain": [
       "<Figure size 432x288 with 2 Axes>"
      ]
     },
     "metadata": {
      "needs_background": "light"
     },
     "output_type": "display_data"
    }
   ],
   "source": [
    "pm.forestplot(unc_trace, varnames=['R_t'])"
   ]
  },
  {
   "cell_type": "code",
   "execution_count": 76,
   "metadata": {},
   "outputs": [
    {
     "data": {
      "text/plain": [
       "GridSpec(1, 1)"
      ]
     },
     "execution_count": 76,
     "metadata": {},
     "output_type": "execute_result"
    },
    {
     "data": {
      "image/png": "[encoded data removed]",
      "text/plain": [
       "<Figure size 432x288 with 1 Axes>"
      ]
     },
     "metadata": {
      "needs_background": "light"
     },
     "output_type": "display_data"
    }
   ],
   "source": [
    "pm.forestplot(unc_trace, varnames=['S_0'], ylabels=age_labels, rhat=False)"
   ]
  }
 ],
 "metadata": {
  "kernelspec": {
   "display_name": "Python 3",
   "language": "python",
   "name": "python3"
  },
  "language_info": {
   "codemirror_mode": {
    "name": "ipython",
    "version": 3
   },
   "file_extension": ".py",
   "mimetype": "text/x-python",
   "name": "python",
   "nbconvert_exporter": "python",
   "pygments_lexer": "ipython3",
   "version": "3.7.1"
  }
 },
 "nbformat": 4,
 "nbformat_minor": 2
}
